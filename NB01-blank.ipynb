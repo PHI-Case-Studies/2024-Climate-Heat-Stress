{
 "cells": [
  {
   "cell_type": "code",
   "execution_count": null,
   "id": "b8a7ab43-87d6-4fad-8040-421d3fecf662",
   "metadata": {},
   "outputs": [],
   "source": []
  }
 ],
 "metadata": {
  "kernelspec": {
   "display_name": "Python [conda env:osmnx-py3] *",
   "language": "python",
   "name": "conda-env-osmnx-py3-py"
  },
  "language_info": {
   "codemirror_mode": {
    "name": "ipython",
    "version": 3
   },
   "file_extension": ".py",
   "mimetype": "text/x-python",
   "name": "python",
   "nbconvert_exporter": "python",
   "pygments_lexer": "ipython3",
   "version": "3.9.9"
  }
 },
 "nbformat": 4,
 "nbformat_minor": 5
}
