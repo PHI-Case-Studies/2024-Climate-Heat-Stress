{
 "cells": [
  {
   "cell_type": "markdown",
   "id": "aae77b03-fd96-4394-9817-577f089aed88",
   "metadata": {},
   "source": [
    "## INTRODUCTION AND BACKGROUND"
   ]
  },
  {
   "cell_type": "code",
   "execution_count": null,
   "id": "2836cb4f-7d16-4544-9542-6acb2ace4c6b",
   "metadata": {},
   "outputs": [],
   "source": []
  },
  {
   "cell_type": "markdown",
   "id": "4ea6a09f-e71e-49da-8d9c-db93eead4b8e",
   "metadata": {},
   "source": [
    "## Set up of a simulated environment with variables such as temperature, population, and resources"
   ]
  },
  {
   "cell_type": "code",
   "execution_count": null,
   "id": "6ebcf12d-6640-4cb9-b882-81e0ec55bf1b",
   "metadata": {},
   "outputs": [],
   "source": []
  },
  {
   "cell_type": "code",
   "execution_count": null,
   "id": "c0974f7f-4f5d-4450-a281-0aee0658aeda",
   "metadata": {},
   "outputs": [],
   "source": []
  },
  {
   "cell_type": "code",
   "execution_count": null,
   "id": "8288711d-6293-42da-b698-3dcdbf767582",
   "metadata": {},
   "outputs": [],
   "source": []
  },
  {
   "cell_type": "markdown",
   "id": "5efbbdab-02f0-408e-964e-e17a46c94920",
   "metadata": {},
   "source": [
    "##  Decision-making scenarios where players chose actions to adapt to and mitigate heat-stress"
   ]
  },
  {
   "cell_type": "code",
   "execution_count": null,
   "id": "c86189ed-4458-4bf1-bf28-7a1db469fedc",
   "metadata": {},
   "outputs": [],
   "source": []
  },
  {
   "cell_type": "code",
   "execution_count": null,
   "id": "40ae1c33-ab47-4858-b240-d80a3f2b5172",
   "metadata": {},
   "outputs": [],
   "source": []
  },
  {
   "cell_type": "markdown",
   "id": "cd1e64b8-0fdf-40c1-a6f9-d56eeaedaaf7",
   "metadata": {},
   "source": [
    "## Real-time feedback and consequences of decisions"
   ]
  },
  {
   "cell_type": "code",
   "execution_count": null,
   "id": "0fd76987-4439-4236-a570-bc79faa60a68",
   "metadata": {},
   "outputs": [],
   "source": []
  },
  {
   "cell_type": "code",
   "execution_count": null,
   "id": "7a36e49f-6d06-47d1-852f-3b2f8583bc67",
   "metadata": {},
   "outputs": [],
   "source": []
  },
  {
   "cell_type": "code",
   "execution_count": null,
   "id": "e42ceb14-f98b-4bb3-aac7-79cd8e1970b0",
   "metadata": {},
   "outputs": [],
   "source": []
  },
  {
   "cell_type": "markdown",
   "id": "e98a95e0-abef-4e0d-90a7-3ff8fb3caf18",
   "metadata": {},
   "source": [
    "## Exercise:  Optimize strategies to achieve the best outcomes"
   ]
  },
  {
   "cell_type": "code",
   "execution_count": null,
   "id": "ae94e02d-9369-4514-976c-bb648df689f0",
   "metadata": {},
   "outputs": [],
   "source": []
  },
  {
   "cell_type": "code",
   "execution_count": null,
   "id": "a43bc7de-c46b-47b8-9cb4-e90f1ff0012d",
   "metadata": {},
   "outputs": [],
   "source": []
  },
  {
   "cell_type": "code",
   "execution_count": null,
   "id": "0602200e-1c57-411a-967c-7a1e083f3aac",
   "metadata": {},
   "outputs": [],
   "source": []
  },
  {
   "cell_type": "markdown",
   "id": "2aeb51cd-1ebf-4bea-b46a-8cb762b250b6",
   "metadata": {},
   "source": [
    "## Interactive quiz to test knowledge"
   ]
  },
  {
   "cell_type": "code",
   "execution_count": null,
   "id": "b813ed42-76cc-4e02-b553-aeab8b8a0538",
   "metadata": {},
   "outputs": [],
   "source": []
  },
  {
   "cell_type": "code",
   "execution_count": null,
   "id": "984d484a-71ad-472f-b0ad-4f9be06639cc",
   "metadata": {},
   "outputs": [],
   "source": []
  },
  {
   "cell_type": "markdown",
   "id": "ede9a4ff-d5d9-46ae-8eb0-b4bfac4e077a",
   "metadata": {},
   "source": [
    "## References"
   ]
  },
  {
   "cell_type": "code",
   "execution_count": null,
   "id": "9cf0b27c-7bea-49d2-9936-b4adc780c730",
   "metadata": {},
   "outputs": [],
   "source": []
  },
  {
   "cell_type": "code",
   "execution_count": null,
   "id": "b74ce0ca-b2b4-441a-85ef-e77b20ac08b7",
   "metadata": {},
   "outputs": [],
   "source": []
  },
  {
   "cell_type": "code",
   "execution_count": null,
   "id": "b3a0b78b-4a2c-4684-9e39-a425c14baab1",
   "metadata": {},
   "outputs": [],
   "source": []
  },
  {
   "cell_type": "code",
   "execution_count": null,
   "id": "24402424-7e56-4749-b267-d23bc3416205",
   "metadata": {},
   "outputs": [],
   "source": []
  },
  {
   "cell_type": "code",
   "execution_count": null,
   "id": "d99193d4-a5db-4cda-a50c-3fdda3238369",
   "metadata": {},
   "outputs": [],
   "source": []
  },
  {
   "cell_type": "code",
   "execution_count": null,
   "id": "80189ec9-09eb-4009-bdbc-d431dadd720e",
   "metadata": {},
   "outputs": [],
   "source": []
  }
 ],
 "metadata": {
  "kernelspec": {
   "display_name": "Python [conda env:osmnx-py3] *",
   "language": "python",
   "name": "conda-env-osmnx-py3-py"
  },
  "language_info": {
   "codemirror_mode": {
    "name": "ipython",
    "version": 3
   },
   "file_extension": ".py",
   "mimetype": "text/x-python",
   "name": "python",
   "nbconvert_exporter": "python",
   "pygments_lexer": "ipython3",
   "version": "3.9.9"
  }
 },
 "nbformat": 4,
 "nbformat_minor": 5
}
