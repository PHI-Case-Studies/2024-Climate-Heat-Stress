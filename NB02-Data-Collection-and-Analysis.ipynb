{
 "cells": [
  {
   "cell_type": "markdown",
   "id": "aae77b03-fd96-4394-9817-577f089aed88",
   "metadata": {},
   "source": [
    "## INTRODUCTION AND BACKGROUND"
   ]
  },
  {
   "cell_type": "code",
   "execution_count": null,
   "id": "2836cb4f-7d16-4544-9542-6acb2ace4c6b",
   "metadata": {},
   "outputs": [],
   "source": []
  },
  {
   "cell_type": "code",
   "execution_count": null,
   "id": "90d22c03-d4ea-48e2-8c8d-bfdd1225efe5",
   "metadata": {},
   "outputs": [],
   "source": []
  },
  {
   "cell_type": "markdown",
   "id": "529b2c4f-7ec8-4df7-940f-92afc3a78ab9",
   "metadata": {},
   "source": [
    "## Introduction to Data Sources (e.g., NOAA, NASA, WHO)"
   ]
  },
  {
   "cell_type": "code",
   "execution_count": null,
   "id": "43b30a60-2a2f-42ee-ac51-8fb526d083c4",
   "metadata": {},
   "outputs": [],
   "source": []
  },
  {
   "cell_type": "code",
   "execution_count": null,
   "id": "d7947aa6-ffbe-468a-9c9f-2ceb006461b3",
   "metadata": {},
   "outputs": [],
   "source": []
  },
  {
   "cell_type": "markdown",
   "id": "0a66115b-b3b6-4bad-b4b7-5d0bfe33dba1",
   "metadata": {},
   "source": [
    "## Instructions for downloading and cleaning data"
   ]
  },
  {
   "cell_type": "code",
   "execution_count": null,
   "id": "e9b67d30-8d30-4b6d-bca7-5b77cd3dc495",
   "metadata": {},
   "outputs": [],
   "source": []
  },
  {
   "cell_type": "code",
   "execution_count": null,
   "id": "8754f7e9-5ad5-44a0-8345-087000684451",
   "metadata": {},
   "outputs": [],
   "source": []
  },
  {
   "cell_type": "code",
   "execution_count": null,
   "id": "897be932-7710-47b0-9dc9-dbdcfa4a6dad",
   "metadata": {},
   "outputs": [],
   "source": []
  },
  {
   "cell_type": "markdown",
   "id": "1bebe07c-1b44-4d14-8c73-2502a8061b31",
   "metadata": {},
   "source": [
    "## Data visualization techniques (e.g. plotting temperature trends)"
   ]
  },
  {
   "cell_type": "code",
   "execution_count": null,
   "id": "47c8aa3f-0a4e-477b-8a02-de127f09b334",
   "metadata": {},
   "outputs": [],
   "source": []
  },
  {
   "cell_type": "code",
   "execution_count": null,
   "id": "9ef24985-05d7-4cba-8bc1-27a9965c7669",
   "metadata": {},
   "outputs": [],
   "source": [
    "import pandas as pd\n",
    "import matplotlib.pyplot as plt\n",
    "\n",
    "# Load sample temperature data\n",
    "data = pd.read_csv('temperature_data.csv')\n",
    "\n",
    "# Plot temperature trends\n",
    "plt.figure(figsize=(10, 6))\n",
    "plt.plot(data['Year'], data['Temperature'], marker='o')\n",
    "plt.title('Temperature Trends Over Time')\n",
    "plt.xlabel('Year')\n",
    "plt.ylabel('Temperature (°C)')\n",
    "plt.grid(True)\n",
    "plt.show()"
   ]
  },
  {
   "cell_type": "code",
   "execution_count": null,
   "id": "28f5363b-d148-4e72-bc02-03abf020c91d",
   "metadata": {},
   "outputs": [],
   "source": []
  },
  {
   "cell_type": "markdown",
   "id": "54885f65-6dd5-4f95-a5d9-ad5f241681cf",
   "metadata": {},
   "source": [
    "## Exercise:  Analyze temperature data for a chosen region"
   ]
  },
  {
   "cell_type": "code",
   "execution_count": null,
   "id": "8563bfe2-90a1-4674-b251-081aced165d7",
   "metadata": {},
   "outputs": [],
   "source": []
  },
  {
   "cell_type": "code",
   "execution_count": null,
   "id": "65934611-c812-4917-851f-3e34b268c752",
   "metadata": {},
   "outputs": [],
   "source": []
  },
  {
   "cell_type": "code",
   "execution_count": null,
   "id": "00c40181-1092-44bc-842d-522efcd5cb6d",
   "metadata": {},
   "outputs": [],
   "source": []
  },
  {
   "cell_type": "markdown",
   "id": "82a1aa70-2470-4306-9240-9b471ca7788a",
   "metadata": {},
   "source": [
    "## Interactive quiz to test understanding"
   ]
  },
  {
   "cell_type": "code",
   "execution_count": null,
   "id": "15b08d85-e529-4ddd-afa8-41288f5087fd",
   "metadata": {},
   "outputs": [],
   "source": []
  },
  {
   "cell_type": "code",
   "execution_count": null,
   "id": "f0155981-a567-407e-8b32-5143257bbd21",
   "metadata": {},
   "outputs": [],
   "source": []
  },
  {
   "cell_type": "markdown",
   "id": "2bfcbe83-c725-43c4-b980-b7353da29bb2",
   "metadata": {},
   "source": [
    "## References"
   ]
  },
  {
   "cell_type": "code",
   "execution_count": null,
   "id": "a22e2825-e75c-4edb-8620-3cc380f13740",
   "metadata": {},
   "outputs": [],
   "source": []
  }
 ],
 "metadata": {
  "kernelspec": {
   "display_name": "Python [conda env:osmnx-py3] *",
   "language": "python",
   "name": "conda-env-osmnx-py3-py"
  },
  "language_info": {
   "codemirror_mode": {
    "name": "ipython",
    "version": 3
   },
   "file_extension": ".py",
   "mimetype": "text/x-python",
   "name": "python",
   "nbconvert_exporter": "python",
   "pygments_lexer": "ipython3",
   "version": "3.9.9"
  }
 },
 "nbformat": 4,
 "nbformat_minor": 5
}
