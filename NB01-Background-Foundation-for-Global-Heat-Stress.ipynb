{
 "cells": [
  {
   "cell_type": "markdown",
   "id": "d6592dab-9ceb-4e63-ab79-ba2fb8e40b17",
   "metadata": {
    "jp-MarkdownHeadingCollapsed": true
   },
   "source": [
    "# Objectives:\n",
    "This notebook will use videos and text to introduce concepts foundational concepts for understanding global stress including:\n",
    "\n",
    "1. Review some background information regarding Global Heat Stress and HIV.\n",
    "2. Heat Stress introductory video\n",
    "3. What is the Greenhouse effect ?, CO2 Emissions, and Representative Concentration Pathways (RCPs) ?\n",
    "4. Why is heat stress a silent killer within cities of India and other cities across the globe?\n",
    "5. What are Urban Heat Islands ? and how do these increase heat within cities ?\n",
    "6. How is the city of Singapore using Science to keep cool ?\n",
    "7. What is the European Space Agency (ESA) Copernicus Program ?\n",
    "8. What is the Copernicus Climate Data Store ?   What is the Climate Data Store API (CDSAPI) ?\n",
    "9.  What are the Coupled Model Intercomparison Project Phase 6 (CMIP6) extreme temperature data ?\n",
    "10.  What are netcdf4 files and how do these files store climate data ?   How do we use a python libraries such as xarray, to read and use netcdf4 files ?"
   ]
  },
  {
   "cell_type": "markdown",
   "id": "e860aff4-a694-47e3-b6c7-a18d12d25b7c",
   "metadata": {},
   "source": [
    "# Understanding Global Heat Stress\n",
    "In this notebook, we will explore data related to global heat stress, which is a growing concern due to climate change.\n",
    "Heat stress is a combination of high temperatures and humidity that poses significant risks to human health, especially\n",
    "in vulnerable regions. By analyzing data, we can gain insights into the patterns and potential impacts of heat stress around the world.\n",
    "\n",
    "\n"
   ]
  },
  {
   "cell_type": "markdown",
   "id": "6a49307e-05f6-4c6f-b6e6-c4d1d7fdc158",
   "metadata": {},
   "source": [
    "# Global Heat Stress and Its Impact on Global Health and HIV Programs by 2030\n",
    "- Global heat stress is an escalating environmental health threat driven by climate change, characterized by rising temperatures and more frequent heatwaves. \n",
    "- By 2030, the frequency and intensity of heat stress events are projected to increase significantly, posing severe risks to global health and well-being. \n",
    "- This phenomenon not only affects physical health, causing heat-related illnesses and exacerbating chronic conditions, but also has far-reaching socio-economic and environmental impacts.\n",
    "\n",
    "### Impact on Global Health\n",
    "- The direct health consequences of heat stress include dehydration, heat exhaustion, heat stroke, and an increase in mortality rates, \n",
    "particularly among vulnerable populations such as the elderly, children, and those with pre-existing health conditions.\n",
    "- Indirectly, heat stress can worsen air quality by increasing ground-level ozone and particulate matter, leading to respiratory and cardiovascular problems. \n",
    "- Furthermore, higher temperatures can enhance the spread of vector-borne diseases, such as malaria and dengue fever, by extending the habitats of mosquitoes and other vectors.\n",
    "\n",
    "### Relevance to Global HIV Programs\n",
    " - Heat stress has specific implications for individuals living with HIV/AIDS. High temperatures can complicate the management of HIV by affecting the stability and effectiveness\n",
    "of antiretroviral medications, potentially leading to reduced adherence and increased drug resistance.\n",
    " - Heat-related illnesses can further weaken the immune systems of HIV-positive individuals,\n",
    "making them more susceptible to opportunistic infections.\n",
    " - Additionally, the social and economic disruptions caused by extreme heat events can impede access to healthcare services, support networks, and essential medications.\n",
    "\n",
    "### Importance for Global Health and HIV Programs\n",
    "- Addressing the challenges posed by global heat stress requires a multi-faceted approach. Public health strategies must prioritize heat adaptation measures, \n",
    "such as developing early warning systems, creating cooling centers, and promoting community awareness about the dangers of extreme heat.\n",
    "- Enhancing urban planning to incorporate green spaces and improving building designs to reduce heat absorption are also critical.\n",
    "\n",
    "- For global HIV programs, integrating climate resilience into healthcare delivery is essential. \n",
    "- This includes ensuring the heat stability of antiretroviral drugs (Arya, 2002), training healthcare workers to recognize and manage heat-related complications in HIV patients,\n",
    "and developing contingency plans to maintain uninterrupted access to HIV care during extreme heat events.\n",
    "\n",
    "- By 2030, concerted efforts to mitigate and adapt to the impacts of global heat stress will be crucial for safeguarding public health and ensuring the sustainability of HIV programs. \n",
    "- Collaboration across sectors, including health, environment, and urban planning, will be key to building resilient communities and protecting vulnerable populations from the growing threat of heat stress."
   ]
  },
  {
   "cell_type": "markdown",
   "id": "76e0b94b-809d-443f-bfb5-b72ff6ef02ad",
   "metadata": {
    "tags": []
   },
   "source": [
    "# Global Heat Stress sounds terrible...but what is Heat Stress ?"
   ]
  },
  {
   "cell_type": "code",
   "execution_count": 1,
   "id": "213013a8-f794-4423-9b62-e4bda4c5855b",
   "metadata": {
    "tags": []
   },
   "outputs": [
    {
     "data": {
      "image/jpeg": "[encoded data removed]",
      "text/html": [
       "\n",
       "        <iframe\n",
       "            width=\"500\"\n",
       "            height=\"300\"\n",
       "            src=\"https://www.youtube.com/embed/str9o7sHd9E\"\n",
       "            frameborder=\"0\"\n",
       "            allowfullscreen\n",
       "            \n",
       "        ></iframe>\n",
       "        "
      ],
      "text/plain": [
       "<IPython.lib.display.YouTubeVideo at 0x261af09eda0>"
      ]
     },
     "execution_count": 1,
     "metadata": {},
     "output_type": "execute_result"
    }
   ],
   "source": [
    "## Play the Lancet Countdown: heat stress video\n",
    "from IPython.display import YouTubeVideo\n",
    "YouTubeVideo('str9o7sHd9E', width=500, height=300)"
   ]
  },
  {
   "cell_type": "markdown",
   "id": "d80e034f-627c-4ee5-bfa7-1aaa02015357",
   "metadata": {},
   "source": [
    "### Why should I care about Heat Stress on the other side of the Earth ?"
   ]
  },
  {
   "cell_type": "markdown",
   "id": "bc87d048-8a96-4abd-b9ef-3f81f8af8438",
   "metadata": {},
   "source": [
    "![image](\\images\\rowboat.png) |![image](\\images\\ostrich.png)\n",
    "\n",
    "We are all in the same boat in terms of global heat-stress impacts and we cannot afford to be the ostrich with our head in the sand while the Earth warms..."
   ]
  },
  {
   "cell_type": "markdown",
   "id": "de7a2333-127c-49ba-8441-f54dbe455d69",
   "metadata": {},
   "source": [
    "# Per Capita CO2 emissions - Source:  Our World in Data"
   ]
  },
  {
   "cell_type": "code",
   "execution_count": 2,
   "id": "d0c15ea2-299f-4c30-8b94-4fc97210469a",
   "metadata": {},
   "outputs": [
    {
     "data": {
      "text/html": [
       "\n",
       "        <iframe\n",
       "            width=\"800\"\n",
       "            height=\"800\"\n",
       "            src=\"https://ourworldindata.org/grapher/co-emissions-per-capita\"\n",
       "            frameborder=\"0\"\n",
       "            allowfullscreen\n",
       "            \n",
       "        ></iframe>\n",
       "        "
      ],
      "text/plain": [
       "<IPython.lib.display.IFrame at 0x261af09e1d0>"
      ]
     },
     "execution_count": 2,
     "metadata": {},
     "output_type": "execute_result"
    }
   ],
   "source": [
    "from IPython.display import IFrame\n",
    "IFrame(r'https://ourworldindata.org/grapher/co-emissions-per-capita', width=800, height=800)"
   ]
  },
  {
   "cell_type": "markdown",
   "id": "cbd7765d-c47e-4ba8-96a1-152fb8b8d49d",
   "metadata": {},
   "source": [
    "### What are Representative Concentration Pathways (RCPs) and how are these different from CO2 emissions ?"
   ]
  },
  {
   "cell_type": "code",
   "execution_count": 3,
   "id": "99334225-2281-4b7a-9003-d46f494f8caf",
   "metadata": {},
   "outputs": [],
   "source": [
    "# URL for Australia Coast Adapt website with nice PDF infographic that explains the RCPs\n",
    "# https://coastadapt.com.au/sites/default/files/infographics/15-117-NCCARFINFOGRAPHICS-01-UPLOADED-WEB%2827Feb%29.pdf"
   ]
  },
  {
   "cell_type": "code",
   "execution_count": 4,
   "id": "6335a53c-e4a7-4d7a-b822-5b0dc24dd6c0",
   "metadata": {},
   "outputs": [
    {
     "data": {
      "text/html": [
       "\n",
       "        <iframe\n",
       "            width=\"1000\"\n",
       "            height=\"1000\"\n",
       "            src=\"https://coastadapt.com.au/sites/default/files/infographics/15-117-NCCARFINFOGRAPHICS-01-UPLOADED-WEB%2827Feb%29.pdf\"\n",
       "            frameborder=\"0\"\n",
       "            allowfullscreen\n",
       "            \n",
       "        ></iframe>\n",
       "        "
      ],
      "text/plain": [
       "<IPython.lib.display.IFrame at 0x261af0d2b30>"
      ]
     },
     "execution_count": 4,
     "metadata": {},
     "output_type": "execute_result"
    }
   ],
   "source": [
    "from IPython.display import IFrame\n",
    "IFrame(r'https://coastadapt.com.au/sites/default/files/infographics/15-117-NCCARFINFOGRAPHICS-01-UPLOADED-WEB%2827Feb%29.pdf', width=1000, height=1000)"
   ]
  },
  {
   "cell_type": "markdown",
   "id": "2ae6967c-f663-482a-bc6b-acd97fcb98b2",
   "metadata": {},
   "source": [
    "## Heat Stress, The Silent Killer in Indian Cities"
   ]
  },
  {
   "cell_type": "code",
   "execution_count": 5,
   "id": "4dec6e73-f036-4586-8f79-fc46f2e8729b",
   "metadata": {
    "tags": []
   },
   "outputs": [
    {
     "data": {
      "image/jpeg": "[encoded data removed]",
      "text/html": [
       "\n",
       "        <iframe\n",
       "            width=\"500\"\n",
       "            height=\"300\"\n",
       "            src=\"https://www.youtube.com/embed/4QDUwmHNUAA\"\n",
       "            frameborder=\"0\"\n",
       "            allowfullscreen\n",
       "            \n",
       "        ></iframe>\n",
       "        "
      ],
      "text/plain": [
       "<IPython.lib.display.YouTubeVideo at 0x261af09e2c0>"
      ]
     },
     "execution_count": 5,
     "metadata": {},
     "output_type": "execute_result"
    }
   ],
   "source": [
    "## Play the video, Heat Stress:  The Silent Killer in India Cities\n",
    "from IPython.display import YouTubeVideo\n",
    "YouTubeVideo('4QDUwmHNUAA', width=500, height=300)\n",
    "# https://gca.org/video/heat-stress-the-silent-killer-in-indian-cities/"
   ]
  },
  {
   "cell_type": "markdown",
   "id": "e3e74e05-569f-4822-8eae-d477795e8731",
   "metadata": {},
   "source": [
    "## What are Urban Heat Islands ?"
   ]
  },
  {
   "cell_type": "code",
   "execution_count": 6,
   "id": "ba943976-d72d-48cc-9de6-01b0b5db2a3c",
   "metadata": {},
   "outputs": [
    {
     "data": {
      "image/jpeg": "[encoded data removed]",
      "text/html": [
       "\n",
       "        <iframe\n",
       "            width=\"500\"\n",
       "            height=\"300\"\n",
       "            src=\"https://www.youtube.com/embed/0Wevbkcg43g\"\n",
       "            frameborder=\"0\"\n",
       "            allowfullscreen\n",
       "            \n",
       "        ></iframe>\n",
       "        "
      ],
      "text/plain": [
       "<IPython.lib.display.YouTubeVideo at 0x261af09edd0>"
      ]
     },
     "execution_count": 6,
     "metadata": {},
     "output_type": "execute_result"
    }
   ],
   "source": [
    "## Play the CBS News short video on Urban Heat Islands\n",
    "from IPython.display import YouTubeVideo\n",
    "YouTubeVideo('0Wevbkcg43g', width=500, height=300)\n",
    "# # https://www.youtube.com/watch?v=0Wevbkcg43g"
   ]
  },
  {
   "cell_type": "markdown",
   "id": "b6c8c389-e347-4924-b5fc-701b568822b9",
   "metadata": {},
   "source": [
    "### Where can I find climate data and What is European Space Agency (ESA) Copernicus program ?"
   ]
  },
  {
   "cell_type": "code",
   "execution_count": 7,
   "id": "3e706f06-5d8b-4e0f-8289-60dd1c7d22a2",
   "metadata": {
    "scrolled": true
   },
   "outputs": [
    {
     "data": {
      "image/jpeg": "[encoded data removed]",
      "text/html": [
       "\n",
       "        <iframe\n",
       "            width=\"500\"\n",
       "            height=\"300\"\n",
       "            src=\"https://www.youtube.com/embed/vyoXKUuAf5E\"\n",
       "            frameborder=\"0\"\n",
       "            allowfullscreen\n",
       "            \n",
       "        ></iframe>\n",
       "        "
      ],
      "text/plain": [
       "<IPython.lib.display.YouTubeVideo at 0x261af09ef20>"
      ]
     },
     "execution_count": 7,
     "metadata": {},
     "output_type": "execute_result"
    }
   ],
   "source": [
    "## Play the Introduction to Copernicus video\n",
    "from IPython.display import YouTubeVideo\n",
    "YouTubeVideo('vyoXKUuAf5E', width=500, height=300)\n",
    "# https://www.youtube.com/watch?v=vyoXKUuAf5E"
   ]
  },
  {
   "cell_type": "markdown",
   "id": "79b4621d-2d9d-414d-b519-b110ff3439a9",
   "metadata": {},
   "source": [
    "### What is the Climate Data Store ?"
   ]
  },
  {
   "cell_type": "code",
   "execution_count": 8,
   "id": "fdd9e1b8-5678-4c7c-8dca-b358d148e3f5",
   "metadata": {},
   "outputs": [
    {
     "data": {
      "text/html": [
       "\n",
       "        <iframe\n",
       "            width=\"50%\"\n",
       "            height=\"500px\"\n",
       "            src=\"https://cds.climate.copernicus.eu/#!/home\"\n",
       "            frameborder=\"0\"\n",
       "            allowfullscreen\n",
       "            \n",
       "        ></iframe>\n",
       "        "
      ],
      "text/plain": [
       "<IPython.lib.display.IFrame at 0x261af0d2cb0>"
      ]
     },
     "execution_count": 8,
     "metadata": {},
     "output_type": "execute_result"
    }
   ],
   "source": [
    "from IPython.display import IFrame\n",
    "IFrame(src=\"https://cds.climate.copernicus.eu/#!/home\", width='50%', height='500px')"
   ]
  },
  {
   "cell_type": "markdown",
   "id": "ff1b40f0-d2db-492d-b48c-61ffc6bb2103",
   "metadata": {},
   "source": [
    "### What is the Climate Data Store Atlas ?"
   ]
  },
  {
   "cell_type": "code",
   "execution_count": 9,
   "id": "1b1f211a-8ea6-4eb1-b446-7b94ac2d3d3b",
   "metadata": {},
   "outputs": [
    {
     "data": {
      "text/html": [
       "\n",
       "        <iframe\n",
       "            width=\"50%\"\n",
       "            height=\"500px\"\n",
       "            src=\"https://cds.climate.copernicus.eu/applications\"\n",
       "            frameborder=\"0\"\n",
       "            allowfullscreen\n",
       "            \n",
       "        ></iframe>\n",
       "        "
      ],
      "text/plain": [
       "<IPython.lib.display.IFrame at 0x261af09e4d0>"
      ]
     },
     "execution_count": 9,
     "metadata": {},
     "output_type": "execute_result"
    }
   ],
   "source": [
    "from IPython.display import IFrame\n",
    "IFrame(src=\"https://cds.climate.copernicus.eu/applications\", width='50%', height='500px')\n",
    "# https://atlas.climate.copernicus.eu/atlas\n",
    "# https://cds.climate.copernicus.eu/applications"
   ]
  },
  {
   "cell_type": "markdown",
   "id": "1fe60528-93c4-4d9e-bd25-d8d7ad862589",
   "metadata": {},
   "source": [
    "### What are the Coupled Model Intercomparison Project Phase 6 (CMIP6) extreme temperature data ?"
   ]
  },
  {
   "cell_type": "code",
   "execution_count": 10,
   "id": "43002a1c-2ae0-4b1f-b157-ecf486a77812",
   "metadata": {},
   "outputs": [
    {
     "data": {
      "text/html": [
       "\n",
       "        <iframe\n",
       "            width=\"50%\"\n",
       "            height=\"500px\"\n",
       "            src=\"https://pcmdi.llnl.gov/CMIP6/\"\n",
       "            frameborder=\"0\"\n",
       "            allowfullscreen\n",
       "            \n",
       "        ></iframe>\n",
       "        "
      ],
      "text/plain": [
       "<IPython.lib.display.IFrame at 0x261af09f6a0>"
      ]
     },
     "execution_count": 10,
     "metadata": {},
     "output_type": "execute_result"
    }
   ],
   "source": [
    "# lawrence Livermore National Lab - CMIP6 website\n",
    "from IPython.display import IFrame\n",
    "IFrame(src=\"https://pcmdi.llnl.gov/CMIP6/\", width='50%', height='500px')"
   ]
  },
  {
   "cell_type": "markdown",
   "id": "9b9688af-0b30-4cf6-8f16-b1a92aa0bfe8",
   "metadata": {},
   "source": [
    "#### Key points about CMIP6 extreme temperature data and data types: \n",
    "\n",
    "CMIP6 extreme temperature data refers to a collection of climate model simulations from the Coupled Model Intercomparison Project Phase 6\n",
    "which specifically focus on projected changes in extreme temperature events like heatwaves and cold spells, providing information\n",
    "on how these events are expected to change in frequency, intensity, and duration under different future climate scenarios; essentially, it's a dataset used to study the potential impacts of climate change on extreme temperature occurrences across the globe. \n",
    "\n",
    "#### Variables\n",
    "These data include variables like maximum daily temperature (TXx), minimum daily temperature (TNn), hottest day of the year (TXn), coldest night of the year (TNx),\n",
    "allowing researchers to analyze different aspects of extreme heat and cold events. \n",
    "\n",
    "#### Model ensemble:\n",
    "CMIP6 utilizes a large ensemble of climate models from various research groups, providing a broader perspective on potential future climate changes. \n",
    "\n",
    "#### Scenario based:\n",
    "The data is often analyzed using different Shared Socioeconomic Pathways (SSPs) representing varying greenhouse gas emission scenarios, allowing for projections under different future climate conditions. \n",
    "Applications: Scientists use CMIP6 extreme temperature data to study the potential impacts of climate change on human health, agriculture, water resources, and infrastructure, particularly in vulnerable regions. "
   ]
  },
  {
   "cell_type": "markdown",
   "id": "6f59f00f-c202-4cd1-a0b1-55159d777c1b",
   "metadata": {},
   "source": [
    "### Video - CMIP in brief"
   ]
  },
  {
   "cell_type": "code",
   "execution_count": 11,
   "id": "c1877d3a-3b54-4e72-85a6-1a4551c85dde",
   "metadata": {
    "scrolled": true
   },
   "outputs": [
    {
     "data": {
      "image/jpeg": "[encoded data removed]",
      "text/html": [
       "\n",
       "        <iframe\n",
       "            width=\"500\"\n",
       "            height=\"300\"\n",
       "            src=\"https://www.youtube.com/embed/AlAzLlrMXWM\"\n",
       "            frameborder=\"0\"\n",
       "            allowfullscreen\n",
       "            \n",
       "        ></iframe>\n",
       "        "
      ],
      "text/plain": [
       "<IPython.lib.display.YouTubeVideo at 0x261af0d2c50>"
      ]
     },
     "execution_count": 11,
     "metadata": {},
     "output_type": "execute_result"
    }
   ],
   "source": [
    "## Play the CMIP6 video  # https://www.youtube.com/watch?v=AlAzLlrMXWM\n",
    "from IPython.display import YouTubeVideo\n",
    "YouTubeVideo('AlAzLlrMXWM', width=500, height=300)\n",
    "# https://www.youtube.com/watch?v=vyoXKUuAf5E"
   ]
  },
  {
   "cell_type": "code",
   "execution_count": 12,
   "id": "cfd3c2fd-245e-4220-9263-8ee213e5c5a4",
   "metadata": {},
   "outputs": [],
   "source": [
    "# https://pcmdi.llnl.gov/CMIP6/"
   ]
  },
  {
   "cell_type": "markdown",
   "id": "d700dc04-443a-44aa-8ccb-741a613f3d2a",
   "metadata": {},
   "source": [
    "### What are NETCDF4 files and why are they used to store and share climate data ?"
   ]
  },
  {
   "attachments": {},
   "cell_type": "markdown",
   "id": "246cad14-fac9-4034-8f8a-7abba5ac51e5",
   "metadata": {},
   "source": [
    "### NetCDF4 Format for Climate Data\n",
    "The hierarchical and flexible nature of netcdf files supports storing data in many different ways. \n",
    "This flexibility is nice, however, similar to hdf5 data formats, it can be challenging when communities make different decisions about how and where they store data in a netCDF file.\n",
    "The netCDF4 data standard is used broadly by the climate science community to store climate data. \n",
    "\n",
    "### Climate data are:\n",
    " - often delivered in a time series format (months and years of historic or future projected data).\n",
    " - spatial in nature, covering regions such as the United States or even the world.\n",
    " - driven by models which require documentation making the self describing aspect of netCDF files useful.\n",
    "\n",
    "### The netCDF4 format supports data stored in an array format. \n",
    "Arrays are used to store raster spatial data (terrain layers, gridded temperature data, etc) and also point based time series data (for example temperature for a single location over 10 years).\n",
    "Climate data typically have three dimensions—x and y values representing latitude and longitude location for a point or a grid cell location on the earth’s surface and time.\n",
    "\n",
    "The x/y locations often store a data value such as temperature, humidity, precipitation or wind direction.\n",
    "\n",
    "### NetCDF is Self Describing\n",
    "One of the biggest benefits of working with a data type like netCDF is that it is self-describing. This means that all of the metadata needed to work with the data is often contained within the netCDF file (the .nc file) itself.\n",
    "\n",
    "#### Source:  https://www.earthdatascience.org/courses/use-data-open-source-python/hierarchical-data-formats-hdf/intro-to-climate-data/\n",
    "\n",
    "<img src=\"https://www.earthdatascience.org/images/earth-analytics/hierarchical-data-formats/hdf5-example-data-structure.jpg\" width=\"500\" height=\"600\">\n",
    "\n",
    " - Netcdf is a hierarchical data format. \n",
    " - It is self describing meaning that the metadata for the file is contained within the file itself. \n",
    " - Self-contained metadata makes it easier to create a fully reproducible workflow given you can pull metadata elements\n",
    " - such as coordinate reference systems and units directly from the file itself.\n"
   ]
  },
  {
   "cell_type": "markdown",
   "id": "cd260037-627a-4942-aa65-f1b698f0420b",
   "metadata": {},
   "source": [
    "### What is xarray and how does it help us to open and visualize NETCDF4 climate data ?"
   ]
  },
  {
   "cell_type": "markdown",
   "id": "9197b659-723b-4d25-9324-e1e81e290871",
   "metadata": {},
   "source": [
    "### xarray.Dataset\n",
    "- xarray.Dataset is xarray’s multi-dimensional equivalent of a DataFrame.\n",
    "- It is a dict-like container of labeled arrays (DataArray objects) with aligned dimensions.\n",
    "- It is designed as an in-memory representation of the data model from the netCDF file format.\n",
    "\n",
    "#### In addition to the dict-like interface of the dataset itself, which can be used to access any variable in a dataset,\n",
    "#### datasets have four key properties:\n",
    "\n",
    "- dims: a dictionary mapping from dimension names to the fixed length of each dimension (e.g., {'x': 6, 'y': 6, 'time': 8})\n",
    "\n",
    "- data_vars: a dict-like container of DataArrays corresponding to variables\n",
    "\n",
    "- coords: another dict-like container of DataArrays intended to label points used in data_vars (arrays of numbers, datetime objects or strings)\n",
    "\n",
    "- attrs: dict to hold arbitrary metadata\n",
    "\n",
    "The distinction between whether a variable falls in data or coordinates (borrowed from CF conventions) is mostly semantic, and you can probably get away with ignoring it if you like: dictionary like access on a dataset will supply variables found in either category. However, xarray does make use of the distinction for indexing and computations. Coordinates indicate constant/fixed/independent quantities, unlike the varying/measured/dependent quantities that belong in data.\n",
    "\n",
    "## Here is an example of how we might structure a dataset for a weather forecast:\n",
    "\n",
    "\n",
    "![image](https://docs.xarray.dev/en/stable/_images/dataset-diagram.png)\n",
    "\n",
    "#### Source:  https://docs.xarray.dev/en/stable/user-guide/data-structures.html"
   ]
  },
  {
   "cell_type": "markdown",
   "id": "43ace125-9426-4a7b-8af9-a9df3a1da1cc",
   "metadata": {},
   "source": [
    "### FLASHCARDS AND QUIZ"
   ]
  },
  {
   "cell_type": "code",
   "execution_count": 13,
   "id": "2dd4d25c-bb20-44b2-bd4e-eaad27789623",
   "metadata": {},
   "outputs": [
    {
     "data": {
      "text/html": [
       "<style>\n",
       ":root{\n",
       "  --asparagus: #87a878ff;\n",
       "  --terra-cotta: #e26d5aff;\n",
       "  --cyan-process: #5bc0ebff;\n",
       "  --dark-blue-gray: #666a86ff;\n",
       "  --snow: #fffafbff;\n",
       "  --rich-black-fogra-39: #090c08ff;\n",
       "}\n",
       "\n",
       "\n",
       "/* entire container, keeps perspective */\n",
       ".flip-container {\n",
       "\tperspective: 1000px;\n",
       "  touch-action: pinch-zoom pan-y;\n",
       "}\n",
       "\n",
       "\n",
       ".flip-container.flip .flipper {\n",
       "    box-sizing: content-box;\n",
       "\t  transform: rotateY(180deg);\n",
       "\t/* transform: rotateY(180deg)  translateX(-6%);  */\n",
       "}\n",
       "\n",
       "\n",
       ".flip-container.slide .flipper.frontcard {\n",
       "    filter: brightness(90%);\n",
       "    position:absolute;\n",
       "    z-index: -20;\n",
       "    /* left: 20px; */\n",
       "}\n",
       "\n",
       ".flip-container.prepare .flipper.backcard {\n",
       "    opacity:1;\n",
       "    transition: display 0s;\n",
       "    transform:  translateX(20px); \n",
       "}\n",
       "\n",
       "\n",
       ".flip-container.slide .flipper.backcard {\n",
       "    filter: brightness(115%);\n",
       "    /* height: 360px; */\n",
       "    opacity:1;\n",
       "\t  transform:  rotateY(3deg)  translateX(700px) translateZ(20px) scale(1, 1.05) rotate(3deg);\n",
       "    z-index: 20;\n",
       "    /* left: -20px; */\n",
       "}\n",
       "\n",
       "\n",
       "\n",
       "\n",
       ".flip-container.slideback .flipper.backcard {\n",
       "    filter: brightness(100%);\n",
       "    opacity: 1;\n",
       "\t  transform: translateX(0px) translateZ(20px) rotateY(0deg);\n",
       "    z-index: 10;\n",
       "}\n",
       "\n",
       ".flip-container.slideback .flipper.frontcard {\n",
       "    filter: brightness(90%);\n",
       "    transform: translateX(0px) translateZ(-20px);\n",
       "    z-index: -10;\n",
       "}\n",
       "\n",
       "\n",
       ".flip-container, .front, .back {\n",
       "\t  height: 200px;\n",
       "\t  width: 95%;\n",
       "}\n",
       "\n",
       "\n",
       "\n",
       "\n",
       ".flipper.frontcard {\n",
       "    position:absolute;\n",
       "\t  transform: translateX(0px) rotateY(0deg) translateZ(20px);\n",
       "    z-index: 10;\n",
       "}\n",
       "\n",
       ".flipper.backcard {\n",
       "    filter: brightness(90%);\n",
       "    opacity:0;\n",
       "    position:absolute;\n",
       "    transform: translateX(0px) translateZ(-20px);\n",
       "    z-index: -10;\n",
       "}\n",
       "\n",
       "\n",
       "\n",
       "\n",
       "/* flip speed goes here */\n",
       ".flipper {\n",
       "    cursor:pointer;\n",
       "\t  height: 200px;\n",
       "    margin-left:10px;\n",
       "\t  position: absolute;\n",
       "    top: 0;\n",
       "\t  transform-style: preserve-3d;\n",
       "\t  transition: 0.6s;\n",
       "    /* width: 95%; */\n",
       "    width: 100%;\n",
       "}\n",
       "\n",
       ".flashcardtext{\n",
       "    color: var(--snow);\n",
       "    margin-left:3%;\n",
       "    position:absolute;\n",
       "    text-align:center;\n",
       "    top: 50%;\n",
       "    transform: translate(0, -50%);\n",
       "    width:90%;\n",
       "    font-size: 1.5em;\n",
       "}\n",
       "\n",
       ".back .flashcardtext{\n",
       "    font-size: 1.2em;\n",
       "}\n",
       "\n",
       "\n",
       "\n",
       "/* hide back of pane during swap */\n",
       ".front, .back {\n",
       "    -webkit-backface-visibility: hidden;\n",
       "\t  backface-visibility: hidden;\n",
       "\t  left: 0;\n",
       "\t  position: absolute;\n",
       "\t  top: 0;\n",
       "}\n",
       "\n",
       "/* front pane, placed above back */\n",
       ".front {\n",
       "\t  backface-visibility: hidden;\n",
       "    background: var(--asparagus);\n",
       "    transform: rotateY(0deg);\n",
       "\t  z-index: 2;\n",
       "}\n",
       "\n",
       "/* back, initially hidden pane */\n",
       ".back {\n",
       "\t  backface-visibility: hidden;\n",
       "    background: var(--dark-blue-gray);\n",
       "\t  transform: rotateY(180deg);\n",
       "}\n",
       "\n",
       ".jp-OutputArea-output .back {\n",
       "\t  transform: rotateY(180deg) translateX(7.5%);\n",
       "}\n",
       "\n",
       ".next {\n",
       "    color: var(--rich-black-fogra-39);\n",
       "    cursor:pointer;\n",
       "    font-size: 1.5em;\n",
       "    /*left:90%; */\n",
       "    margin-left: 70%;\n",
       "    width: 55pt;\n",
       "    height: 22pt;\n",
       "    opacity:0.3;\n",
       "    position:relative; \n",
       "    top:-1em;\n",
       "}\n",
       "\n",
       ".next svg {\n",
       "    height:16pt;\n",
       "    width:16pt;\n",
       "    position:relative;\n",
       "    top:-2pt;\n",
       "}\n",
       "\n",
       ".jp-OutputArea-output .next svg {\n",
       "    top: 1pt;\n",
       "}\n",
       "\n",
       ".next.flipped {\n",
       "    opacity:1;\n",
       "}\n",
       "\n",
       ".next.hide {\n",
       "    opacity:0;\n",
       "}\n",
       "\n",
       "\n",
       ".flashcard{\n",
       "    border-radius: 10px;\n",
       "    outline: none;\n",
       "    color: #fafafa;\n",
       "    display:block;\n",
       "    padding:10px;\n",
       "  \n",
       "}\n",
       "\n",
       ".flashcardtext li{\n",
       "    text-align: left;\n",
       "}\n",
       "\n",
       "@media only screen and (min-width:1000px) {\n",
       "\n",
       "    .flip-container, .front, .back {\n",
       "\t      height: 300px;\n",
       "\t      width: min(95%, 640px);\n",
       "    }\n",
       "\n",
       "    .flipper {\n",
       "        margin-left:20px;\n",
       "\t      height: 300px;\n",
       "    }\n",
       "\n",
       "    .flashcardtext{\n",
       "        font-size: 20pt;\n",
       "    }\n",
       "\n",
       "    .next {\n",
       "        font-size: 16pt;\n",
       "        left:min(80%, 450pt);\n",
       "        margin-left: 0;\n",
       "        width: 55pt;\n",
       "        height: 22pt;\n",
       "        top:-0.5em;\n",
       "    }\n",
       "\n",
       "    .back .flashcardtext{\n",
       "        font-size: 1.5em;\n",
       "    }\n",
       "\n",
       "}\n",
       "\n",
       "@media only screen and (min-width:660px) and (max-width:999px) {\n",
       "    .next {\n",
       "        left:0;\n",
       "        margin-left: 80%;\n",
       "    }\n",
       "\n",
       "}\n",
       "\n",
       "@media only screen and (max-width:680px) and (min-height:376px) {\n",
       "    .flip-container, .front, .back {\n",
       "\t      height: 300px;\n",
       "    }\n",
       "\n",
       "    .flipper {\n",
       "\t      height: 300px;\n",
       "    }\n",
       "\n",
       "}\n",
       "\n",
       "@media only screen and (max-width:330px) and (max-height:600px) {\n",
       "\n",
       "    .back .flashcardtext{\n",
       "        font-size: 1em;\n",
       "    }\n",
       "    .next {\n",
       "        margin-left: 65%;\n",
       "    }\n",
       "\n",
       "}\n",
       "\n",
       "</style>"
      ],
      "text/plain": [
       "<IPython.core.display.HTML object>"
      ]
     },
     "metadata": {},
     "output_type": "display_data"
    },
    {
     "data": {
      "text/html": [
       "<div style=\"height:40px\"></div><div class=\"flip-container\" id=\"sxYOZGacUvtH\" tabindex=\"0\" style=\"outline:none;\"></div><div style=\"height:40px\"></div><div class=\"next\" id=\"sxYOZGacUvtH-next\" onclick=\"window.checkFlip('sxYOZGacUvtH')\"> </div> <div style=\"height:40px\"></div>"
      ],
      "text/plain": [
       "<IPython.core.display.HTML object>"
      ]
     },
     "metadata": {},
     "output_type": "display_data"
    },
    {
     "data": {
      "application/javascript": [
       "/*!\n",
       " * swiped-events.js - v1.1.4\n",
       " * Pure JavaScript swipe events\n",
       " * https://github.com/john-doherty/swiped-events\n",
       " * @inspiration https://stackoverflow.com/questions/16348031/disable-scrolling-when-touch-moving-certain-element\n",
       " * @author John Doherty <www.johndoherty.info>\n",
       " * @license MIT\n",
       " */\n",
       "!function(t,e){\"use strict\";\"function\"!=typeof t.CustomEvent&&(t.CustomEvent=function(t,n){n=n||{bubbles:!1,cancelable:!1,detail:void 0};var a=e.createEvent(\"CustomEvent\");return a.initCustomEvent(t,n.bubbles,n.cancelable,n.detail),a},t.CustomEvent.prototype=t.Event.prototype),e.addEventListener(\"touchstart\",function(t){if(\"true\"===t.target.getAttribute(\"data-swipe-ignore\"))return;s=t.target,r=Date.now(),n=t.touches[0].clientX,a=t.touches[0].clientY,u=0,i=0},!1),e.addEventListener(\"touchmove\",function(t){if(!n||!a)return;var e=t.touches[0].clientX,r=t.touches[0].clientY;u=n-e,i=a-r},!1),e.addEventListener(\"touchend\",function(t){if(s!==t.target)return;var e=parseInt(l(s,\"data-swipe-threshold\",\"20\"),10),o=parseInt(l(s,\"data-swipe-timeout\",\"500\"),10),c=Date.now()-r,d=\"\",p=t.changedTouches||t.touches||[];Math.abs(u)>Math.abs(i)?Math.abs(u)>e&&c<o&&(d=u>0?\"swiped-left\":\"swiped-right\"):Math.abs(i)>e&&c<o&&(d=i>0?\"swiped-up\":\"swiped-down\");if(\"\"!==d){var b={dir:d.replace(/swiped-/,\"\"),xStart:parseInt(n,10),xEnd:parseInt((p[0]||{}).clientX||-1,10),yStart:parseInt(a,10),yEnd:parseInt((p[0]||{}).clientY||-1,10)};s.dispatchEvent(new CustomEvent(\"swiped\",{bubbles:!0,cancelable:!0,detail:b})),s.dispatchEvent(new CustomEvent(d,{bubbles:!0,cancelable:!0,detail:b}))}n=null,a=null,r=null},!1);var n=null,a=null,u=null,i=null,r=null,s=null;function l(t,n,a){for(;t&&t!==e.documentElement;){var u=t.getAttribute(n);if(u)return u;t=t.parentNode}return a}}(window,document);\n",
       "\n",
       "function jaxify(string) {\n",
       "    var mystring = string;\n",
       "    //console.log(mystring);\n",
       "\n",
       "    var count = 0;\n",
       "    var loc = mystring.search(/([^\\\\]|^)(\\$)/);\n",
       "\n",
       "    var count2 = 0;\n",
       "    var loc2 = mystring.search(/([^\\\\]|^)(\\$\\$)/);\n",
       "\n",
       "    //console.log(loc);\n",
       "\n",
       "    while ((loc >= 0) || (loc2 >= 0)) {\n",
       "\n",
       "        /* Have to replace all the double $$ first with current implementation */\n",
       "        if (loc2 >= 0) {\n",
       "            if (count2 % 2 == 0) {\n",
       "                mystring = mystring.replace(/([^\\\\]|^)(\\$\\$)/, \"$1\\\\[\");\n",
       "            } else {\n",
       "                mystring = mystring.replace(/([^\\\\]|^)(\\$\\$)/, \"$1\\\\]\");\n",
       "            }\n",
       "            count2++;\n",
       "        } else {\n",
       "            if (count % 2 == 0) {\n",
       "                mystring = mystring.replace(/([^\\\\]|^)(\\$)/, \"$1\\\\(\");\n",
       "            } else {\n",
       "                mystring = mystring.replace(/([^\\\\]|^)(\\$)/, \"$1\\\\)\");\n",
       "            }\n",
       "            count++;\n",
       "        }\n",
       "        loc = mystring.search(/([^\\\\]|^)(\\$)/);\n",
       "        loc2 = mystring.search(/([^\\\\]|^)(\\$\\$)/);\n",
       "        //console.log(mystring,\", loc:\",loc,\", loc2:\",loc2);\n",
       "    }\n",
       "\n",
       "    //console.log(mystring);\n",
       "    return mystring;\n",
       "}\n",
       "\n",
       "window.flipCard = function flipCard(ths) {\n",
       "    //console.log(ths);\n",
       "    //console.log(ths.id);\n",
       "    ths.classList.toggle(\"flip\"); \n",
       "    ths.focus();\n",
       "    var next=document.getElementById(ths.id+'-next');\n",
       "    next.style.pointerEvents='none';\n",
       "    /* ths.blur(); */\n",
       "    next.classList.add('flipped');\n",
       "    if (typeof MathJax != 'undefined') {\n",
       "        var version = MathJax.version;\n",
       "        //console.log('MathJax version', version);\n",
       "        if (version[0] == \"2\") {\n",
       "            MathJax.Hub.Queue([\"Typeset\", MathJax.Hub]);\n",
       "        } else if (version[0] == \"3\") {\n",
       "            MathJax.typeset([ths]);\n",
       "        }\n",
       "    } else {\n",
       "        //console.log('MathJax not detected');\n",
       "    }\n",
       "\n",
       "\n",
       "    setTimeout(reenableNext, 600, ths, next);\n",
       "}\n",
       "\n",
       "window.checkKey = function checkKey(container, event) {\n",
       "    event.stopPropagation();\n",
       "    /*\n",
       "    console.log(container);\n",
       "    console.log(event.key);\n",
       "    console.log(event.code);\n",
       "    */\n",
       "    /* JMS:  Working here*/\n",
       "    var next=document.getElementById(container.id+'-next');\n",
       "    /* Only react if not already sliding */\n",
       "    if (! next.classList.contains(\"hide\")) {\n",
       "        if ((event.key == \"j\") || (event.key == \"Enter\") || (event.key == \"ArrowRight\")) {\n",
       "            window.checkFlip(container.id);\n",
       "        }\n",
       "        if (event.key == \" \") {\n",
       "            window.flipCard(container);\n",
       "        }\n",
       "    }\n",
       "    event.preventDefault();\n",
       "}\n",
       "\n",
       "\n",
       "function reenableNext(ths, next) {\n",
       "    next.style.pointerEvents='auto';\n",
       "    /* ths.tabIndex= 0;*/\n",
       "    /* ths.focus(); */\n",
       "}\n",
       "\n",
       "\n",
       "\n",
       "function slide2(containerId) {\n",
       "    var container = document.getElementById(containerId);\n",
       "    var next=document.getElementById(containerId+'-next');\n",
       "    var frontcard = container.children[0];\n",
       "    var backcard = container.children[1];\n",
       "    container.style.pointerEvents='none';\n",
       "    /* container.removeAttribute(\"tabindex\");*/\n",
       "    /* container.blur(); */\n",
       "    //backcard.style.pointerEvents='none';\n",
       "    next.style.pointerEvents='none';\n",
       "    next.classList.remove('flipped');\n",
       "    next.classList.add('hide');\n",
       "\n",
       "    //container.classList.add(\"prepare\");\n",
       "    \n",
       "    container.className=\"flip-container slide\";\n",
       "    backcard.parentElement.removeChild(frontcard);\n",
       "    backcard.parentElement.appendChild(frontcard);\n",
       "    setTimeout(slideback, 600, container, frontcard, backcard, next);\n",
       "    \n",
       "}\n",
       "\n",
       "\n",
       "window.checkFlip = function checkFlip(containerId) {\n",
       "    var container = document.getElementById(containerId);\n",
       "\n",
       "\n",
       "    if (container.classList.contains('flip')) {\n",
       "        container.classList.remove('flip');\n",
       "        setTimeout(slide2, 600, containerId);\n",
       "    } \n",
       "    else {\n",
       "        slide2(containerId);\n",
       "    }\n",
       "}\n",
       "\n",
       "\n",
       "function slideback(container, frontcard, backcard, next) {\n",
       "    container.className=\"flip-container slideback\";\n",
       "    setTimeout(cleanup, 550, container, frontcard, backcard, next);\n",
       "}\n",
       "\n",
       "function cleanup(container, frontcard, backcard, next) {\n",
       "    container.removeChild(frontcard);\n",
       "    backcard.className=\"flipper frontcard\";\n",
       "    container.className=\"flip-container\";\n",
       "\n",
       "    var cardnum=parseInt(container.dataset.cardnum);\n",
       "    var cards=eval('cards'+container.id);\n",
       "    var flipper=createOneCard(container, false, cards, cardnum);\n",
       "    container.append(flipper);\n",
       "    cardnum= (cardnum+1) % parseInt(container.dataset.numCards);\n",
       "    container.dataset.cardnum=cardnum;\n",
       "    if (cardnum != 1){\n",
       "        next.innerHTML=\"Next >\";\n",
       "    } else {\n",
       "        //next.innerHTML=\"Reload \\\\(\\\\circlearrowleft\\\\) \";\n",
       "        next.innerHTML='Reload <svg xmlns=\"http://www.w3.org/2000/svg\" xmlns:xlink=\"http://www.w3.org/1999/xlink\" viewbox=\"0 0 25 26\"> <path d=\"M7,6a10,10,0,1,0,9,0\" style=\"fill:none;stroke:black;stroke-width:2px\" id=\"e2_circleArc\"/> <line id=\"e3_line\" x1=\"17\" y1=\"6.5\" x2=\"17.5\" y2=\"15\" style=\"stroke:black;fill:none;stroke-width:2px\"/> <line id=\"e4_line\" x1=\"16.5\" y1=\"6.5\" x2=\"26\" y2=\"8\" style=\"stroke:black;fill:none;stroke-width:2px\"/> </svg> '\n",
       "        if (typeof MathJax != 'undefined') {\n",
       "            var version = MathJax.version;\n",
       "            //console.log('MathJax version', version);\n",
       "            if (version[0] == \"2\") {\n",
       "                MathJax.Hub.Queue([\"Typeset\", MathJax.Hub]);\n",
       "            } else if (version[0] == \"3\") {\n",
       "                MathJax.typeset([next]);\n",
       "            }\n",
       "        } else {\n",
       "            //console.log('MathJax not detected');\n",
       "        }\n",
       "\n",
       "\n",
       "    }\n",
       "\n",
       "    if (typeof MathJax != 'undefined') {\n",
       "        var version = MathJax.version;\n",
       "        //console.log('MathJax version', version);\n",
       "        if (version[0] == \"2\") {\n",
       "            MathJax.Hub.Queue([\"Typeset\", MathJax.Hub]);\n",
       "        } else if (version[0] == \"3\") {\n",
       "            MathJax.typeset();\n",
       "        }\n",
       "    } else {\n",
       "        //console.log('MathJax not detected');\n",
       "    }\n",
       "\n",
       "\n",
       "    next.style.pointerEvents='auto';\n",
       "    container.style.pointerEvents='auto';\n",
       "    /* container.tabIndex= 0; */\n",
       "    /* container.focus(); */\n",
       "    next.classList.remove('hide');\n",
       "    container.addEventListener('swiped-left', function(e) {\n",
       "        /*\n",
       "          console.log(e.detail);\n",
       "          console.log(id);\n",
       "        */\n",
       "        checkFlip(container.id);\n",
       "    }, {once: true });\n",
       "\n",
       "\n",
       "}\n",
       "\n",
       "\n",
       "function createOneCard  (mydiv, frontCard, cards, cardnum) {\n",
       "    var colors=eval('frontColors'+mydiv.id);\n",
       "    var backColors=eval('backColors'+mydiv.id);\n",
       "    var textColors=eval('textColors'+mydiv.id);\n",
       "    //console.log(backColors)\n",
       "\n",
       "    var flipper = document.createElement('div');\n",
       "    if (frontCard){\n",
       "        flipper.className=\"flipper frontcard\";    \n",
       "    }\n",
       "    else {\n",
       "        flipper.className=\"flipper backcard\";   \n",
       "    }\n",
       "\n",
       "    var front = document.createElement('div');\n",
       "    front.className='front flashcard';\n",
       "\n",
       "    var frontSpan= document.createElement('span');\n",
       "    frontSpan.className='flashcardtext';\n",
       "    frontSpan.innerHTML=jaxify(cards[cardnum]['front']);\n",
       "    frontSpan.style.color=textColors[cardnum % textColors.length];\n",
       "    //frontSpan.textContent=jaxify(cards[cardnum]['front']);\n",
       "    //front.style.background='var(' + colors[cardnum % colors.length] + ')';\n",
       "    front.style.background=colors[cardnum % colors.length];\n",
       "\n",
       "    front.append(frontSpan);\n",
       "    flipper.append(front);\n",
       "\n",
       "    var back = document.createElement('div');\n",
       "    back.className='back flashcard';\n",
       "    back.style.background=backColors[cardnum % backColors.length];\n",
       "\n",
       "    var backSpan= document.createElement('span');\n",
       "    backSpan.className='flashcardtext';\n",
       "    backSpan.innerHTML=jaxify(cards[cardnum]['back']);\n",
       "    backSpan.style.color=textColors[cardnum % textColors.length];\n",
       "    back.append(backSpan);\n",
       "\n",
       "    flipper.append(back);\n",
       "\n",
       "    return flipper;\n",
       "\n",
       "}\n",
       "\n",
       "\n",
       "\n",
       "\n",
       "\n",
       "function createCards(id, keyControl, grabFocus) {\n",
       "    console.log(id);\n",
       "\n",
       "    var mydiv=document.getElementById(id);\n",
       "    /*mydiv.onclick = window.flipCard(mydiv);*/\n",
       "    /*\n",
       "    mydiv.addEventListener('click', function(){window.flipCard(mydiv);}, false);\n",
       "    mydiv.addEventListener('keydown', function(event){window.checkKey(mydiv,event);}, true);\n",
       "    */\n",
       "    mydiv.onclick = function(){window.flipCard(mydiv);};\n",
       "    //console.log(keyControl);\n",
       "    if (keyControl == \"True\"){\n",
       "        mydiv.onkeydown = function(event){window.checkKey(mydiv,event);};\n",
       "    }\n",
       "    /* mydiv.addEventListener('keydown', function(event){event.stopPropagation(); console.log(event); event.preventDefault();}, true); */\n",
       "    /*mydiv.onkeypress = function(event){console.log(event); event.preventDefault();};*/\n",
       "\n",
       "    //console.log(mydiv);\n",
       "\n",
       "    var cards=eval('cards'+id);\n",
       "    mydiv.dataset.cardnum=0;\n",
       "    mydiv.dataset.numCards=cards.length;\n",
       "    mydiv.addEventListener('swiped-left', function(e) {\n",
       "        /*\n",
       "          console.log(e.detail);\n",
       "          console.log(id);\n",
       "        */\n",
       "        checkFlip(id);\n",
       "    }, {once: true});\n",
       "\n",
       "    var cardnum=0;\n",
       "    \n",
       "    for (var i=0; i<2; i++) {\n",
       "    \n",
       "        var flipper;\n",
       "        if (i==0){\n",
       "            flipper=createOneCard(mydiv, true, cards, cardnum);\n",
       "        }\n",
       "        else {\n",
       "            flipper=createOneCard(mydiv, false, cards, cardnum);\n",
       "        }\n",
       "\n",
       "        mydiv.append(flipper);\n",
       "        if (typeof MathJax != 'undefined') {\n",
       "            var version = MathJax.version;\n",
       "            if (typeof version == 'undefined') {\n",
       "                setTimeout(function(){\n",
       "                    var version = MathJax.version;\n",
       "                    console.log('After sleep, MathJax version', version);\n",
       "                    if (version[0] == \"2\") {\n",
       "                        MathJax.Hub.Queue([\"Typeset\", MathJax.Hub]);\n",
       "                    } else if (version[0] == \"3\") {\n",
       "                        MathJax.typeset([flipper]);\n",
       "                    }\n",
       "                }, 500);\n",
       "            } else{\n",
       "                console.log('MathJax version', version);\n",
       "                if (version[0] == \"2\") {\n",
       "                    MathJax.Hub.Queue([\"Typeset\", MathJax.Hub]);\n",
       "                } else if (version[0] == \"3\") {\n",
       "                    MathJax.typeset([flipper]);\n",
       "                }\n",
       "            }\n",
       "        } else {\n",
       "            console.log('MathJax not detected');\n",
       "        }\n",
       "\n",
       "\n",
       "        cardnum = (cardnum + 1) % mydiv.dataset.numCards;\n",
       "    }\n",
       "    mydiv.dataset.cardnum = cardnum;\n",
       "\n",
       "    var next=document.getElementById(id+'-next');\n",
       "    if (cards.length==1) {\n",
       "        // Don't show next if no other cards!\n",
       "        next.style.pointerEvents='none';\n",
       "        next.classList.add('hide');\n",
       "    } else {\n",
       "        next.innerHTML=\"Next >\";\n",
       "    }\n",
       "\n",
       "    if (grabFocus == \"True\" )\n",
       "        mydiv.focus();\n",
       "\n",
       "    return flipper;\n",
       "}\n",
       "\n",
       "\n",
       "\n",
       "\n",
       "\n",
       "        function try_create() {\n",
       "          if(document.getElementById(\"sxYOZGacUvtH\")) {\n",
       "            createCards(\"sxYOZGacUvtH\", \"True\", \"False\");\n",
       "          } else {\n",
       "             setTimeout(try_create, 200);\n",
       "          }\n",
       "        };\n",
       "    \n",
       "var cardssxYOZGacUvtH=[\r\n",
       "    {\r\n",
       "        \"front\": \"What is heat stress ?\",\r\n",
       "        \"back\": \"Heat Stress is Heat stress occurs when the body's ability to cool itself is overwhelmed by the amount of heat it absorbs from the environment or produces internally. It can lead to heat-related illnesses like heat exhaustion, heat stroke, heat cramps, and heat rash.\"\r\n",
       "    },\r\n",
       "    {\r\n",
       "        \"front\": \"What are urban heat islands ?\",\r\n",
       "        \"back\": \"An urban heat island refers to a phenomenon where a city is significantly warmer than the surrounding rural areas, primarily due to the presence of heat-absorbing surfaces like asphalt roads, buildings, and concrete, which absorb sunlight during the day and release that heat slowly at night, creating a hot spot.\"\r\n",
       "    },\r\n",
       "    {\r\n",
       "        \"front\": \"What is the Copernicus Climate Data Store ? \",\r\n",
       "        \"back\": \"The Copernicus Climate Data Store is The Copernicus Climate Data Store (CDS) is a web-based platform that provides free access to a vast collection of climate data, including satellite observations, in-situ measurements, climate model projections, and seasonal forecasts, allowing users to explore past, present, and future climate information across the globe. \"\r\n",
       "    },\r\n",
       "\r\n",
       "    {\r\n",
       "        \"front\": \"What is the Copernicus Climate Data Store API ? \",\r\n",
       "        \"back\": \"The Copernicus Climate Data Store API is The Copernicus Climate Data Store API (CDS API) is a programming interface that allows users to access and retrieve climate data from the Copernicus Climate Change Service's (C3S) Climate Data Store (CDS) programmatically using a programming language called Python. \"\r\n",
       "    }, \r\n",
       "    {\r\n",
       "        \"front\": \"What is Healthsites.io ? \",\r\n",
       "        \"back\": \"Healthsites.io is a free, open-source platform that creates and maintains a global map of health facilities. \"\r\n",
       "    },\r\n",
       "    {\r\n",
       "        \"front\": \"What is the Healthsites.io API ? \",\r\n",
       "        \"back\": \"The Healthsites.io API is an online interface that allows developers to access and utilize a global database of healthcare facility locations, providing details like coordinates, services offered, and contact information, primarily sourced from OpenStreetMap data. \"\r\n",
       "    }\r\n",
       "];\n",
       "var frontColorssxYOZGacUvtH= [\"var(--asparagus)\", \"var(--terra-cotta)\", \"var(--cyan-process)\" ];\n",
       "var backColorssxYOZGacUvtH= [\"var(--dark-blue-gray)\" ];\n",
       "var textColorssxYOZGacUvtH= [\"var(--snow)\" ];\n",
       "\n",
       "\n",
       "        {\n",
       "        const jmscontroller = new AbortController();\n",
       "        const signal = jmscontroller.signal;\n",
       "\n",
       "        setTimeout(() => jmscontroller.abort(), 5000);\n",
       "\n",
       "        fetch(\"https://raw.githubusercontent.com/PHI-Case-Studies/2024-Climate-Heat-Stress/refs/heads/main/flashcards.json\", {signal})\n",
       "        .then(response => response.json())\n",
       "        .then(json => createCards(\"sxYOZGacUvtH\", \"True\", \"False\"))\n",
       "        .catch(err => {\n",
       "        console.log(\"Fetch error or timeout\");\n",
       "        try_create(); \n",
       "        });\n",
       "        }\n",
       "        "
      ],
      "text/plain": [
       "<IPython.core.display.Javascript object>"
      ]
     },
     "metadata": {},
     "output_type": "display_data"
    }
   ],
   "source": [
    "# we are going to use a python library called jupyter cards to test our knowledge with interactive flashcards\n",
    "import micropip\n",
    "await micropip.install('jupytercards')                  \n",
    "from jupytercards import display_flashcards\n",
    "github='https://raw.githubusercontent.com/PHI-Case-Studies/2024-Climate-Heat-Stress/refs/heads/main/'\n",
    "display_flashcards(github+'flashcards.json')\n",
    "# remember this url:  https://raw.githubusercontent.com/PHI-Case-Studies/2024-Climate-Heat-Stress/refs/heads/main/flashcards.json"
   ]
  },
  {
   "cell_type": "code",
   "execution_count": 14,
   "id": "b19d5102-6b24-4780-8b4f-fd3065e37c9a",
   "metadata": {},
   "outputs": [
    {
     "data": {
      "application/vnd.jupyter.widget-view+json": {
       "model_id": "2b8c7832e8d440cd9de9f58234cb1565",
       "version_major": 2,
       "version_minor": 0
      },
      "text/plain": [
       "VBox(children=(Button(description='Next Flashcard', style=ButtonStyle()),))"
      ]
     },
     "metadata": {},
     "output_type": "display_data"
    },
    {
     "data": {
      "text/html": [
       "\n",
       "    <div style='border: 2px solid #007acc; padding: 15px; margin: 10px; width: 60%;'>\n",
       "        <h3>Flashcard 1 of 6</h3>\n",
       "        <p><strong>Question:</strong> What is heat stress ?</p>\n",
       "        <p><strong>Answer:</strong> Heat Stress is Heat stress occurs when the body's ability to cool itself is overwhelmed by the amount of heat it absorbs from the environment or produces internally. It can lead to heat-related illnesses like heat exhaustion, heat stroke, heat cramps, and heat rash.</p>\n",
       "    </div>\n",
       "    "
      ],
      "text/plain": [
       "<IPython.core.display.HTML object>"
      ]
     },
     "metadata": {},
     "output_type": "display_data"
    }
   ],
   "source": [
    "import json\n",
    "from IPython.display import display, HTML\n",
    "\n",
    "# Load the flashcards from the JSON file\n",
    "flashcards_path = 'flashcards.json'\n",
    "with open(flashcards_path, 'r') as f:\n",
    "    flashcards = json.load(f)\n",
    "\n",
    "# Initialize variables\n",
    "current_card = 0\n",
    "total_cards = len(flashcards)\n",
    "\n",
    "def display_flashcard(card_index):\n",
    "    \"\"\"Display the flashcard content.\"\"\"\n",
    "    card = flashcards[card_index]\n",
    "    display(HTML(f\"\"\"\n",
    "    <div style='border: 2px solid #007acc; padding: 15px; margin: 10px; width: 60%;'>\n",
    "        <h3>Flashcard {card_index + 1} of {total_cards}</h3>\n",
    "        <p><strong>Question:</strong> {card['front']}</p>\n",
    "        <p><strong>Answer:</strong> {card['back']}</p>\n",
    "    </div>\n",
    "    \"\"\"))\n",
    "\n",
    "def next_flashcard():\n",
    "    \"\"\"Move to the next flashcard or indicate the end.\"\"\"\n",
    "    global current_card\n",
    "    if current_card < total_cards:\n",
    "        display_flashcard(current_card)\n",
    "        current_card += 1\n",
    "    else:\n",
    "        display(HTML(\"<h3>End of Flashcards! You've reached the last card.</h3>\"))\n",
    "\n",
    "# Start the interactive session\n",
    "from ipywidgets import Button, VBox\n",
    "\n",
    "next_button = Button(description=\"Next Flashcard\")\n",
    "next_button.on_click(lambda _: next_flashcard())\n",
    "\n",
    "# Initial display\n",
    "display(VBox([next_button]))\n",
    "next_flashcard()\n"
   ]
  },
  {
   "cell_type": "code",
   "execution_count": null,
   "id": "f7832f8d-173c-4ecd-bc28-e31e9cedc20c",
   "metadata": {},
   "outputs": [
    {
     "data": {
      "application/vnd.jupyter.widget-view+json": {
       "model_id": "2eec4b90983a43d6b7b0c33b9a500882",
       "version_major": 2,
       "version_minor": 0
      },
      "text/plain": [
       "VBox(children=(Button(button_style='primary', description='Next Flashcard', style=ButtonStyle()), Output()))"
      ]
     },
     "metadata": {},
     "output_type": "display_data"
    }
   ],
   "source": [
    "import json\n",
    "from IPython.display import display, HTML, Javascript\n",
    "from ipywidgets import Button, Output, VBox\n",
    "\n",
    "# Load the flashcards from the JSON file\n",
    "flashcards_path = 'flashcards.json'\n",
    "with open(flashcards_path, 'r') as f:\n",
    "    flashcards = json.load(f)\n",
    "\n",
    "# Initialize variables\n",
    "current_card = 0\n",
    "total_cards = len(flashcards)\n",
    "output = Output()\n",
    "\n",
    "def create_flashcard_html(card, is_front=True):\n",
    "    \"\"\"Generate the HTML for a flashcard.\"\"\"\n",
    "    side = \"front\" if is_front else \"back\"\n",
    "    content = card['front'] if is_front else card['back']\n",
    "    return f\"\"\"\n",
    "    <div id='flashcard' style='border: 2px solid #007acc; padding: 20px; margin: 10px; width: 60%; text-align: center; cursor: pointer;'\n",
    "         onclick='toggleFlashcard()'>\n",
    "        <h3>{side.capitalize()} of Flashcard {current_card + 1} of {total_cards}</h3>\n",
    "        <p>{content}</p>\n",
    "    </div>\n",
    "    <script>\n",
    "    function toggleFlashcard() {{\n",
    "        var flashcard = document.getElementById('flashcard');\n",
    "        if (flashcard.innerHTML.includes(\"{card['front']}\")) {{\n",
    "            flashcard.innerHTML = `{create_flashcard_html(card, is_front=False)}`;\n",
    "        }} else {{\n",
    "            flashcard.innerHTML = `{create_flashcard_html(card, is_front=True)}`;\n",
    "        }}\n",
    "    }}\n",
    "    </script>\n",
    "    \"\"\"\n",
    "\n",
    "def display_flashcard(card_index):\n",
    "    \"\"\"Display the current flashcard.\"\"\"\n",
    "    card = flashcards[card_index]\n",
    "    with output:\n",
    "        output.clear_output(wait=True)\n",
    "        display(HTML(create_flashcard_html(card)))\n",
    "\n",
    "def next_flashcard(_):\n",
    "    \"\"\"Move to the next flashcard or indicate the end.\"\"\"\n",
    "    global current_card\n",
    "    with output:\n",
    "        output.clear_output(wait=True)\n",
    "        if current_card < total_cards:\n",
    "            display_flashcard(current_card)\n",
    "            current_card += 1\n",
    "        else:\n",
    "            display(HTML(\"<h3>End of Flashcards! You've reached the last card.</h3>\"))\n",
    "\n",
    "# Create the Next button\n",
    "next_button = Button(description=\"Next Flashcard\", button_style=\"primary\")\n",
    "next_button.on_click(next_flashcard)\n",
    "\n",
    "# Initial display\n",
    "display(VBox([next_button, output]))\n",
    "next_flashcard(None)\n"
   ]
  },
  {
   "cell_type": "code",
   "execution_count": null,
   "id": "91d7422d-5188-44fe-a73e-a4afbb8003ff",
   "metadata": {},
   "outputs": [],
   "source": []
  },
  {
   "cell_type": "code",
   "execution_count": null,
   "id": "ad2f1779-9c6e-4a09-bad7-6f31acb3b397",
   "metadata": {},
   "outputs": [],
   "source": []
  },
  {
   "cell_type": "code",
   "execution_count": null,
   "id": "773fdfcd-d982-4075-999c-c8eab7b98392",
   "metadata": {},
   "outputs": [],
   "source": [
    "# jupyterquiz"
   ]
  },
  {
   "cell_type": "markdown",
   "id": "0cde091e-60fe-435f-b905-d6e4c21ed27a",
   "metadata": {},
   "source": [
    "This notebook tests and demonstrates the jupyterquiz library and its use. It draws from a set of example questions that show the supported capabilities of the jupyterquiz library.\n",
    "\n",
    "In particular, this notebook also serves to test different ways for the library to load questions:\n",
    "\n",
    "From a URL: This is the preferred approach. It will embed a copy of the questions in your Jupyter notebook (and Jupyter book), but it will also try to load the latest version of the questions from the URL via Javascript at page load time. If the questions cannot be loaded from the URL, the stored versions will be used as a fallback.\n",
    "From a JSON File: This may be more convenient for local testing.\n",
    "From a Python Dict: This is probably the best path for testing new questions because they can be added and tested within a Jupyter notebook.\n",
    "jupyterquiz supports drawing a random subset of questions, and that is also tested."
   ]
  },
  {
   "cell_type": "code",
   "execution_count": null,
   "id": "e7fc634d-b8e5-40f8-b1e8-0a936c7e2a3b",
   "metadata": {},
   "outputs": [],
   "source": [
    "from jupyterquiz import display_quiz\n",
    "\n",
    "git_path=\"https://raw.githubusercontent.com/jmshea/jupyterquiz/main/examples/\""
   ]
  },
  {
   "cell_type": "code",
   "execution_count": null,
   "id": "6caaf0c4-109f-4825-9871-d99440174892",
   "metadata": {},
   "outputs": [],
   "source": [
    "display_quiz(git_path+\"questions.json\")"
   ]
  },
  {
   "cell_type": "code",
   "execution_count": null,
   "id": "512fa1ca-179a-42d4-a9da-667a79f736e3",
   "metadata": {},
   "outputs": [],
   "source": [
    "display_quiz(git_path+\"questions.json\", colors='fdsp')"
   ]
  },
  {
   "cell_type": "code",
   "execution_count": null,
   "id": "98fe0fe7-770a-4589-a61d-46a376307eb5",
   "metadata": {},
   "outputs": [],
   "source": [
    "display_quiz(\"examples/questions.json\", \n",
    "            )"
   ]
  },
  {
   "cell_type": "code",
   "execution_count": null,
   "id": "cf59697b-8737-4d49-b454-052db7a01512",
   "metadata": {},
   "outputs": [],
   "source": [
    "display_quiz(\"examples/questions.json\", \n",
    "             colors={\n",
    "               '--jq-many-choice-bg': '#224dea',\n",
    "               '--jq-multiple-choice-bg': '#a45995'\n",
    "             }\n",
    "            )"
   ]
  },
  {
   "cell_type": "code",
   "execution_count": null,
   "id": "f8d8107c-6264-4fb3-84a8-d8821ad0be23",
   "metadata": {},
   "outputs": [],
   "source": [
    "import json\n",
    "with open(\"examples/questions.json\", \"r\") as file:\n",
    "    questions=json.load(file)\n",
    "    \n",
    "display_quiz(questions,  border_radius=0)"
   ]
  },
  {
   "cell_type": "code",
   "execution_count": null,
   "id": "e46e8daa-dfbc-4740-8f11-0fc03167729b",
   "metadata": {},
   "outputs": [],
   "source": [
    "# #Leave this here for when doing question development\n",
    "\n",
    "# import json\n",
    "# with open(\"examples/questions.json\", \"w\") as file:\n",
    "#     json.dump(questions, file, indent=4)"
   ]
  },
  {
   "cell_type": "code",
   "execution_count": null,
   "id": "26e08990-65b2-4c74-998c-a9280cd6972d",
   "metadata": {},
   "outputs": [],
   "source": [
    "display_quiz(git_path+\"questions.json\",2)"
   ]
  },
  {
   "cell_type": "code",
   "execution_count": null,
   "id": "5c5dfd67-c736-4aaa-b41f-cbb0c91e4837",
   "metadata": {},
   "outputs": [],
   "source": [
    "github_preview=[questions[0]]+[questions[2]]"
   ]
  },
  {
   "cell_type": "code",
   "execution_count": null,
   "id": "5d9de601-4765-4441-9955-b28b464853ab",
   "metadata": {},
   "outputs": [],
   "source": [
    "display_quiz(github_preview)"
   ]
  },
  {
   "cell_type": "code",
   "execution_count": null,
   "id": "eae7a2c7-b597-43ff-a894-6f6aae9378d9",
   "metadata": {},
   "outputs": [],
   "source": [
    "display_quiz(git_path+\"questions.json\", border_radius=0, question_alignment='center', max_width=1000)"
   ]
  },
  {
   "cell_type": "code",
   "execution_count": null,
   "id": "83502e8b-1ea0-437b-9210-2c9953a11f4b",
   "metadata": {},
   "outputs": [],
   "source": [
    "example_link = [{\n",
    "        \"question\": \"The variable mylist is a Python list. \" + \\\n",
    "        \"Choose which code snippet will append the item 3 to mylist. \" +\n",
    "        \"See [W3Schools: Python Join Two Lists]\" + \\\n",
    "        \"(https://www.w3schools.com/python/gloss_python_join_lists.asp) for reference.\",\n",
    "        \"type\": \"multiple_choice\",\n",
    "        \"answers\": [\n",
    "            {\n",
    "                \"code\": \"mylist+=3\",\n",
    "                \"correct\": False\n",
    "            },\n",
    "            {\n",
    "                \"code\": \"mylist+=[3]\",\n",
    "                \"correct\": True\n",
    "            },\n",
    "            {\n",
    "                \"code\": \"mylist+={3}\",\n",
    "                \"correct\": False\n",
    "            }\n",
    "        ]\n",
    "    }]"
   ]
  },
  {
   "cell_type": "code",
   "execution_count": null,
   "id": "9637e590-d8f0-418f-86ab-78febfebbbb1",
   "metadata": {},
   "outputs": [],
   "source": [
    "display_quiz(example_link)"
   ]
  },
  {
   "cell_type": "markdown",
   "id": "9d9989cc-165d-448a-a388-a018afb57f45",
   "metadata": {},
   "source": [
    "# References"
   ]
  },
  {
   "cell_type": "markdown",
   "id": "64015722-c1e6-4517-add6-921a877376a3",
   "metadata": {
    "tags": []
   },
   "source": [
    "#### Publications \n",
    " - Arya, Subhash C.  2002.  Adequate quality of HIV drugs must be ensured.  URL: https://www.bmj.com/content/324/7331/235.3\n",
    "\n",
    " - Dražen Odobašić and Franka Grubišić 2016.  Healthsites.io – a Free, Curated, Global, Canonical Source of Healthcare Location Data for Emergency Relief, DiseaseEpidemic and Crisis Situations\n",
    "   URL: https://www.researchgate.net/publication/303752831_HealthsitesIo_-A_Free_Curated_Global_Canonical_Source_of_Healthcare_Location_Data_for_Emergency_Relief_Disease_Epidemic_and_Crisis_Situations\n",
    "\n",
    " - Mora et al. 2017.  Global risk of deadly heat.  URL:  https://www.nature.com/articles/nclimate3322\n",
    "\n",
    " - Hill, Alice C., Babin, M., and Baumgartner, S. 2021.  A World Overheating:  Longer and more intense heatwaves have become a regular feature of the worsening climate crisis.  See the damage they've caused and how governments are adapting to unavoidable extremes.\n",
    "   URL: https://www.cfr.org/article/climate-change-world-overheating-how-countries-adapt-extreme-temperature\n",
    "\n",
    " - Padison, Laura 2024. (CNN) These are the places most at risk from record-breaking heat waves as the planet warms.  \n",
    "   URL: https://www.cnn.com/2023/04/25/world/heatwaves-temperature-record-climate-intl\n",
    "\n",
    " - Marti et. al 2021.  Evaluating urban greening scenarios for urban heat mitigation: a spatially explicit approach.\n",
    "   URL:  https://royalsocietypublishing.org/doi/10.1098/rsos.202174\n",
    "\n",
    " - Sun, Q., Miao, C., Hanel, M., Borthwick, A.G.L., Duan, Q, and Li, H. 2019. Global heat stress on health, wildfires, and agricultural crops under different levels of climate warming.   \n",
    "   URL: https://www.sciencedirect.com/science/article/pii/S0160412018328654\n",
    "\n",
    " - Saameli, R., Kalubi, D., Herringer, M., Sutton, T., de Roodenbeke, E. (2018). Healthsites.io: The Global Healthsites Mapping Project. In: Hostettler, S., Najih Besson, S., Bolay, JC. (eds) Technologies for Development. UNESCO 2016. Springer, Cham. https://doi.org/10.1007/978-3-319-91068-0_5\n",
    "\n",
    " - Tobias et. al (2024).  PEPFAR Adapts to Sea Level Rise and Storm-Surge: Potential Impacts to Coastal Cities and Facilities (2030)  \n",
    "   URL: https://www.researchgate.net/publication/382801849_PEPFAR_Adapts_to_Sea_Level_Rise_and_Storm-Surge_Potential_Impacts_to_Coastal_Cities_and_Facilities_2030\n",
    "\n",
    " - Ton et. al (2024).  A global dataset of 7 billion individuals with socio-economic characteristics.   URL: https://www.nature.com/articles/s41597-024-03864-2\n",
    "\n",
    "#### Github repositories\n",
    " - PHI-Case-Studies, Climate Heat Stress.   URL:  https://github.com/PHI-Case-Studies/2024-Climate-Heat-Stress\n",
    " - NetCDF4-python URL:  https://github.com/Unidata/netcdf4-python \n",
    " - Xarray tutorial:  URL: https://github.com/xarray-contrib/xarray-tutorial   \n",
    "\n",
    "#### Tutorials and Infographics\n",
    " - Australia Coast Adapt:  What are the RCPs?:  https://coastadapt.com.au/sites/default/files/infographics/15-117-NCCARFINFOGRAPHICS-01-UPLOADED-WEB%2827Feb%29.pdf \n",
    " - Copernicus Climate Change Service, Tutorial on Climatologies using Climate Data from C3S.  URL:  https://ecmwf-projects.github.io/copernicus-training-c3s/reanalysis-climatology.html\n",
    " - ESRI Creating NetCDF4 files.  URL:  https://www.esri.com/arcgis-blog/products/arcgis/data-management/creating-netcdf-files-for-analysis-and-visualization-in-arcgis/\n",
    " - NetCDF Tutorial:  https://unidata.github.io/netcdf4-python/#tutorial\n",
    " - Slicing and clipping of NetCDF4 files based uppon a shapefile or bounding box.  URL:  https://nmathewa.medium.com/diving-deep-in-to-netcdf4-fc0cc37d2717\n",
    " - Why are Trees so Cool.   Paul Horn, Inside Climate News.  NC State and US Forest service.   URL:  https://www.facebook.com/photo/?fbid=876944577809783&set=a.420446040126308\n",
    " - Xarray Tutorial:  https://tutorial.xarray.dev/intro.html\n",
    "\n",
    "#### Videos\n",
    " - The Lancet Countdown: heat stress.  URL: https://www.youtube.com/watch?v=str9o7sHd9E\n",
    " - Global Center on Adaptation.  Heat Stress:  The Silent Killer in Indian Cities.  URL:  https://www.youtube.com/watch?v=4QDUwmHNUAA\n",
    " - CBS News.  What is an Urban Heat Island ?  URL: https://www.youtube.com/watch?v=0Wevbkcg43g\n",
    " - Bloomberg Originals, Bloomberg City Labs.  How Singapore Uses Science to Stay Cool.  URL:  https://www.youtube.com/watch?v=PM101DvvG4Q\n",
    " - European Space Agency.  25 Years of Copernicus.  URL:  https://www.youtube.com/watch?v=vyoXKUuAf5E\n",
    " - Coupled Model Intercomparison Project (CMIP).  URL:  https://www.youtube.com/watch?v=AlAzLlrMXWM\n",
    "\n",
    "#### Websites and APIs\n",
    " - Australia Coast Adapt:  https://www.coastadapt.com.au/\n",
    "\n",
    " - BoundingBox:  https://boundingbox.klokantech.com/   Klokan Technologies:  https://www.klokantech.com/\n",
    "\n",
    " - Climate Data Store:  https://cds.climate.copernicus.eu/#!/home\n",
    "\n",
    " - Climate Data Store Applications:  https://cds.climate.copernicus.eu/applications\n",
    "\n",
    " - Copernicus Interactive Climate Atlas (C3S Atlas):  https://atlas.climate.copernicus.eu/atlas\n",
    "\n",
    " - Climate Data Store API:  https://cds.climate.copernicus.eu/how-to-api\n",
    "\n",
    " - Earthlab:  Introduction to the NetCDF4 Hierarchical Data Format.\n",
    "   https://www.earthdatascience.org/courses/use-data-open-source-python/hierarchical-data-formats-hdf/intro-to-climate-data/\n",
    "\n",
    " - Global Healthsites Mapping Project:  https://wiki.openstreetmap.org/wiki/Global_Healthsites_Mapping_Project\n",
    "\n",
    " - Healthsites.io:  https://healthsites.io/   \n",
    "\n",
    " - Healthsites API Version 3:  https://healthsites.io/api/docs/\n",
    "\n",
    " - JeopardyLabs:  https://jeopardylabs.com/\n",
    "\n",
    " - National Geographic Society, The Greenhouse Effect and Our Planet.  URL:  Source: https://education.nationalgeographic.org/resource/greenhouse-effect-our-planet/"
   ]
  },
  {
   "cell_type": "code",
   "execution_count": null,
   "id": "9303901f-9e46-487b-9afd-7f75191f52da",
   "metadata": {},
   "outputs": [],
   "source": []
  }
 ],
 "metadata": {
  "kernelspec": {
   "display_name": "Python [conda env:holoviews-py3] *",
   "language": "python",
   "name": "conda-env-holoviews-py3-py"
  },
  "language_info": {
   "codemirror_mode": {
    "name": "ipython",
    "version": 3
   },
   "file_extension": ".py",
   "mimetype": "text/x-python",
   "name": "python",
   "nbconvert_exporter": "python",
   "pygments_lexer": "ipython3",
   "version": "3.10.15"
  }
 },
 "nbformat": 4,
 "nbformat_minor": 5
}
