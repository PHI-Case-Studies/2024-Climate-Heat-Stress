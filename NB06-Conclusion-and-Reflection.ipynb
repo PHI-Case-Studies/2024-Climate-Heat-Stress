{
 "cells": [
  {
   "cell_type": "markdown",
   "id": "aae77b03-fd96-4394-9817-577f089aed88",
   "metadata": {},
   "source": [
    "## INTRODUCTION AND BACKGROUND"
   ]
  },
  {
   "cell_type": "code",
   "execution_count": null,
   "id": "2836cb4f-7d16-4544-9542-6acb2ace4c6b",
   "metadata": {},
   "outputs": [],
   "source": []
  },
  {
   "cell_type": "markdown",
   "id": "27fe20d0-8c78-4e19-b77b-a8de162d375a",
   "metadata": {},
   "source": [
    "## Summary of key concepts and findings"
   ]
  },
  {
   "cell_type": "code",
   "execution_count": null,
   "id": "d43734e7-f43a-4e23-89cf-0a7a2b083af0",
   "metadata": {},
   "outputs": [],
   "source": []
  },
  {
   "cell_type": "code",
   "execution_count": null,
   "id": "308112c8-46d2-425d-b177-75fa07f79a7d",
   "metadata": {},
   "outputs": [],
   "source": []
  },
  {
   "cell_type": "code",
   "execution_count": null,
   "id": "7b4016fe-3b82-46c0-9c38-82b7b19ecca3",
   "metadata": {},
   "outputs": [],
   "source": []
  },
  {
   "cell_type": "markdown",
   "id": "25c140fd-f47a-4721-80e3-949623915366",
   "metadata": {},
   "source": [
    "## Reflection questions to encourage critical thinking"
   ]
  },
  {
   "cell_type": "code",
   "execution_count": null,
   "id": "83359ccd-aa2f-4760-9c77-b8cb62548e54",
   "metadata": {},
   "outputs": [],
   "source": []
  },
  {
   "cell_type": "code",
   "execution_count": null,
   "id": "6d265c20-28c9-4e15-a2a6-ca956d9b0f81",
   "metadata": {},
   "outputs": [],
   "source": []
  },
  {
   "cell_type": "code",
   "execution_count": null,
   "id": "810bae42-a9ab-4842-90d3-a8ac6345fce8",
   "metadata": {},
   "outputs": [],
   "source": []
  },
  {
   "cell_type": "markdown",
   "id": "67501761-0265-42ea-b7ae-e2cf60a32ae7",
   "metadata": {},
   "source": [
    "## Discussion on the importance of addressing climate change and heat stress"
   ]
  },
  {
   "cell_type": "code",
   "execution_count": null,
   "id": "7f4c9abe-1cea-465c-87f1-e910ac48a196",
   "metadata": {},
   "outputs": [],
   "source": []
  },
  {
   "cell_type": "code",
   "execution_count": null,
   "id": "8ceb1b93-65d0-401d-97ee-946e5c0aef1e",
   "metadata": {},
   "outputs": [],
   "source": []
  },
  {
   "cell_type": "code",
   "execution_count": null,
   "id": "39dd072e-421e-4584-be36-fb8b45845e78",
   "metadata": {},
   "outputs": [],
   "source": []
  },
  {
   "cell_type": "markdown",
   "id": "647fcef2-b1bf-4365-95f3-932bae96f62d",
   "metadata": {},
   "source": [
    "## Interactive quiz to test knowledge"
   ]
  },
  {
   "cell_type": "code",
   "execution_count": null,
   "id": "c3614ceb-23a8-436b-9e93-cd16ca682544",
   "metadata": {},
   "outputs": [],
   "source": []
  },
  {
   "cell_type": "code",
   "execution_count": null,
   "id": "bb297b70-18a1-4984-a6c5-6f93ef760bb3",
   "metadata": {},
   "outputs": [],
   "source": []
  },
  {
   "cell_type": "markdown",
   "id": "e67d80c1-ef84-48db-82d2-42f9070ac9f5",
   "metadata": {},
   "source": [
    "## Certificate of Completion for players"
   ]
  },
  {
   "cell_type": "code",
   "execution_count": null,
   "id": "0369f1da-b1cd-4c3a-a5b9-daddd0c39149",
   "metadata": {},
   "outputs": [],
   "source": []
  },
  {
   "cell_type": "code",
   "execution_count": null,
   "id": "3777ae1a-2d42-4c0d-bcbf-2d6e755292a9",
   "metadata": {},
   "outputs": [],
   "source": []
  },
  {
   "cell_type": "markdown",
   "id": "d0e211e7-4369-4d0e-bae2-45e6a39e50b4",
   "metadata": {},
   "source": [
    "## References"
   ]
  },
  {
   "cell_type": "code",
   "execution_count": null,
   "id": "17858101-879d-45ac-a9f7-dc8ab5200b64",
   "metadata": {},
   "outputs": [],
   "source": []
  },
  {
   "cell_type": "code",
   "execution_count": null,
   "id": "fa7cf094-53da-4e3f-b8ac-9c38f2be41e0",
   "metadata": {},
   "outputs": [],
   "source": []
  },
  {
   "cell_type": "code",
   "execution_count": null,
   "id": "bc187120-e83c-4067-aa60-5b781eef4e28",
   "metadata": {},
   "outputs": [],
   "source": []
  },
  {
   "cell_type": "code",
   "execution_count": null,
   "id": "154bfd67-4eef-4ba3-bd26-4acab65178d2",
   "metadata": {},
   "outputs": [],
   "source": []
  },
  {
   "cell_type": "code",
   "execution_count": null,
   "id": "5916e94e-f88f-4082-95e8-011ad01e86c8",
   "metadata": {},
   "outputs": [],
   "source": []
  },
  {
   "cell_type": "code",
   "execution_count": null,
   "id": "ecf91d84-ee67-43d3-9469-eb334ac5675a",
   "metadata": {},
   "outputs": [],
   "source": []
  }
 ],
 "metadata": {
  "kernelspec": {
   "display_name": "Python [conda env:osmnx-py3] *",
   "language": "python",
   "name": "conda-env-osmnx-py3-py"
  },
  "language_info": {
   "codemirror_mode": {
    "name": "ipython",
    "version": 3
   },
   "file_extension": ".py",
   "mimetype": "text/x-python",
   "name": "python",
   "nbconvert_exporter": "python",
   "pygments_lexer": "ipython3",
   "version": "3.9.9"
  }
 },
 "nbformat": 4,
 "nbformat_minor": 5
}
