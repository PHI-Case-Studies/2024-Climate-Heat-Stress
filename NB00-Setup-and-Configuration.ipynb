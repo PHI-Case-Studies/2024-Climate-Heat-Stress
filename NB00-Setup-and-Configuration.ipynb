{
 "cells": [
  {
   "cell_type": "markdown",
   "id": "8b9ddc22-1a2a-4edd-84f2-c55655febfcb",
   "metadata": {},
   "source": [
    "# Setting up the Copernicus Climate Data Store API Key"
   ]
  },
  {
   "cell_type": "markdown",
   "id": "a5a79fb8-4563-430e-8c7d-85b407d7a33d",
   "metadata": {},
   "source": [
    "# CDSAPI setup\r\n",
    "The Climate Data Store (CDS) Application Program Interface (API) is a service providing programmatic access to CDS, ADS, ECDS and CEMS Early Warning DS data.\r\n",
    "In this page you will find explanations and examples showing how to use the CDS API.\r\n",
    "\r\n",
    "\r\n",
    "- For Windows users, please read How to install and use CDS API on Windows:  https://confluence.ecmwf.int/display/CKB/How+to+install+and+use+CDS+API+on+Windows\r\n",
    "\r\n",
    "- For macOS users, please read How to install and use CDS API on macOS: https://confluence.ecmwf.int/display/CKB/How+to+install+and+use+CDS+API+on+macOS\r\n",
    "\r\n",
    "- For linux users, please proceed as follows: \r\n",
    "\r\n",
    "\t1. Setup the CDS API personal access token\r\n",
    "\t2. Install the CDS API client\r\n",
    "\t3. Use the CDS API client for data access \r\n"
   ]
  },
  {
   "cell_type": "markdown",
   "id": "dec7fc22-6ea3-4efa-96ae-a286788f3b16",
   "metadata": {},
   "source": [
    "# Setup the CDS API personal access token"
   ]
  },
  {
   "cell_type": "markdown",
   "id": "d52a289a-4919-47bf-aa42-2f65e4f49e85",
   "metadata": {},
   "source": [
    "Here is how to setup the CDS API personal access token:\r\n",
    "\r\n",
    "If you do not have an account yet, please register:  https://accounts.ecmwf.int/auth/realms/ecmwf/login-actions/registration?client_id=cds&tab_id=C29tcVBgQ0Q\r\n",
    "\r\n",
    "If you are not logged in, please login.\r\n",
    "\r\n",
    "Once logged in, copy the code displayed below to the file $HOME/.cdsapirc (in your environment):"
   ]
  },
  {
   "cell_type": "markdown",
   "id": "8722b57c-7a19-4990-825f-e48c9130fcf6",
   "metadata": {},
   "source": [
    "##### url: https://cds.climate.copernicus.eu/api\n",
    "##### key: YOUR-API-KEY-HERE"
   ]
  },
  {
   "cell_type": "markdown",
   "id": "4a47e851-750e-4ded-8f63-03e4c0d97d6d",
   "metadata": {},
   "source": [
    "# Install the CDS API client"
   ]
  },
  {
   "cell_type": "markdown",
   "id": "28f59440-d012-43c4-af2c-5a0a481e9b25",
   "metadata": {},
   "source": [
    "The CDS API client is a Python based library. It provides support for Python 3.\r\n",
    "\r\n",
    "You can Install the CDS API client via the package management system pip, by runninx the command below."
   ]
  },
  {
   "cell_type": "markdown",
   "id": "ff8a342c-85df-4ddb-9fb7-47cb4bd6d05b",
   "metadata": {},
   "source": [
    "pip install 'cdsapi>=0.7.2'"
   ]
  },
  {
   "cell_type": "markdown",
   "id": "09ae4e33-f0e8-4886-b975-b9e253bdebd1",
   "metadata": {},
   "source": [
    "# Test / Use the CDS API client for data access"
   ]
  },
  {
   "cell_type": "markdown",
   "id": "95503bba-d124-49fb-a912-27447ea23e7f",
   "metadata": {},
   "source": [
    "Once the CDS API client is installed, it can be used to request data from the datasets listed in the CDS, ADS, ECDS and CEMS Early Warning DS catalogues.\r\n",
    "\r\n",
    "One must agree to the Terms of Use of a dataset before downloading any data out of it. This step must be done manually from the dataset page (at the bottom of the download form).\r\n",
    "\r\n",
    "At the bottom of each dataset download form, press the \"Show API request code\" button to display a Python code snippet that can be used to run the manually built request. The API call must have this syntax:"
   ]
  },
  {
   "cell_type": "code",
   "execution_count": 3,
   "id": "638f820b-004d-4abb-a059-be903598c162",
   "metadata": {},
   "outputs": [],
   "source": [
    "# import cdsapi\n",
    "  \n",
    "  # client = cdsapi.Client()\n",
    "  \n",
    "  # dataset = \"<DATASET-SHORT-NAME>\"\n",
    "  # request = {\n",
    "      # <SELECTION-REQUEST>\n",
    "  # }\n",
    "  # target = \"<TARGET-FILE>\"\n",
    "\n",
    "  # client.retrieve(dataset, request, target)"
   ]
  },
  {
   "cell_type": "markdown",
   "id": "b6487cc6-44f0-4dbe-87de-8e72475d1d0c",
   "metadata": {},
   "source": [
    "# Example CDS API request code:"
   ]
  },
  {
   "cell_type": "code",
   "execution_count": 4,
   "id": "7d6afe39-a048-4205-9fb5-0f001ae4f518",
   "metadata": {},
   "outputs": [],
   "source": [
    "# import cdsapi\n",
    "\n",
    "  # client = cdsapi.Client()\n",
    "  \n",
    "  # dataset = 'reanalysis-era5-pressure-levels'\n",
    "  # request = {\n",
    "      # 'product_type': ['reanalysis'],\n",
    "      # 'variable': ['geopotential'],\n",
    "      # 'year': ['2024'],\n",
    "      # 'month': ['03'],\n",
    "      # 'day': ['01'],\n",
    "      # 'time': ['13:00'],\n",
    "      # 'pressure_level': ['1000'],\n",
    "      # 'data_format': 'grib',\n",
    "  # }\n",
    "  # target = 'download.grib'\n",
    "  \n",
    "  # client.retrieve(dataset, request, target)"
   ]
  },
  {
   "cell_type": "markdown",
   "id": "c078c7f8-f8dd-4a11-8ce1-6311254e4a34",
   "metadata": {},
   "source": [
    "# Troubleshooting CDS API requests"
   ]
  },
  {
   "cell_type": "markdown",
   "id": "42ac2f36-79f4-48e3-bc74-7fbe65477c80",
   "metadata": {},
   "source": [
    "- For troubleshooting, check Common Error Messages for CDS Requests:  https://confluence.ecmwf.int/display/CKB/Common+Error+Messages+for+CDS+Requests"
   ]
  },
  {
   "cell_type": "markdown",
   "id": "b2346219-2738-4958-910c-28bcb5d061f2",
   "metadata": {},
   "source": [
    "# Setting up the Healthsites.io API Key"
   ]
  },
  {
   "cell_type": "markdown",
   "id": "c9ab14ea-39a3-4cc8-91a1-bfa251819661",
   "metadata": {},
   "source": [
    "### HEALTHSITES API DOCUMENTATION\n",
    "\n",
    "Step 1 - Establish an OpenStreetMap account: https://www.openstreetmap.org/user/new\n",
    "\n",
    "Step 2 - Sign into Healthsites with your OSM account https://healthsites.io/map\n",
    "\n",
    "Step 3 - Get an API token off your profile page Click on your user profile to open your profile page. Here you will find an option to generate the token.\n",
    "\n",
    "https://healthsites.io/api/docs/"
   ]
  },
  {
   "cell_type": "markdown",
   "id": "9da07d45-ca8f-412f-9b4b-77596f576442",
   "metadata": {},
   "source": [
    "# APPENDIX CODES"
   ]
  },
  {
   "cell_type": "markdown",
   "id": "82a579d0-fca2-4f86-98f2-79ca80e95bee",
   "metadata": {},
   "source": [
    "### CDS API website"
   ]
  },
  {
   "cell_type": "code",
   "execution_count": 1,
   "id": "5ec02f58-4a63-4dcc-a2e3-0c248866f9e6",
   "metadata": {},
   "outputs": [],
   "source": [
    "# Some code to show you the Climate Data Store API instructions on the Copernicus website\n",
    "from IPython.display import IFrame\n",
    "IFrame(r'https://cds.climate.copernicus.eu/how-to-api', width=1200, height=1200)"
   ]
  },
  {
   "cell_type": "markdown",
   "id": "6c7ba132-2d0d-4bae-893f-7c953646bf90",
   "metadata": {},
   "source": [
    "### CDS API Reference Guide"
   ]
  },
  {
   "cell_type": "code",
   "execution_count": null,
   "id": "e0952219-04db-43d0-8a0a-122ee2f186b9",
   "metadata": {},
   "outputs": [],
   "source": []
  },
  {
   "cell_type": "markdown",
   "id": "c66c02a3-110d-489b-aa98-a4c33f75c0a2",
   "metadata": {},
   "source": [
    "### Healthsites.io website"
   ]
  },
  {
   "cell_type": "code",
   "execution_count": null,
   "id": "dff9b53c-428a-4362-9185-3104e90bc25a",
   "metadata": {},
   "outputs": [],
   "source": [
    "# Some code to show you the Healthsites.io website and instructions to obtain an API key\n",
    "from IPython.display import IFrame\n",
    "IFrame(src=\"https://healthsites.io/\", width='50%', height='500px')"
   ]
  },
  {
   "cell_type": "markdown",
   "id": "106b2438-7be6-4e9d-ba9a-dc2d405c9036",
   "metadata": {},
   "source": [
    "### Healthsites API Version 3 documentation"
   ]
  },
  {
   "cell_type": "code",
   "execution_count": null,
   "id": "932dde62-3dd8-4cf0-9c13-302c00773f91",
   "metadata": {},
   "outputs": [],
   "source": [
    "# leverage the web page for Healthsites.io and instructions to obtain an API key\n",
    "from IPython.display import IFrame\n",
    "IFrame(src=\"https://healthsites.io/api/docs/\", width='50%', height='500px')"
   ]
  },
  {
   "cell_type": "markdown",
   "id": "47ba1dbb-1a29-49ac-ac36-98b390eb3340",
   "metadata": {},
   "source": [
    "# REFERENCES"
   ]
  },
  {
   "cell_type": "markdown",
   "id": "7fbe5b3d-d4a7-4195-9291-2431106bca92",
   "metadata": {},
   "source": [
    "#### Publications \n",
    "\n",
    " - Dražen Odobašić and Franka Grubišić 2016.  Healthsites.io – a Free, Curated, Global, Canonical Source of Healthcare Location Data for Emergency Relief, DiseaseEpidemic and Crisis Situations\n",
    "   URL: https://www.researchgate.net/publication/303752831_HealthsitesIo_-A_Free_Curated_Global_Canonical_Source_of_Healthcare_Location_Data_for_Emergency_Relief_Disease_Epidemic_and_Crisis_Situations\n",
    "\n",
    "\n",
    "#### Tutorials and Infographics \n",
    " - Copernicus Climate Change Service, Tutorial on Climatologies using Climate Data from C3S.  URL:  https://ecmwf-projects.github.io/copernicus-training-c3s/reanalysis-climatology.html\n",
    "\n",
    "\n",
    "#### Videos\n",
    " - European Space Agency.  25 Years of Copernicus.  URL:  https://www.youtube.com/watch?v=vyoXKUuAf5E\n",
    " - Coupled Model Intercomparison Project (CMIP).  URL:  https://www.youtube.com/watch?v=AlAzLlrMXWM\n",
    "\n",
    "#### Websites and APIs\n",
    "  - Climate Data Store:  https://cds.climate.copernicus.eu/#!/home\n",
    "\n",
    " - Climate Data Store Applications:  https://cds.climate.copernicus.eu/applications\n",
    "\n",
    " - Copernicus Interactive Climate Atlas (C3S Atlas):  https://atlas.climate.copernicus.eu/atlas\n",
    "\n",
    " - Climate Data Store API:  https://cds.climate.copernicus.eu/how-to-api\n",
    "\n",
    " - Global Healthsites Mapping Project:  https://wiki.openstreetmap.org/wiki/Global_Healthsites_Mapping_Project\n",
    "\n",
    " - Healthsites.io:  https://healthsites.io/   \n",
    "\n",
    " - Healthsites API Version 3:  https://healthsites.io/api/docs/\n",
    " "
   ]
  },
  {
   "cell_type": "code",
   "execution_count": null,
   "id": "750efcf6-b9ec-4d65-bf90-f87d06c6fdfa",
   "metadata": {},
   "outputs": [],
   "source": []
  }
 ],
 "metadata": {
  "kernelspec": {
   "display_name": "Python 3 (ipykernel)",
   "language": "python",
   "name": "python3"
  },
  "language_info": {
   "codemirror_mode": {
    "name": "ipython",
    "version": 3
   },
   "file_extension": ".py",
   "mimetype": "text/x-python",
   "name": "python",
   "nbconvert_exporter": "python",
   "pygments_lexer": "ipython3",
   "version": "3.11.7"
  }
 },
 "nbformat": 4,
 "nbformat_minor": 5
}
