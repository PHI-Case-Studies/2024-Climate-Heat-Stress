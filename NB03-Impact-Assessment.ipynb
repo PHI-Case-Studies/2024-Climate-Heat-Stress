{
 "cells": [
  {
   "cell_type": "markdown",
   "id": "db29b8b8-f322-4664-92b4-f53665ec53f8",
   "metadata": {},
   "source": [
    "# Objectives\n",
    "1. Discuss the direct impacts of global heat stress and how this can potentially affect vulnerable populations at-risk.\n",
    "2. Discuss other impacts:   sea-level-rise, food and water insecurity, conflicts, climate refugees, migration, vector disease, cholera, and more...\n",
    "3. What is a heat stress index ?   Can we access these data from the Climate Data Store ?  Could we also access sea-level-rise data ?\n",
    "4. Discuss potential changes to ocean circulation, bleaching of coral reefs, potential loss of oceanic resources biodiversity,  and ecosystem losses.\n",
    "5. What are the long term implications for global health?\n",
    "6. Will global health programs have climate adaptation plans in conjunction with COP plans ?"
   ]
  },
  {
   "cell_type": "markdown",
   "id": "aae77b03-fd96-4394-9817-577f089aed88",
   "metadata": {},
   "source": [
    "## INTRODUCTION AND BACKGROUND"
   ]
  },
  {
   "cell_type": "markdown",
   "id": "58b8971f-f4af-4afc-bd62-2cf4be9f99f7",
   "metadata": {},
   "source": [
    "- The World Economic Forum identifies as the first two of the more severe risks: the climate change action failure (including adaptation and mitigation) and the extreme weather (directly related with storms, flooding, droughts, etc.) (World Economic Forum 2022, \n",
    "- The global health impacts of global heat stress will have direct impacts upon heat-related morbidity and mortalityand may represent mortality rate increases of as much as 25% (reference).\n",
    "- There will be impacts to the global HIV and TB epidemics (references) but also impacts to vector disease (reference), diahreal disease (reference), cardiovascular disease, and as many as x, % of all infectious disease (reference) by the year 2100.\n",
    "- Vulnerable populations including elderly, children, prisoners, pastoralists, farmers, miners, fisherfolk, and others working outside including construction workers, sex workers, will all have increased risk of morbidity and mortality (references).\n",
    "- The G8 and G20 countries are often the highest contributors to the global carbon footprint and yet many of the poorest nations across the globe will pay the price for the future representative concentration pathways and inherent warming and costs for mitigation and adaptation. (references).\n",
    "- There will be direct impacts of global heat stress and heat-related mortality but also may be many other indirect impacts such as sea-level-rise, cyclones, drought, desertification, food and water insecurity, climate refugees and migration, conflicts and war, and exacerbation of pandemics and outbreaks. (references).\n",
    "- The new realities of global heat stress and climate change will force human populations to adapt.   Failing to plan is planning to fail and those countries with strong National Adaptation Plans (references) may have much better outcomes than those that fail to plan for climate adaptation (references).\n",
    "- The first step to saving lives and reducing mortality rate impacts may be to better understand the most vulnerable populations at-risk to global heat stress and climate change."
   ]
  },
  {
   "cell_type": "markdown",
   "id": "7da5b51d-c671-4815-a7bd-1672df45cb45",
   "metadata": {},
   "source": [
    "### World Economic Forum (2022) identifies most severe risks on global scale over the next 10 years. \n",
    "Source: World Economic Forum, 2022. (Avci A. and Gissing, A., 2022.  Boncheva, 2022)\n",
    "    "
   ]
  },
  {
   "cell_type": "markdown",
   "id": "7a91551f-c519-4be4-9177-9f6d68735302",
   "metadata": {},
   "source": [
    "Climate action failure and Extreme Weather are two of the most severe risks -- especially to vulnerable coastal cities and coastal populations across the globe."
   ]
  },
  {
   "cell_type": "markdown",
   "id": "49333dcb-d6b1-4704-8c71-ada44a3632ab",
   "metadata": {},
   "source": [
    "![image](BN459_Fig1.jpg) "
   ]
  },
  {
   "cell_type": "markdown",
   "id": "44862a92-1837-433c-8daf-49125a889735",
   "metadata": {},
   "source": [
    "## The Relationship between Climate Change and the HIV/AIDS and TB global syndemic "
   ]
  },
  {
   "cell_type": "markdown",
   "id": "25acb1b7-a6a0-4fe5-95f7-9b870bd1555a",
   "metadata": {},
   "source": [
    "- HIV by definition lowers the function of the immune system and people often die of opportunistic infections that take advantage of this immune suppression.\n",
    "- Tuberculosis is one of the most deadly opportunistic infections.  The HIV and TB pandemics are partners in death and a global syndemic that plagues humanity.\n",
    "- Research papers are emerging that describe the complex relationships between climate change and the HIV epidemic as well as social determinants of health."
   ]
  },
  {
   "cell_type": "markdown",
   "id": "ef6cdde3-919f-44d9-96ef-bf2b30940735",
   "metadata": {},
   "source": [
    "- Greenhouse gases will increase temperatures (global heat stress) and sea-level-rise\n",
    "- Natural disasters, flooding, and heatwaves will occur with greater frequency and strength over time\n",
    "- Deforestation, Land degredation, and biodiversity loss will all contribute to depletion of natural resources\n",
    "- Increased migration, higher infectious disease prevalence, infrastructure erosion, food insecurity are secondary impacts of climate change\n",
    "- Exacerbation of the HIV/AIDS epidemic are perhaps tertiary impacts as there will be increase risk of HIV disease infections, hospitalizations, and deaths.\n",
    "- Multiple disease burdens such as co-mordidity with HIV and TB are likely to increase but also other disease burdens such as malaria and cholera may also be a big factor with climate change.\n",
    "- Household resources are likely to decrease along with decreased availability for the workforce and labor which will exacerbate extreme poverty and lead to worsened health outcomes and more deaths."
   ]
  },
  {
   "cell_type": "markdown",
   "id": "c427107b-ae67-4c0d-9945-685940ad7590",
   "metadata": {},
   "source": [
    "##### The Synergistic Relationship Between Climate Change and the HIV/AIDS Epidemic: A Conceptual Framework. \n",
    "##### (Lieber, Chin-Hong, Whittle, Hogg, Weiser, 2021)"
   ]
  },
  {
   "cell_type": "markdown",
   "id": "25c5f0ac-f4c9-4b78-ab48-6b9011286389",
   "metadata": {},
   "source": [
    "![image](Global-Environmental-Change.jpg) "
   ]
  },
  {
   "cell_type": "markdown",
   "id": "fe0e3741-fc1c-43f2-b0ea-ef4b61b7c010",
   "metadata": {},
   "source": [
    "##### Conceptual model linking climate change with HIV health outcomes and Social Determinants of Health (Lieber, Chin-Hong, Whittle, Hogg, Weiser, 2021)"
   ]
  },
  {
   "cell_type": "markdown",
   "id": "7af683f5-f542-418f-8be3-f80baeeac3ca",
   "metadata": {},
   "source": [
    "![image](1-s2.0-S2667278221001036-gr1.jpg) "
   ]
  },
  {
   "cell_type": "markdown",
   "id": "d3394313-2525-49c4-9d01-378a4cb448d7",
   "metadata": {},
   "source": [
    "- Climate Change leads to extreme weather events, sea-level-rise, changes in preciptation and temperature, air pollution\n",
    "- Extreme weather leads to increases in crop failures, forced migration, food insecurity, poor living conditions,  with reduced health, reduced mental health, increases in risky sexual behaviors\n",
    "- Sea-level-rise leads to health system disruption, reduced water quality, reduced \n",
    "- Changes in precipitation and temperature leads to reduced water quality, changes in disease vector distributions and behaviors, increases in food and waterborne infections and vector-borne infections and communicable diseases\n",
    "- Air pollution leads to increases in oxidative stress and systemic inflammation, increased risk for lung disease including infections among PLHIV, increased risk for other diseases among PLHIV (including Tuberculosis)\n",
    "- HIV-Related outcomes will have increases in HIV transmission, susceptibility to HIV, increased HIV morbidity and mortality, increased disease progression among PLHIV, and decreased quality of life for PLHIV.\n",
    "- Social Determinants of Health - will also affect all of these outcomes whicha are likely worsened and exacerbated by climate change and most vulnerable populations within SDOH will suffer increased morbidity and mortality"
   ]
  },
  {
   "cell_type": "markdown",
   "id": "f52a0fd3-8b72-4935-900b-8ca11c07a992",
   "metadata": {},
   "source": [
    "### Frontline AIDS Climate-HIV Framework 2023"
   ]
  },
  {
   "cell_type": "markdown",
   "id": "577d3a0d-c38c-4558-821b-9fdf2fe92881",
   "metadata": {},
   "source": [
    "- Consequences of Climate Change: Extreme Weather related disasters, sea-level-rise, global changes in precipitation and temperature, air pollution \n",
    "- Interconnected Pathways:  increased human migration, increased disease prevalence, increased food insecurity, increased economic stress, increased conflicts/war/terrorism, erosion of health infrastructure\n",
    "- Reduced Health and Rights related to HIV:  increased rates of HIV, reduced access to PrEP and HIV testing, treatment, reduced prevention of mother to child transmission of HIV, more gender-based violence, more child marriage and more sex work\n",
    "- Decreased Health and Well Being for Persons Living with HIV:  Reduced access to ART, Reduced nutritional quality, increased morbidity, mortality, opportunistic infections, increased discrimination, stigma related to gender identity and sexual orientation \n",
    "- Amplifiers:  Social Determinants of Health, Capacity and Resilience of Health Systems and Government"
   ]
  },
  {
   "cell_type": "markdown",
   "id": "4c224089-fb3b-462f-902f-a0eec1221b9d",
   "metadata": {},
   "source": [
    "![image](Frontline-AIDS-Climate-HIV-Framework.png) "
   ]
  },
  {
   "cell_type": "markdown",
   "id": "6158c955-a0b6-49eb-9e4d-f81b135ec78f",
   "metadata": {},
   "source": [
    "## Vulnerable Populations  -  Global Heat Health Information Network "
   ]
  },
  {
   "cell_type": "markdown",
   "id": "ff2ac02c-eb33-4bd7-b963-c772926caf03",
   "metadata": {},
   "source": [
    "-- Suggests that the good news is that \"every heat death is preventable\" but this will involve immediate action, early warning systems, multi-sectoral public policy, public health intiatives, infrastructure improvements, and mitigation / adaptation to climate change to save human lives."
   ]
  },
  {
   "cell_type": "code",
   "execution_count": 17,
   "id": "77ff65ef-4987-4d88-98db-24d9296f7f92",
   "metadata": {},
   "outputs": [
    {
     "data": {
      "text/html": [
       "\n",
       "        <iframe\n",
       "            width=\"1200\"\n",
       "            height=\"1200\"\n",
       "            src=\"https://ghhin.org/heat-and-health/\"\n",
       "            frameborder=\"0\"\n",
       "            allowfullscreen\n",
       "            \n",
       "        ></iframe>\n",
       "        "
      ],
      "text/plain": [
       "<IPython.lib.display.IFrame at 0x24009189390>"
      ]
     },
     "execution_count": 17,
     "metadata": {},
     "output_type": "execute_result"
    }
   ],
   "source": [
    "# Global Heat Health Information Network - WHO\n",
    "from IPython.display import IFrame\n",
    "IFrame(r'https://ghhin.org/heat-and-health/', width=1200, height=1200)"
   ]
  },
  {
   "cell_type": "markdown",
   "id": "f48f331b-27df-4183-b8c2-1268fa8c793a",
   "metadata": {},
   "source": [
    "## Estimates of country level temperature‑related mortality damage functions Bressler, Moore, Rennert, Antoff (2021) "
   ]
  },
  {
   "cell_type": "markdown",
   "id": "7430b0e1-59e1-4cad-857c-e21a7da3f0bb",
   "metadata": {},
   "source": [
    "suggests net increases (up to 25%) in mortality rates (RCP 8.5) by 2100 due to temperature-related mortality with differences with income-based adaptation"
   ]
  },
  {
   "cell_type": "markdown",
   "id": "4d36840a-98b3-45fd-9729-92dac2958032",
   "metadata": {},
   "source": [
    "![image](Bressler-Moore-Rennert-Antoff-2021.png) | ![image](Bressler-Moore-Rennert-Antoff-2021-2.png) "
   ]
  },
  {
   "cell_type": "markdown",
   "id": "bd423c84-6270-4a10-be49-418eff3831ee",
   "metadata": {},
   "source": [
    "# Climate Change impacts on infectious diseases (Mora et al. 2022)"
   ]
  },
  {
   "cell_type": "markdown",
   "id": "6677bf39-c979-4f55-bf6b-7703a661aa91",
   "metadata": {},
   "source": [
    "--Suggests that over half of all infectious diseases are made worse by climate change.   "
   ]
  },
  {
   "cell_type": "markdown",
   "id": "50afc2d1-4810-407f-b48f-4b410b9d9924",
   "metadata": {},
   "source": [
    "![image](Mora-et-al-2022.png) "
   ]
  },
  {
   "cell_type": "markdown",
   "id": "c74e6620-c5ae-4862-bbc0-0003ba7b2b39",
   "metadata": {},
   "source": [
    "# Sea Level Rise is another dimensional component of global heat stress"
   ]
  },
  {
   "cell_type": "markdown",
   "id": "5833deb0-f28e-4619-b11a-416cd6a83739",
   "metadata": {},
   "source": [
    "- The UN Secretary General has described Sea-Level-Rise as a triple threat (reference).   Rising seas will contaminate farm fields, rivers, and waterways that support agriculture and impact food and water insecurity.\n",
    "- Cholera deaths will also increase due to salt-water intrusion and introduction of marine copepods which carry vibrio cholerae and introduce cholera into rivers, lakes, and other waterways.\n",
    "- Flooding may also cross contaminate waste-water pits with nearby wells and sources of drinking water which will increase the potential for cholera outbreaks in vulnerable coastal communities.\n",
    "- Sea-level-rise will increase impacts of cyclones and will result in increased flood related mortality but these rising seas will also damage infrastructure such as healthcare facilities. (Tobias et. al, 2024).\n",
    "- The HIV and TB epidemics will not be immune to sea-level-rise impacts as many PEPFAR-Supported healthcare facilities may be impacted in vulnerable coastal cities in many of the PEFPAR-supported countries (Tobias et. al, 2024)."
   ]
  },
  {
   "cell_type": "markdown",
   "id": "a0d62a5a-1b62-4737-94b5-e30697cda411",
   "metadata": {},
   "source": [
    "## AIDS 2024 Conference poster, PEPFAR Adapts to Sea Level Rise and Storm-Surge:  Potential Impacts to Coastal Cities and Facilities (2030)"
   ]
  },
  {
   "cell_type": "markdown",
   "id": "735b9dbe-af7c-4192-8b1a-2b7ac95e09c3",
   "metadata": {},
   "source": [
    "This poster utilized the Climate Central.org Portfolio Analysis Tool to analyze the flood risk for the President's Emergency Plan for AIDS Relief (PEPFAR) supported healthcare facilities.   The analyses were run for 3 scenarios including RCP 2.6 (drastic CO2 cuts), RCP 4.5 (moderate cuts), and RCP 8.5 (essentially no cuts to CO2).   The flood risk and number of potentially flooded facilities increased in cities such as Bangkok.   The Representative Concentration Pathways (RCPs) scenarios look at the CO2 concentrations by the year 2100 and are explained in Notebook 1.  "
   ]
  },
  {
   "cell_type": "markdown",
   "id": "557f4e9f-b2c3-4f31-ae80-7cbe6bef8ca1",
   "metadata": {},
   "source": [
    "URL:  https://www.researchgate.net/publication/382801849_PEPFAR_Adapts_to_Sea_Level_Rise_and_Storm-Surge_Potential_Impacts_to_Coastal_Cities_and_Facilities_2030"
   ]
  },
  {
   "cell_type": "markdown",
   "id": "63f5b241-2fc6-4bcb-9545-dec0a226b39c",
   "metadata": {},
   "source": [
    "<img src=\"AIDS2024eposterTHPEF698.png\" width=\"1000\">"
   ]
  },
  {
   "cell_type": "markdown",
   "id": "dabba066-228a-4faa-a80f-e26920f1e783",
   "metadata": {},
   "source": [
    "# The Climate Data Store includes datasets for sea-level-rise and storm surge and access with the API (cdsapi)"
   ]
  },
  {
   "cell_type": "markdown",
   "id": "ec8af52f-69f0-4cdd-aabd-e36447bfb942",
   "metadata": {},
   "source": [
    "The python code below is a simple cdsapi call to retrieve sea-level-rise data including:  annual mean of highest high water, annual mean of lowest low water, highest astronomical tide, lowest astronomical tide, mean sea-level, and tidal range.\n"
   ]
  },
  {
   "cell_type": "code",
   "execution_count": 12,
   "id": "257c609b-a595-4cda-b920-59ed406407dd",
   "metadata": {},
   "outputs": [
    {
     "name": "stderr",
     "output_type": "stream",
     "text": [
      "2024-11-22 08:56:58,077 WARNING [2024-11-19T00:00:00] System is experiencing performance issues. Please check updated status [here](https://status.ecmwf.int/)\n",
      "2024-11-22 08:56:58,079 INFO [2024-09-28T00:00:00] **Welcome to the New Climate Data Store (CDS)!** This new system is in its early days of full operations and still undergoing enhancements and fine tuning. Some disruptions are to be expected. Your \n",
      "[feedback](https://jira.ecmwf.int/plugins/servlet/desk/portal/1/create/202) is key to improve the user experience on the new CDS for the benefit of everyone. Thank you.\n",
      "2024-11-22 08:56:58,080 INFO [2024-09-26T00:00:00] Watch our [Forum](https://forum.ecmwf.int/) for Announcements, news and other discussed topics.\n",
      "2024-11-22 08:56:58,081 INFO [2024-09-16T00:00:00] Remember that you need to have an ECMWF account to use the new CDS. **Your old CDS credentials will not work in new CDS!**\n",
      "2024-11-22 08:56:58,082 WARNING [2024-06-16T00:00:00] CDS API syntax is changed and some keys or parameter names may have also changed. To avoid requests failing, please use the \"Show API request code\" tool on the dataset Download Form to check you are using the correct syntax for your API request.\n",
      "2024-11-22 08:56:59,714 INFO Request ID is 601ec5f2-9eb9-41cc-ad3e-8b4495c5f5c3\n",
      "2024-11-22 08:56:59,879 INFO status has been updated to accepted\n",
      "2024-11-22 08:57:06,951 INFO status has been updated to running\n",
      "2024-11-22 08:57:10,576 INFO status has been updated to successful\n",
      "                                                                                          "
     ]
    },
    {
     "data": {
      "text/plain": [
       "'7788eab0ed694ee88425c039863c07b4.zip'"
      ]
     },
     "execution_count": 12,
     "metadata": {},
     "output_type": "execute_result"
    }
   ],
   "source": [
    "# This is example code to retrieve sea-level-rise data from Copernicus Climate Data Store API\n",
    "import cdsapi\n",
    "\n",
    "dataset = \"sis-water-level-change-indicators-cmip6\"\n",
    "request = {\n",
    "    \"derived_variable\": [\n",
    "        \"absolute_change\",\n",
    "        \"absolute_value\",\n",
    "        \"percentage_change\"\n",
    "    ],\n",
    "    \"product_type\": [\"single_model\"],\n",
    "    \"model\": [\"cmcc_cm2_vhr4\"],\n",
    "    \"confidence_interval\": [\n",
    "        \"best_fit\",\n",
    "        \"low_bound_confidence_interval\",\n",
    "        \"high_bound_confidence_interval\"\n",
    "    ],\n",
    "    \"experiment\": [\"future\"],\n",
    "    \"period\": [\"2025\"],\n",
    "    \"variable\": [\n",
    "        \"annual_mean_of_highest_high_water\",\n",
    "        \"annual_mean_of_lowest_low_water\",\n",
    "        \"highest_astronomical_tide\",\n",
    "        \"lowest_astronomical_tide\",\n",
    "        \"mean_sea_level\",\n",
    "        \"tidal_range\"\n",
    "    ]\n",
    "}\n",
    "\n",
    "client = cdsapi.Client()\n",
    "client.retrieve(dataset, request).download()\n"
   ]
  },
  {
   "cell_type": "code",
   "execution_count": null,
   "id": "9696ee20-8036-4ae9-a18f-0b87f4b2e1cb",
   "metadata": {},
   "outputs": [],
   "source": [
    "# extract the netcdf4 from the zipfile\n"
   ]
  },
  {
   "cell_type": "code",
   "execution_count": null,
   "id": "45fe8dbb-5a57-4114-86ed-06731fca73ca",
   "metadata": {},
   "outputs": [],
   "source": [
    "# visualize the map of sea-level-rise"
   ]
  },
  {
   "cell_type": "code",
   "execution_count": null,
   "id": "49ce80b4-bacb-4ea2-811f-304191e67269",
   "metadata": {},
   "outputs": [],
   "source": [
    "# overlay the health facilities"
   ]
  },
  {
   "cell_type": "code",
   "execution_count": null,
   "id": "c3152046-a8d0-4c2b-823c-85d93ca0de57",
   "metadata": {},
   "outputs": [],
   "source": [
    "# do the spatial join of health facilities to the sea-level-rise data"
   ]
  },
  {
   "cell_type": "markdown",
   "id": "88f496a1-f7d5-4797-9c8f-ebec00a09dd0",
   "metadata": {},
   "source": [
    "## Introduction to impact assessment methods"
   ]
  },
  {
   "cell_type": "code",
   "execution_count": null,
   "id": "734f76e9-dfcb-4501-821a-35f5a9b56c6f",
   "metadata": {},
   "outputs": [],
   "source": [
    "# consider population data - number of people impacted"
   ]
  },
  {
   "cell_type": "code",
   "execution_count": null,
   "id": "2e4b44a8-b844-44f8-83d3-043f508bf6ae",
   "metadata": {},
   "outputs": [],
   "source": [
    "# consider mortality rates and morbidity rates"
   ]
  },
  {
   "cell_type": "code",
   "execution_count": null,
   "id": "5f16e2fd-bb9d-4d82-ab4b-133a67b6de8a",
   "metadata": {},
   "outputs": [],
   "source": [
    "# consider heat stress index"
   ]
  },
  {
   "cell_type": "code",
   "execution_count": null,
   "id": "abd0391c-cd78-4e4f-8a71-238c7cab8de7",
   "metadata": {},
   "outputs": [],
   "source": [
    "# consider life expectancy"
   ]
  },
  {
   "cell_type": "code",
   "execution_count": null,
   "id": "814364e2-349d-4a6d-8062-6e229c991a09",
   "metadata": {},
   "outputs": [],
   "source": [
    "# consider quality of life"
   ]
  },
  {
   "cell_type": "markdown",
   "id": "b426ef1e-1070-405f-8a21-73fb408c72f9",
   "metadata": {},
   "source": [
    "## Analysis of heat-related health issues (e.g., heatstroke, dehydration)"
   ]
  },
  {
   "cell_type": "code",
   "execution_count": null,
   "id": "5a2ce216-50a2-413a-9ba9-9d04176be510",
   "metadata": {},
   "outputs": [],
   "source": [
    "# consider increasees to heat-related mortality and morbidity"
   ]
  },
  {
   "cell_type": "code",
   "execution_count": null,
   "id": "7575898f-e09a-4c71-ba60-fd984941c2a9",
   "metadata": {},
   "outputs": [],
   "source": [
    "# consider increases to infectious diseases like HIV and TB"
   ]
  },
  {
   "cell_type": "code",
   "execution_count": null,
   "id": "a48303a9-bf38-4d41-9cf7-b0e69be18100",
   "metadata": {},
   "outputs": [],
   "source": [
    "# consider cholera and diarrheal diseases"
   ]
  },
  {
   "cell_type": "code",
   "execution_count": null,
   "id": "c6922dd2-92ff-43c0-833a-f3f44c432931",
   "metadata": {},
   "outputs": [],
   "source": [
    "# consider vector disease and shifts in "
   ]
  },
  {
   "cell_type": "code",
   "execution_count": null,
   "id": "f3975dcd-bc03-42ed-af07-07a6fdf943c6",
   "metadata": {},
   "outputs": [],
   "source": []
  },
  {
   "cell_type": "markdown",
   "id": "68e0c27c-eceb-4ed8-9946-bf6c21932f82",
   "metadata": {},
   "source": [
    "## Socioeconomic impacts of heat stress"
   ]
  },
  {
   "cell_type": "markdown",
   "id": "6e773507-9cd3-4402-8247-4f1fa7dfc95d",
   "metadata": {},
   "source": [
    "- The socioeconomic impacts of global heat stress will be immense and there will be very large costs to human life but also economic losses in terms of reduction in GDP, loss of income, damage to crops, reduction in farming yields, increased healthcare costs, and social impacts including mental health.\n",
    "- National Adaptation Plans are very important to both recognize the coming threats but also to identify plans for adaptation to reduce these socioeconomic impacts and preserve life while reducing economic losses.\n",
    "- It is a good idea to examine some countries with very robust National Adaptation Plans.  Thailand has a very nice plan."
   ]
  },
  {
   "cell_type": "markdown",
   "id": "62cf9970-618f-431a-8397-f3b98534f17b",
   "metadata": {},
   "source": [
    "## Exercise:  Perform an impact assessment for a specific region"
   ]
  },
  {
   "cell_type": "code",
   "execution_count": null,
   "id": "9673428c-3759-466c-93a1-518f50ee9457",
   "metadata": {},
   "outputs": [],
   "source": [
    "# https://agupubs.onlinelibrary.wiley.com/doi/full/10.1029/2020EF001885"
   ]
  },
  {
   "cell_type": "code",
   "execution_count": null,
   "id": "42897c71-00cd-4b89-898a-1ee344945e40",
   "metadata": {},
   "outputs": [],
   "source": []
  },
  {
   "cell_type": "code",
   "execution_count": null,
   "id": "5ff28682-c417-4699-9e27-43dda363696e",
   "metadata": {},
   "outputs": [],
   "source": []
  },
  {
   "cell_type": "code",
   "execution_count": 3,
   "id": "d5930581-de7f-45bb-a720-c6fcdde8c12a",
   "metadata": {},
   "outputs": [
    {
     "ename": "FileNotFoundError",
     "evalue": "[Errno 2] No such file or directory: 'health_impact_data.csv'",
     "output_type": "error",
     "traceback": [
      "\u001b[1;31m---------------------------------------------------------------------------\u001b[0m",
      "\u001b[1;31mFileNotFoundError\u001b[0m                         Traceback (most recent call last)",
      "Cell \u001b[1;32mIn[3], line 5\u001b[0m\n\u001b[0;32m      2\u001b[0m \u001b[38;5;28;01mimport\u001b[39;00m \u001b[38;5;21;01mpandas\u001b[39;00m \u001b[38;5;28;01mas\u001b[39;00m \u001b[38;5;21;01mpd\u001b[39;00m\n\u001b[0;32m      4\u001b[0m \u001b[38;5;66;03m# Load health impact data\u001b[39;00m\n\u001b[1;32m----> 5\u001b[0m health_data \u001b[38;5;241m=\u001b[39m \u001b[43mpd\u001b[49m\u001b[38;5;241;43m.\u001b[39;49m\u001b[43mread_csv\u001b[49m\u001b[43m(\u001b[49m\u001b[38;5;124;43m'\u001b[39;49m\u001b[38;5;124;43mhealth_impact_data.csv\u001b[39;49m\u001b[38;5;124;43m'\u001b[39;49m\u001b[43m)\u001b[49m\n\u001b[0;32m      7\u001b[0m \u001b[38;5;66;03m# Plot heat-related health issues\u001b[39;00m\n\u001b[0;32m      8\u001b[0m sns\u001b[38;5;241m.\u001b[39mbarplot(x\u001b[38;5;241m=\u001b[39m\u001b[38;5;124m'\u001b[39m\u001b[38;5;124mRegion\u001b[39m\u001b[38;5;124m'\u001b[39m, y\u001b[38;5;241m=\u001b[39m\u001b[38;5;124m'\u001b[39m\u001b[38;5;124mHeat-related Illnesses\u001b[39m\u001b[38;5;124m'\u001b[39m, data\u001b[38;5;241m=\u001b[39mhealth_data)\n",
      "File \u001b[1;32mC:\\ProgramData\\anaconda3\\envs\\holoviews-py3\\lib\\site-packages\\pandas\\io\\parsers\\readers.py:1026\u001b[0m, in \u001b[0;36mread_csv\u001b[1;34m(filepath_or_buffer, sep, delimiter, header, names, index_col, usecols, dtype, engine, converters, true_values, false_values, skipinitialspace, skiprows, skipfooter, nrows, na_values, keep_default_na, na_filter, verbose, skip_blank_lines, parse_dates, infer_datetime_format, keep_date_col, date_parser, date_format, dayfirst, cache_dates, iterator, chunksize, compression, thousands, decimal, lineterminator, quotechar, quoting, doublequote, escapechar, comment, encoding, encoding_errors, dialect, on_bad_lines, delim_whitespace, low_memory, memory_map, float_precision, storage_options, dtype_backend)\u001b[0m\n\u001b[0;32m   1013\u001b[0m kwds_defaults \u001b[38;5;241m=\u001b[39m _refine_defaults_read(\n\u001b[0;32m   1014\u001b[0m     dialect,\n\u001b[0;32m   1015\u001b[0m     delimiter,\n\u001b[1;32m   (...)\u001b[0m\n\u001b[0;32m   1022\u001b[0m     dtype_backend\u001b[38;5;241m=\u001b[39mdtype_backend,\n\u001b[0;32m   1023\u001b[0m )\n\u001b[0;32m   1024\u001b[0m kwds\u001b[38;5;241m.\u001b[39mupdate(kwds_defaults)\n\u001b[1;32m-> 1026\u001b[0m \u001b[38;5;28;01mreturn\u001b[39;00m \u001b[43m_read\u001b[49m\u001b[43m(\u001b[49m\u001b[43mfilepath_or_buffer\u001b[49m\u001b[43m,\u001b[49m\u001b[43m \u001b[49m\u001b[43mkwds\u001b[49m\u001b[43m)\u001b[49m\n",
      "File \u001b[1;32mC:\\ProgramData\\anaconda3\\envs\\holoviews-py3\\lib\\site-packages\\pandas\\io\\parsers\\readers.py:620\u001b[0m, in \u001b[0;36m_read\u001b[1;34m(filepath_or_buffer, kwds)\u001b[0m\n\u001b[0;32m    617\u001b[0m _validate_names(kwds\u001b[38;5;241m.\u001b[39mget(\u001b[38;5;124m\"\u001b[39m\u001b[38;5;124mnames\u001b[39m\u001b[38;5;124m\"\u001b[39m, \u001b[38;5;28;01mNone\u001b[39;00m))\n\u001b[0;32m    619\u001b[0m \u001b[38;5;66;03m# Create the parser.\u001b[39;00m\n\u001b[1;32m--> 620\u001b[0m parser \u001b[38;5;241m=\u001b[39m TextFileReader(filepath_or_buffer, \u001b[38;5;241m*\u001b[39m\u001b[38;5;241m*\u001b[39mkwds)\n\u001b[0;32m    622\u001b[0m \u001b[38;5;28;01mif\u001b[39;00m chunksize \u001b[38;5;129;01mor\u001b[39;00m iterator:\n\u001b[0;32m    623\u001b[0m     \u001b[38;5;28;01mreturn\u001b[39;00m parser\n",
      "File \u001b[1;32mC:\\ProgramData\\anaconda3\\envs\\holoviews-py3\\lib\\site-packages\\pandas\\io\\parsers\\readers.py:1620\u001b[0m, in \u001b[0;36mTextFileReader.__init__\u001b[1;34m(self, f, engine, **kwds)\u001b[0m\n\u001b[0;32m   1617\u001b[0m     \u001b[38;5;28mself\u001b[39m\u001b[38;5;241m.\u001b[39moptions[\u001b[38;5;124m\"\u001b[39m\u001b[38;5;124mhas_index_names\u001b[39m\u001b[38;5;124m\"\u001b[39m] \u001b[38;5;241m=\u001b[39m kwds[\u001b[38;5;124m\"\u001b[39m\u001b[38;5;124mhas_index_names\u001b[39m\u001b[38;5;124m\"\u001b[39m]\n\u001b[0;32m   1619\u001b[0m \u001b[38;5;28mself\u001b[39m\u001b[38;5;241m.\u001b[39mhandles: IOHandles \u001b[38;5;241m|\u001b[39m \u001b[38;5;28;01mNone\u001b[39;00m \u001b[38;5;241m=\u001b[39m \u001b[38;5;28;01mNone\u001b[39;00m\n\u001b[1;32m-> 1620\u001b[0m \u001b[38;5;28mself\u001b[39m\u001b[38;5;241m.\u001b[39m_engine \u001b[38;5;241m=\u001b[39m \u001b[38;5;28;43mself\u001b[39;49m\u001b[38;5;241;43m.\u001b[39;49m\u001b[43m_make_engine\u001b[49m\u001b[43m(\u001b[49m\u001b[43mf\u001b[49m\u001b[43m,\u001b[49m\u001b[43m \u001b[49m\u001b[38;5;28;43mself\u001b[39;49m\u001b[38;5;241;43m.\u001b[39;49m\u001b[43mengine\u001b[49m\u001b[43m)\u001b[49m\n",
      "File \u001b[1;32mC:\\ProgramData\\anaconda3\\envs\\holoviews-py3\\lib\\site-packages\\pandas\\io\\parsers\\readers.py:1880\u001b[0m, in \u001b[0;36mTextFileReader._make_engine\u001b[1;34m(self, f, engine)\u001b[0m\n\u001b[0;32m   1878\u001b[0m     \u001b[38;5;28;01mif\u001b[39;00m \u001b[38;5;124m\"\u001b[39m\u001b[38;5;124mb\u001b[39m\u001b[38;5;124m\"\u001b[39m \u001b[38;5;129;01mnot\u001b[39;00m \u001b[38;5;129;01min\u001b[39;00m mode:\n\u001b[0;32m   1879\u001b[0m         mode \u001b[38;5;241m+\u001b[39m\u001b[38;5;241m=\u001b[39m \u001b[38;5;124m\"\u001b[39m\u001b[38;5;124mb\u001b[39m\u001b[38;5;124m\"\u001b[39m\n\u001b[1;32m-> 1880\u001b[0m \u001b[38;5;28mself\u001b[39m\u001b[38;5;241m.\u001b[39mhandles \u001b[38;5;241m=\u001b[39m \u001b[43mget_handle\u001b[49m\u001b[43m(\u001b[49m\n\u001b[0;32m   1881\u001b[0m \u001b[43m    \u001b[49m\u001b[43mf\u001b[49m\u001b[43m,\u001b[49m\n\u001b[0;32m   1882\u001b[0m \u001b[43m    \u001b[49m\u001b[43mmode\u001b[49m\u001b[43m,\u001b[49m\n\u001b[0;32m   1883\u001b[0m \u001b[43m    \u001b[49m\u001b[43mencoding\u001b[49m\u001b[38;5;241;43m=\u001b[39;49m\u001b[38;5;28;43mself\u001b[39;49m\u001b[38;5;241;43m.\u001b[39;49m\u001b[43moptions\u001b[49m\u001b[38;5;241;43m.\u001b[39;49m\u001b[43mget\u001b[49m\u001b[43m(\u001b[49m\u001b[38;5;124;43m\"\u001b[39;49m\u001b[38;5;124;43mencoding\u001b[39;49m\u001b[38;5;124;43m\"\u001b[39;49m\u001b[43m,\u001b[49m\u001b[43m \u001b[49m\u001b[38;5;28;43;01mNone\u001b[39;49;00m\u001b[43m)\u001b[49m\u001b[43m,\u001b[49m\n\u001b[0;32m   1884\u001b[0m \u001b[43m    \u001b[49m\u001b[43mcompression\u001b[49m\u001b[38;5;241;43m=\u001b[39;49m\u001b[38;5;28;43mself\u001b[39;49m\u001b[38;5;241;43m.\u001b[39;49m\u001b[43moptions\u001b[49m\u001b[38;5;241;43m.\u001b[39;49m\u001b[43mget\u001b[49m\u001b[43m(\u001b[49m\u001b[38;5;124;43m\"\u001b[39;49m\u001b[38;5;124;43mcompression\u001b[39;49m\u001b[38;5;124;43m\"\u001b[39;49m\u001b[43m,\u001b[49m\u001b[43m \u001b[49m\u001b[38;5;28;43;01mNone\u001b[39;49;00m\u001b[43m)\u001b[49m\u001b[43m,\u001b[49m\n\u001b[0;32m   1885\u001b[0m \u001b[43m    \u001b[49m\u001b[43mmemory_map\u001b[49m\u001b[38;5;241;43m=\u001b[39;49m\u001b[38;5;28;43mself\u001b[39;49m\u001b[38;5;241;43m.\u001b[39;49m\u001b[43moptions\u001b[49m\u001b[38;5;241;43m.\u001b[39;49m\u001b[43mget\u001b[49m\u001b[43m(\u001b[49m\u001b[38;5;124;43m\"\u001b[39;49m\u001b[38;5;124;43mmemory_map\u001b[39;49m\u001b[38;5;124;43m\"\u001b[39;49m\u001b[43m,\u001b[49m\u001b[43m \u001b[49m\u001b[38;5;28;43;01mFalse\u001b[39;49;00m\u001b[43m)\u001b[49m\u001b[43m,\u001b[49m\n\u001b[0;32m   1886\u001b[0m \u001b[43m    \u001b[49m\u001b[43mis_text\u001b[49m\u001b[38;5;241;43m=\u001b[39;49m\u001b[43mis_text\u001b[49m\u001b[43m,\u001b[49m\n\u001b[0;32m   1887\u001b[0m \u001b[43m    \u001b[49m\u001b[43merrors\u001b[49m\u001b[38;5;241;43m=\u001b[39;49m\u001b[38;5;28;43mself\u001b[39;49m\u001b[38;5;241;43m.\u001b[39;49m\u001b[43moptions\u001b[49m\u001b[38;5;241;43m.\u001b[39;49m\u001b[43mget\u001b[49m\u001b[43m(\u001b[49m\u001b[38;5;124;43m\"\u001b[39;49m\u001b[38;5;124;43mencoding_errors\u001b[39;49m\u001b[38;5;124;43m\"\u001b[39;49m\u001b[43m,\u001b[49m\u001b[43m \u001b[49m\u001b[38;5;124;43m\"\u001b[39;49m\u001b[38;5;124;43mstrict\u001b[39;49m\u001b[38;5;124;43m\"\u001b[39;49m\u001b[43m)\u001b[49m\u001b[43m,\u001b[49m\n\u001b[0;32m   1888\u001b[0m \u001b[43m    \u001b[49m\u001b[43mstorage_options\u001b[49m\u001b[38;5;241;43m=\u001b[39;49m\u001b[38;5;28;43mself\u001b[39;49m\u001b[38;5;241;43m.\u001b[39;49m\u001b[43moptions\u001b[49m\u001b[38;5;241;43m.\u001b[39;49m\u001b[43mget\u001b[49m\u001b[43m(\u001b[49m\u001b[38;5;124;43m\"\u001b[39;49m\u001b[38;5;124;43mstorage_options\u001b[39;49m\u001b[38;5;124;43m\"\u001b[39;49m\u001b[43m,\u001b[49m\u001b[43m \u001b[49m\u001b[38;5;28;43;01mNone\u001b[39;49;00m\u001b[43m)\u001b[49m\u001b[43m,\u001b[49m\n\u001b[0;32m   1889\u001b[0m \u001b[43m\u001b[49m\u001b[43m)\u001b[49m\n\u001b[0;32m   1890\u001b[0m \u001b[38;5;28;01massert\u001b[39;00m \u001b[38;5;28mself\u001b[39m\u001b[38;5;241m.\u001b[39mhandles \u001b[38;5;129;01mis\u001b[39;00m \u001b[38;5;129;01mnot\u001b[39;00m \u001b[38;5;28;01mNone\u001b[39;00m\n\u001b[0;32m   1891\u001b[0m f \u001b[38;5;241m=\u001b[39m \u001b[38;5;28mself\u001b[39m\u001b[38;5;241m.\u001b[39mhandles\u001b[38;5;241m.\u001b[39mhandle\n",
      "File \u001b[1;32mC:\\ProgramData\\anaconda3\\envs\\holoviews-py3\\lib\\site-packages\\pandas\\io\\common.py:873\u001b[0m, in \u001b[0;36mget_handle\u001b[1;34m(path_or_buf, mode, encoding, compression, memory_map, is_text, errors, storage_options)\u001b[0m\n\u001b[0;32m    868\u001b[0m \u001b[38;5;28;01melif\u001b[39;00m \u001b[38;5;28misinstance\u001b[39m(handle, \u001b[38;5;28mstr\u001b[39m):\n\u001b[0;32m    869\u001b[0m     \u001b[38;5;66;03m# Check whether the filename is to be opened in binary mode.\u001b[39;00m\n\u001b[0;32m    870\u001b[0m     \u001b[38;5;66;03m# Binary mode does not support 'encoding' and 'newline'.\u001b[39;00m\n\u001b[0;32m    871\u001b[0m     \u001b[38;5;28;01mif\u001b[39;00m ioargs\u001b[38;5;241m.\u001b[39mencoding \u001b[38;5;129;01mand\u001b[39;00m \u001b[38;5;124m\"\u001b[39m\u001b[38;5;124mb\u001b[39m\u001b[38;5;124m\"\u001b[39m \u001b[38;5;129;01mnot\u001b[39;00m \u001b[38;5;129;01min\u001b[39;00m ioargs\u001b[38;5;241m.\u001b[39mmode:\n\u001b[0;32m    872\u001b[0m         \u001b[38;5;66;03m# Encoding\u001b[39;00m\n\u001b[1;32m--> 873\u001b[0m         handle \u001b[38;5;241m=\u001b[39m \u001b[38;5;28;43mopen\u001b[39;49m\u001b[43m(\u001b[49m\n\u001b[0;32m    874\u001b[0m \u001b[43m            \u001b[49m\u001b[43mhandle\u001b[49m\u001b[43m,\u001b[49m\n\u001b[0;32m    875\u001b[0m \u001b[43m            \u001b[49m\u001b[43mioargs\u001b[49m\u001b[38;5;241;43m.\u001b[39;49m\u001b[43mmode\u001b[49m\u001b[43m,\u001b[49m\n\u001b[0;32m    876\u001b[0m \u001b[43m            \u001b[49m\u001b[43mencoding\u001b[49m\u001b[38;5;241;43m=\u001b[39;49m\u001b[43mioargs\u001b[49m\u001b[38;5;241;43m.\u001b[39;49m\u001b[43mencoding\u001b[49m\u001b[43m,\u001b[49m\n\u001b[0;32m    877\u001b[0m \u001b[43m            \u001b[49m\u001b[43merrors\u001b[49m\u001b[38;5;241;43m=\u001b[39;49m\u001b[43merrors\u001b[49m\u001b[43m,\u001b[49m\n\u001b[0;32m    878\u001b[0m \u001b[43m            \u001b[49m\u001b[43mnewline\u001b[49m\u001b[38;5;241;43m=\u001b[39;49m\u001b[38;5;124;43m\"\u001b[39;49m\u001b[38;5;124;43m\"\u001b[39;49m\u001b[43m,\u001b[49m\n\u001b[0;32m    879\u001b[0m \u001b[43m        \u001b[49m\u001b[43m)\u001b[49m\n\u001b[0;32m    880\u001b[0m     \u001b[38;5;28;01melse\u001b[39;00m:\n\u001b[0;32m    881\u001b[0m         \u001b[38;5;66;03m# Binary mode\u001b[39;00m\n\u001b[0;32m    882\u001b[0m         handle \u001b[38;5;241m=\u001b[39m \u001b[38;5;28mopen\u001b[39m(handle, ioargs\u001b[38;5;241m.\u001b[39mmode)\n",
      "\u001b[1;31mFileNotFoundError\u001b[0m: [Errno 2] No such file or directory: 'health_impact_data.csv'"
     ]
    }
   ],
   "source": [
    "import seaborn as sns\n",
    "import pandas as pd\n",
    "\n",
    "# Load health impact data\n",
    "health_data = pd.read_csv('health_impact_data.csv')\n",
    "\n",
    "# Plot heat-related health issues\n",
    "sns.barplot(x='Region', y='Heat-related Illnesses', data=health_data)\n",
    "plt.title('Heat-related Illnesses by Region')\n",
    "plt.xlabel('Region')\n",
    "plt.ylabel('Number of Cases')\n",
    "plt.show()"
   ]
  },
  {
   "cell_type": "code",
   "execution_count": null,
   "id": "7a5b0ad2-74bd-4d30-9ad0-ef045759ffc7",
   "metadata": {},
   "outputs": [],
   "source": []
  },
  {
   "cell_type": "markdown",
   "id": "2d1d2027-f745-498a-a1dd-76e54b03e0e5",
   "metadata": {},
   "source": [
    "### FLASHCARDS AND QUIZ"
   ]
  },
  {
   "cell_type": "code",
   "execution_count": 58,
   "id": "064f2beb-7ade-4224-b575-f832877c3029",
   "metadata": {},
   "outputs": [
    {
     "data": {
      "text/html": [
       "<style>\n",
       ":root{\n",
       "  --asparagus: #87a878ff;\n",
       "  --terra-cotta: #e26d5aff;\n",
       "  --cyan-process: #5bc0ebff;\n",
       "  --dark-blue-gray: #666a86ff;\n",
       "  --snow: #fffafbff;\n",
       "  --rich-black-fogra-39: #090c08ff;\n",
       "}\n",
       "\n",
       "\n",
       "/* entire container, keeps perspective */\n",
       ".flip-container {\n",
       "\tperspective: 1000px;\n",
       "  touch-action: pinch-zoom pan-y;\n",
       "}\n",
       "\n",
       "\n",
       ".flip-container.flip .flipper {\n",
       "    box-sizing: content-box;\n",
       "\t  transform: rotateY(180deg);\n",
       "\t/* transform: rotateY(180deg)  translateX(-6%);  */\n",
       "}\n",
       "\n",
       "\n",
       ".flip-container.slide .flipper.frontcard {\n",
       "    filter: brightness(90%);\n",
       "    position:absolute;\n",
       "    z-index: -20;\n",
       "    /* left: 20px; */\n",
       "}\n",
       "\n",
       ".flip-container.prepare .flipper.backcard {\n",
       "    opacity:1;\n",
       "    transition: display 0s;\n",
       "    transform:  translateX(20px); \n",
       "}\n",
       "\n",
       "\n",
       ".flip-container.slide .flipper.backcard {\n",
       "    filter: brightness(115%);\n",
       "    /* height: 360px; */\n",
       "    opacity:1;\n",
       "\t  transform:  rotateY(3deg)  translateX(700px) translateZ(20px) scale(1, 1.05) rotate(3deg);\n",
       "    z-index: 20;\n",
       "    /* left: -20px; */\n",
       "}\n",
       "\n",
       "\n",
       "\n",
       "\n",
       ".flip-container.slideback .flipper.backcard {\n",
       "    filter: brightness(100%);\n",
       "    opacity: 1;\n",
       "\t  transform: translateX(0px) translateZ(20px) rotateY(0deg);\n",
       "    z-index: 10;\n",
       "}\n",
       "\n",
       ".flip-container.slideback .flipper.frontcard {\n",
       "    filter: brightness(90%);\n",
       "    transform: translateX(0px) translateZ(-20px);\n",
       "    z-index: -10;\n",
       "}\n",
       "\n",
       "\n",
       ".flip-container, .front, .back {\n",
       "\t  height: 200px;\n",
       "\t  width: 95%;\n",
       "}\n",
       "\n",
       "\n",
       "\n",
       "\n",
       ".flipper.frontcard {\n",
       "    position:absolute;\n",
       "\t  transform: translateX(0px) rotateY(0deg) translateZ(20px);\n",
       "    z-index: 10;\n",
       "}\n",
       "\n",
       ".flipper.backcard {\n",
       "    filter: brightness(90%);\n",
       "    opacity:0;\n",
       "    position:absolute;\n",
       "    transform: translateX(0px) translateZ(-20px);\n",
       "    z-index: -10;\n",
       "}\n",
       "\n",
       "\n",
       "\n",
       "\n",
       "/* flip speed goes here */\n",
       ".flipper {\n",
       "    cursor:pointer;\n",
       "\t  height: 200px;\n",
       "    margin-left:10px;\n",
       "\t  position: absolute;\n",
       "    top: 0;\n",
       "\t  transform-style: preserve-3d;\n",
       "\t  transition: 0.6s;\n",
       "    /* width: 95%; */\n",
       "    width: 100%;\n",
       "}\n",
       "\n",
       ".flashcardtext{\n",
       "    color: var(--snow);\n",
       "    margin-left:3%;\n",
       "    position:absolute;\n",
       "    text-align:center;\n",
       "    top: 50%;\n",
       "    transform: translate(0, -50%);\n",
       "    width:90%;\n",
       "    font-size: 1.5em;\n",
       "}\n",
       "\n",
       ".back .flashcardtext{\n",
       "    font-size: 1.2em;\n",
       "}\n",
       "\n",
       "\n",
       "\n",
       "/* hide back of pane during swap */\n",
       ".front, .back {\n",
       "    -webkit-backface-visibility: hidden;\n",
       "\t  backface-visibility: hidden;\n",
       "\t  left: 0;\n",
       "\t  position: absolute;\n",
       "\t  top: 0;\n",
       "}\n",
       "\n",
       "/* front pane, placed above back */\n",
       ".front {\n",
       "\t  backface-visibility: hidden;\n",
       "    background: var(--asparagus);\n",
       "    transform: rotateY(0deg);\n",
       "\t  z-index: 2;\n",
       "}\n",
       "\n",
       "/* back, initially hidden pane */\n",
       ".back {\n",
       "\t  backface-visibility: hidden;\n",
       "    background: var(--dark-blue-gray);\n",
       "\t  transform: rotateY(180deg);\n",
       "}\n",
       "\n",
       ".jp-OutputArea-output .back {\n",
       "\t  transform: rotateY(180deg) translateX(7.5%);\n",
       "}\n",
       "\n",
       ".next {\n",
       "    color: var(--rich-black-fogra-39);\n",
       "    cursor:pointer;\n",
       "    font-size: 1.5em;\n",
       "    /*left:90%; */\n",
       "    margin-left: 70%;\n",
       "    width: 55pt;\n",
       "    height: 22pt;\n",
       "    opacity:0.3;\n",
       "    position:relative; \n",
       "    top:-1em;\n",
       "}\n",
       "\n",
       ".next svg {\n",
       "    height:16pt;\n",
       "    width:16pt;\n",
       "    position:relative;\n",
       "    top:-2pt;\n",
       "}\n",
       "\n",
       ".jp-OutputArea-output .next svg {\n",
       "    top: 1pt;\n",
       "}\n",
       "\n",
       ".next.flipped {\n",
       "    opacity:1;\n",
       "}\n",
       "\n",
       ".next.hide {\n",
       "    opacity:0;\n",
       "}\n",
       "\n",
       "\n",
       ".flashcard{\n",
       "    border-radius: 10px;\n",
       "    outline: none;\n",
       "    color: #fafafa;\n",
       "    display:block;\n",
       "    padding:10px;\n",
       "  \n",
       "}\n",
       "\n",
       ".flashcardtext li{\n",
       "    text-align: left;\n",
       "}\n",
       "\n",
       "@media only screen and (min-width:1000px) {\n",
       "\n",
       "    .flip-container, .front, .back {\n",
       "\t      height: 300px;\n",
       "\t      width: min(95%, 640px);\n",
       "    }\n",
       "\n",
       "    .flipper {\n",
       "        margin-left:20px;\n",
       "\t      height: 300px;\n",
       "    }\n",
       "\n",
       "    .flashcardtext{\n",
       "        font-size: 20pt;\n",
       "    }\n",
       "\n",
       "    .next {\n",
       "        font-size: 16pt;\n",
       "        left:min(80%, 450pt);\n",
       "        margin-left: 0;\n",
       "        width: 55pt;\n",
       "        height: 22pt;\n",
       "        top:-0.5em;\n",
       "    }\n",
       "\n",
       "    .back .flashcardtext{\n",
       "        font-size: 1.5em;\n",
       "    }\n",
       "\n",
       "}\n",
       "\n",
       "@media only screen and (min-width:660px) and (max-width:999px) {\n",
       "    .next {\n",
       "        left:0;\n",
       "        margin-left: 80%;\n",
       "    }\n",
       "\n",
       "}\n",
       "\n",
       "@media only screen and (max-width:680px) and (min-height:376px) {\n",
       "    .flip-container, .front, .back {\n",
       "\t      height: 300px;\n",
       "    }\n",
       "\n",
       "    .flipper {\n",
       "\t      height: 300px;\n",
       "    }\n",
       "\n",
       "}\n",
       "\n",
       "@media only screen and (max-width:330px) and (max-height:600px) {\n",
       "\n",
       "    .back .flashcardtext{\n",
       "        font-size: 1em;\n",
       "    }\n",
       "    .next {\n",
       "        margin-left: 65%;\n",
       "    }\n",
       "\n",
       "}\n",
       "\n",
       "</style>"
      ],
      "text/plain": [
       "<IPython.core.display.HTML object>"
      ]
     },
     "metadata": {},
     "output_type": "display_data"
    },
    {
     "data": {
      "text/html": [
       "<div style=\"height:40px\"></div><div class=\"flip-container\" id=\"RZJHhHDnEEzh\" tabindex=\"0\" style=\"outline:none;\"></div><div style=\"height:40px\"></div><div class=\"next\" id=\"RZJHhHDnEEzh-next\" onclick=\"window.checkFlip('RZJHhHDnEEzh')\"> </div> <div style=\"height:40px\"></div>"
      ],
      "text/plain": [
       "<IPython.core.display.HTML object>"
      ]
     },
     "metadata": {},
     "output_type": "display_data"
    },
    {
     "data": {
      "application/javascript": [
       "/*!\n",
       " * swiped-events.js - v1.1.4\n",
       " * Pure JavaScript swipe events\n",
       " * https://github.com/john-doherty/swiped-events\n",
       " * @inspiration https://stackoverflow.com/questions/16348031/disable-scrolling-when-touch-moving-certain-element\n",
       " * @author John Doherty <www.johndoherty.info>\n",
       " * @license MIT\n",
       " */\n",
       "!function(t,e){\"use strict\";\"function\"!=typeof t.CustomEvent&&(t.CustomEvent=function(t,n){n=n||{bubbles:!1,cancelable:!1,detail:void 0};var a=e.createEvent(\"CustomEvent\");return a.initCustomEvent(t,n.bubbles,n.cancelable,n.detail),a},t.CustomEvent.prototype=t.Event.prototype),e.addEventListener(\"touchstart\",function(t){if(\"true\"===t.target.getAttribute(\"data-swipe-ignore\"))return;s=t.target,r=Date.now(),n=t.touches[0].clientX,a=t.touches[0].clientY,u=0,i=0},!1),e.addEventListener(\"touchmove\",function(t){if(!n||!a)return;var e=t.touches[0].clientX,r=t.touches[0].clientY;u=n-e,i=a-r},!1),e.addEventListener(\"touchend\",function(t){if(s!==t.target)return;var e=parseInt(l(s,\"data-swipe-threshold\",\"20\"),10),o=parseInt(l(s,\"data-swipe-timeout\",\"500\"),10),c=Date.now()-r,d=\"\",p=t.changedTouches||t.touches||[];Math.abs(u)>Math.abs(i)?Math.abs(u)>e&&c<o&&(d=u>0?\"swiped-left\":\"swiped-right\"):Math.abs(i)>e&&c<o&&(d=i>0?\"swiped-up\":\"swiped-down\");if(\"\"!==d){var b={dir:d.replace(/swiped-/,\"\"),xStart:parseInt(n,10),xEnd:parseInt((p[0]||{}).clientX||-1,10),yStart:parseInt(a,10),yEnd:parseInt((p[0]||{}).clientY||-1,10)};s.dispatchEvent(new CustomEvent(\"swiped\",{bubbles:!0,cancelable:!0,detail:b})),s.dispatchEvent(new CustomEvent(d,{bubbles:!0,cancelable:!0,detail:b}))}n=null,a=null,r=null},!1);var n=null,a=null,u=null,i=null,r=null,s=null;function l(t,n,a){for(;t&&t!==e.documentElement;){var u=t.getAttribute(n);if(u)return u;t=t.parentNode}return a}}(window,document);\n",
       "\n",
       "function jaxify(string) {\n",
       "    var mystring = string;\n",
       "    //console.log(mystring);\n",
       "\n",
       "    var count = 0;\n",
       "    var loc = mystring.search(/([^\\\\]|^)(\\$)/);\n",
       "\n",
       "    var count2 = 0;\n",
       "    var loc2 = mystring.search(/([^\\\\]|^)(\\$\\$)/);\n",
       "\n",
       "    //console.log(loc);\n",
       "\n",
       "    while ((loc >= 0) || (loc2 >= 0)) {\n",
       "\n",
       "        /* Have to replace all the double $$ first with current implementation */\n",
       "        if (loc2 >= 0) {\n",
       "            if (count2 % 2 == 0) {\n",
       "                mystring = mystring.replace(/([^\\\\]|^)(\\$\\$)/, \"$1\\\\[\");\n",
       "            } else {\n",
       "                mystring = mystring.replace(/([^\\\\]|^)(\\$\\$)/, \"$1\\\\]\");\n",
       "            }\n",
       "            count2++;\n",
       "        } else {\n",
       "            if (count % 2 == 0) {\n",
       "                mystring = mystring.replace(/([^\\\\]|^)(\\$)/, \"$1\\\\(\");\n",
       "            } else {\n",
       "                mystring = mystring.replace(/([^\\\\]|^)(\\$)/, \"$1\\\\)\");\n",
       "            }\n",
       "            count++;\n",
       "        }\n",
       "        loc = mystring.search(/([^\\\\]|^)(\\$)/);\n",
       "        loc2 = mystring.search(/([^\\\\]|^)(\\$\\$)/);\n",
       "        //console.log(mystring,\", loc:\",loc,\", loc2:\",loc2);\n",
       "    }\n",
       "\n",
       "    //console.log(mystring);\n",
       "    return mystring;\n",
       "}\n",
       "\n",
       "window.flipCard = function flipCard(ths) {\n",
       "    //console.log(ths);\n",
       "    //console.log(ths.id);\n",
       "    ths.classList.toggle(\"flip\"); \n",
       "    ths.focus();\n",
       "    var next=document.getElementById(ths.id+'-next');\n",
       "    next.style.pointerEvents='none';\n",
       "    /* ths.blur(); */\n",
       "    next.classList.add('flipped');\n",
       "    if (typeof MathJax != 'undefined') {\n",
       "        var version = MathJax.version;\n",
       "        //console.log('MathJax version', version);\n",
       "        if (version[0] == \"2\") {\n",
       "            MathJax.Hub.Queue([\"Typeset\", MathJax.Hub]);\n",
       "        } else if (version[0] == \"3\") {\n",
       "            MathJax.typeset([ths]);\n",
       "        }\n",
       "    } else {\n",
       "        //console.log('MathJax not detected');\n",
       "    }\n",
       "\n",
       "\n",
       "    setTimeout(reenableNext, 600, ths, next);\n",
       "}\n",
       "\n",
       "window.checkKey = function checkKey(container, event) {\n",
       "    event.stopPropagation();\n",
       "    /*\n",
       "    console.log(container);\n",
       "    console.log(event.key);\n",
       "    console.log(event.code);\n",
       "    */\n",
       "    /* JMS:  Working here*/\n",
       "    var next=document.getElementById(container.id+'-next');\n",
       "    /* Only react if not already sliding */\n",
       "    if (! next.classList.contains(\"hide\")) {\n",
       "        if ((event.key == \"j\") || (event.key == \"Enter\") || (event.key == \"ArrowRight\")) {\n",
       "            window.checkFlip(container.id);\n",
       "        }\n",
       "        if (event.key == \" \") {\n",
       "            window.flipCard(container);\n",
       "        }\n",
       "    }\n",
       "    event.preventDefault();\n",
       "}\n",
       "\n",
       "\n",
       "function reenableNext(ths, next) {\n",
       "    next.style.pointerEvents='auto';\n",
       "    /* ths.tabIndex= 0;*/\n",
       "    /* ths.focus(); */\n",
       "}\n",
       "\n",
       "\n",
       "\n",
       "function slide2(containerId) {\n",
       "    var container = document.getElementById(containerId);\n",
       "    var next=document.getElementById(containerId+'-next');\n",
       "    var frontcard = container.children[0];\n",
       "    var backcard = container.children[1];\n",
       "    container.style.pointerEvents='none';\n",
       "    /* container.removeAttribute(\"tabindex\");*/\n",
       "    /* container.blur(); */\n",
       "    //backcard.style.pointerEvents='none';\n",
       "    next.style.pointerEvents='none';\n",
       "    next.classList.remove('flipped');\n",
       "    next.classList.add('hide');\n",
       "\n",
       "    //container.classList.add(\"prepare\");\n",
       "    \n",
       "    container.className=\"flip-container slide\";\n",
       "    backcard.parentElement.removeChild(frontcard);\n",
       "    backcard.parentElement.appendChild(frontcard);\n",
       "    setTimeout(slideback, 600, container, frontcard, backcard, next);\n",
       "    \n",
       "}\n",
       "\n",
       "\n",
       "window.checkFlip = function checkFlip(containerId) {\n",
       "    var container = document.getElementById(containerId);\n",
       "\n",
       "\n",
       "    if (container.classList.contains('flip')) {\n",
       "        container.classList.remove('flip');\n",
       "        setTimeout(slide2, 600, containerId);\n",
       "    } \n",
       "    else {\n",
       "        slide2(containerId);\n",
       "    }\n",
       "}\n",
       "\n",
       "\n",
       "function slideback(container, frontcard, backcard, next) {\n",
       "    container.className=\"flip-container slideback\";\n",
       "    setTimeout(cleanup, 550, container, frontcard, backcard, next);\n",
       "}\n",
       "\n",
       "function cleanup(container, frontcard, backcard, next) {\n",
       "    container.removeChild(frontcard);\n",
       "    backcard.className=\"flipper frontcard\";\n",
       "    container.className=\"flip-container\";\n",
       "\n",
       "    var cardnum=parseInt(container.dataset.cardnum);\n",
       "    var cards=eval('cards'+container.id);\n",
       "    var flipper=createOneCard(container, false, cards, cardnum);\n",
       "    container.append(flipper);\n",
       "    cardnum= (cardnum+1) % parseInt(container.dataset.numCards);\n",
       "    container.dataset.cardnum=cardnum;\n",
       "    if (cardnum != 1){\n",
       "        next.innerHTML=\"Next >\";\n",
       "    } else {\n",
       "        //next.innerHTML=\"Reload \\\\(\\\\circlearrowleft\\\\) \";\n",
       "        next.innerHTML='Reload <svg xmlns=\"http://www.w3.org/2000/svg\" xmlns:xlink=\"http://www.w3.org/1999/xlink\" viewbox=\"0 0 25 26\"> <path d=\"M7,6a10,10,0,1,0,9,0\" style=\"fill:none;stroke:black;stroke-width:2px\" id=\"e2_circleArc\"/> <line id=\"e3_line\" x1=\"17\" y1=\"6.5\" x2=\"17.5\" y2=\"15\" style=\"stroke:black;fill:none;stroke-width:2px\"/> <line id=\"e4_line\" x1=\"16.5\" y1=\"6.5\" x2=\"26\" y2=\"8\" style=\"stroke:black;fill:none;stroke-width:2px\"/> </svg> '\n",
       "        if (typeof MathJax != 'undefined') {\n",
       "            var version = MathJax.version;\n",
       "            //console.log('MathJax version', version);\n",
       "            if (version[0] == \"2\") {\n",
       "                MathJax.Hub.Queue([\"Typeset\", MathJax.Hub]);\n",
       "            } else if (version[0] == \"3\") {\n",
       "                MathJax.typeset([next]);\n",
       "            }\n",
       "        } else {\n",
       "            //console.log('MathJax not detected');\n",
       "        }\n",
       "\n",
       "\n",
       "    }\n",
       "\n",
       "    if (typeof MathJax != 'undefined') {\n",
       "        var version = MathJax.version;\n",
       "        //console.log('MathJax version', version);\n",
       "        if (version[0] == \"2\") {\n",
       "            MathJax.Hub.Queue([\"Typeset\", MathJax.Hub]);\n",
       "        } else if (version[0] == \"3\") {\n",
       "            MathJax.typeset();\n",
       "        }\n",
       "    } else {\n",
       "        //console.log('MathJax not detected');\n",
       "    }\n",
       "\n",
       "\n",
       "    next.style.pointerEvents='auto';\n",
       "    container.style.pointerEvents='auto';\n",
       "    /* container.tabIndex= 0; */\n",
       "    /* container.focus(); */\n",
       "    next.classList.remove('hide');\n",
       "    container.addEventListener('swiped-left', function(e) {\n",
       "        /*\n",
       "          console.log(e.detail);\n",
       "          console.log(id);\n",
       "        */\n",
       "        checkFlip(container.id);\n",
       "    }, {once: true });\n",
       "\n",
       "\n",
       "}\n",
       "\n",
       "\n",
       "function createOneCard  (mydiv, frontCard, cards, cardnum) {\n",
       "    var colors=eval('frontColors'+mydiv.id);\n",
       "    var backColors=eval('backColors'+mydiv.id);\n",
       "    var textColors=eval('textColors'+mydiv.id);\n",
       "    //console.log(backColors)\n",
       "\n",
       "    var flipper = document.createElement('div');\n",
       "    if (frontCard){\n",
       "        flipper.className=\"flipper frontcard\";    \n",
       "    }\n",
       "    else {\n",
       "        flipper.className=\"flipper backcard\";   \n",
       "    }\n",
       "\n",
       "    var front = document.createElement('div');\n",
       "    front.className='front flashcard';\n",
       "\n",
       "    var frontSpan= document.createElement('span');\n",
       "    frontSpan.className='flashcardtext';\n",
       "    frontSpan.innerHTML=jaxify(cards[cardnum]['front']);\n",
       "    frontSpan.style.color=textColors[cardnum % textColors.length];\n",
       "    //frontSpan.textContent=jaxify(cards[cardnum]['front']);\n",
       "    //front.style.background='var(' + colors[cardnum % colors.length] + ')';\n",
       "    front.style.background=colors[cardnum % colors.length];\n",
       "\n",
       "    front.append(frontSpan);\n",
       "    flipper.append(front);\n",
       "\n",
       "    var back = document.createElement('div');\n",
       "    back.className='back flashcard';\n",
       "    back.style.background=backColors[cardnum % backColors.length];\n",
       "\n",
       "    var backSpan= document.createElement('span');\n",
       "    backSpan.className='flashcardtext';\n",
       "    backSpan.innerHTML=jaxify(cards[cardnum]['back']);\n",
       "    backSpan.style.color=textColors[cardnum % textColors.length];\n",
       "    back.append(backSpan);\n",
       "\n",
       "    flipper.append(back);\n",
       "\n",
       "    return flipper;\n",
       "\n",
       "}\n",
       "\n",
       "\n",
       "\n",
       "\n",
       "\n",
       "function createCards(id, keyControl, grabFocus) {\n",
       "    console.log(id);\n",
       "\n",
       "    var mydiv=document.getElementById(id);\n",
       "    /*mydiv.onclick = window.flipCard(mydiv);*/\n",
       "    /*\n",
       "    mydiv.addEventListener('click', function(){window.flipCard(mydiv);}, false);\n",
       "    mydiv.addEventListener('keydown', function(event){window.checkKey(mydiv,event);}, true);\n",
       "    */\n",
       "    mydiv.onclick = function(){window.flipCard(mydiv);};\n",
       "    //console.log(keyControl);\n",
       "    if (keyControl == \"True\"){\n",
       "        mydiv.onkeydown = function(event){window.checkKey(mydiv,event);};\n",
       "    }\n",
       "    /* mydiv.addEventListener('keydown', function(event){event.stopPropagation(); console.log(event); event.preventDefault();}, true); */\n",
       "    /*mydiv.onkeypress = function(event){console.log(event); event.preventDefault();};*/\n",
       "\n",
       "    //console.log(mydiv);\n",
       "\n",
       "    var cards=eval('cards'+id);\n",
       "    mydiv.dataset.cardnum=0;\n",
       "    mydiv.dataset.numCards=cards.length;\n",
       "    mydiv.addEventListener('swiped-left', function(e) {\n",
       "        /*\n",
       "          console.log(e.detail);\n",
       "          console.log(id);\n",
       "        */\n",
       "        checkFlip(id);\n",
       "    }, {once: true});\n",
       "\n",
       "    var cardnum=0;\n",
       "    \n",
       "    for (var i=0; i<2; i++) {\n",
       "    \n",
       "        var flipper;\n",
       "        if (i==0){\n",
       "            flipper=createOneCard(mydiv, true, cards, cardnum);\n",
       "        }\n",
       "        else {\n",
       "            flipper=createOneCard(mydiv, false, cards, cardnum);\n",
       "        }\n",
       "\n",
       "        mydiv.append(flipper);\n",
       "        if (typeof MathJax != 'undefined') {\n",
       "            var version = MathJax.version;\n",
       "            if (typeof version == 'undefined') {\n",
       "                setTimeout(function(){\n",
       "                    var version = MathJax.version;\n",
       "                    console.log('After sleep, MathJax version', version);\n",
       "                    if (version[0] == \"2\") {\n",
       "                        MathJax.Hub.Queue([\"Typeset\", MathJax.Hub]);\n",
       "                    } else if (version[0] == \"3\") {\n",
       "                        MathJax.typeset([flipper]);\n",
       "                    }\n",
       "                }, 500);\n",
       "            } else{\n",
       "                console.log('MathJax version', version);\n",
       "                if (version[0] == \"2\") {\n",
       "                    MathJax.Hub.Queue([\"Typeset\", MathJax.Hub]);\n",
       "                } else if (version[0] == \"3\") {\n",
       "                    MathJax.typeset([flipper]);\n",
       "                }\n",
       "            }\n",
       "        } else {\n",
       "            console.log('MathJax not detected');\n",
       "        }\n",
       "\n",
       "\n",
       "        cardnum = (cardnum + 1) % mydiv.dataset.numCards;\n",
       "    }\n",
       "    mydiv.dataset.cardnum = cardnum;\n",
       "\n",
       "    var next=document.getElementById(id+'-next');\n",
       "    if (cards.length==1) {\n",
       "        // Don't show next if no other cards!\n",
       "        next.style.pointerEvents='none';\n",
       "        next.classList.add('hide');\n",
       "    } else {\n",
       "        next.innerHTML=\"Next >\";\n",
       "    }\n",
       "\n",
       "    if (grabFocus == \"True\" )\n",
       "        mydiv.focus();\n",
       "\n",
       "    return flipper;\n",
       "}\n",
       "\n",
       "\n",
       "\n",
       "\n",
       "\n",
       "        function try_create() {\n",
       "          if(document.getElementById(\"RZJHhHDnEEzh\")) {\n",
       "            createCards(\"RZJHhHDnEEzh\", \"True\", \"False\");\n",
       "          } else {\n",
       "             setTimeout(try_create, 200);\n",
       "          }\n",
       "        };\n",
       "    \n",
       "var cardsRZJHhHDnEEzh=[\r\n",
       "    {\r\n",
       "        \"front\": \"What is heat stress ?\",\r\n",
       "        \"back\": \"Heat Stress is Heat stress occurs when the body's ability to cool itself is overwhelmed by the amount of heat it absorbs from the environment or produces internally. It can lead to heat-related illnesses like heat exhaustion, heat stroke, heat cramps, and heat rash.\"\r\n",
       "    },\r\n",
       "    {\r\n",
       "        \"front\": \"What are urban heat islands ?\",\r\n",
       "        \"back\": \"An urban heat island refers to a phenomenon where a city is significantly warmer than the surrounding rural areas, primarily due to the presence of heat-absorbing surfaces like asphalt roads, buildings, and concrete, which absorb sunlight during the day and release that heat slowly at night, creating a hot spot.\"\r\n",
       "    },\r\n",
       "    {\r\n",
       "        \"front\": \"What is the Copernicus Climate Data Store ? \",\r\n",
       "        \"back\": \"The Copernicus Climate Data Store is The Copernicus Climate Data Store (CDS) is a web-based platform that provides free access to a vast collection of climate data, including satellite observations, in-situ measurements, climate model projections, and seasonal forecasts, allowing users to explore past, present, and future climate information across the globe. \"\r\n",
       "    },\r\n",
       "\r\n",
       "    {\r\n",
       "        \"front\": \"What is the Copernicus Climate Data Store API ? \",\r\n",
       "        \"back\": \"The Copernicus Climate Data Store API is The Copernicus Climate Data Store API (CDS API) is a programming interface that allows users to access and retrieve climate data from the Copernicus Climate Change Service's (C3S) Climate Data Store (CDS) programmatically using a programming language called Python. \"\r\n",
       "    }, \r\n",
       "    {\r\n",
       "        \"front\": \"What is Healthsites.io ? \",\r\n",
       "        \"back\": \"Healthsites.io is a free, open-source platform that creates and maintains a global map of health facilities. \"\r\n",
       "    },\r\n",
       "    {\r\n",
       "        \"front\": \"What is the Healthsites.io API ? \",\r\n",
       "        \"back\": \"The Healthsites.io API is an online interface that allows developers to access and utilize a global database of healthcare facility locations, providing details like coordinates, services offered, and contact information, primarily sourced from OpenStreetMap data. \"\r\n",
       "    }\r\n",
       "\r\n",
       "];\n",
       "var frontColorsRZJHhHDnEEzh= [\"var(--asparagus)\", \"var(--terra-cotta)\", \"var(--cyan-process)\" ];\n",
       "var backColorsRZJHhHDnEEzh= [\"var(--dark-blue-gray)\" ];\n",
       "var textColorsRZJHhHDnEEzh= [\"var(--snow)\" ];\n",
       "\n",
       "\n",
       "        {\n",
       "        const jmscontroller = new AbortController();\n",
       "        const signal = jmscontroller.signal;\n",
       "\n",
       "        setTimeout(() => jmscontroller.abort(), 5000);\n",
       "\n",
       "        fetch(\"https://raw.githubusercontent.com/PHI-Case-Studies/2024-Climate-Heat-Stress/refs/heads/main/flashcards.json\", {signal})\n",
       "        .then(response => response.json())\n",
       "        .then(json => createCards(\"RZJHhHDnEEzh\", \"True\", \"False\"))\n",
       "        .catch(err => {\n",
       "        console.log(\"Fetch error or timeout\");\n",
       "        try_create(); \n",
       "        });\n",
       "        }\n",
       "        "
      ],
      "text/plain": [
       "<IPython.core.display.Javascript object>"
      ]
     },
     "metadata": {},
     "output_type": "display_data"
    }
   ],
   "source": [
    "# we are going to use a python library called jupyter cards to test our knowledge with interactive flashcards\n",
    "import micropip\n",
    "await micropip.install('jupytercards')\n",
    "                       \n",
    "from jupytercards import display_flashcards\n",
    "github='https://raw.githubusercontent.com/PHI-Case-Studies/2024-Climate-Heat-Stress/refs/heads/main/'\n",
    "display_flashcards(github+'flashcards.json')\n",
    "\n",
    "# remember this url:  https://raw.githubusercontent.com/PHI-Case-Studies/2024-Climate-Heat-Stress/refs/heads/main/flashcards.json\n"
   ]
  },
  {
   "cell_type": "code",
   "execution_count": null,
   "id": "e6ae4409-52de-41c7-be83-c837322e5542",
   "metadata": {},
   "outputs": [],
   "source": [
    "# jupyter quiz"
   ]
  },
  {
   "cell_type": "code",
   "execution_count": null,
   "id": "3d1968cb-d08a-4686-8d37-160e85f33746",
   "metadata": {},
   "outputs": [],
   "source": []
  },
  {
   "cell_type": "code",
   "execution_count": null,
   "id": "6eea13d9-bb0f-4060-a633-8580c655566b",
   "metadata": {},
   "outputs": [],
   "source": []
  },
  {
   "cell_type": "code",
   "execution_count": null,
   "id": "28ee2914-9a43-4c5f-b226-3d9b9ac52a8a",
   "metadata": {},
   "outputs": [],
   "source": []
  },
  {
   "cell_type": "markdown",
   "id": "c63327e4-1068-4887-b0bd-ab6abafc6a71",
   "metadata": {
    "jp-MarkdownHeadingCollapsed": true
   },
   "source": [
    "# REFERENCES\n",
    "\n",
    "- Africa Center for Strategic Studies (ACSS) 2023.  Rising Sea Levels Besieging Africa’s Booming Coastal Cities. URL: https://africacenter.org/wp-content/uploads/2023/02/Rising-Sea-Levels-ENG.pdf\n",
    "\n",
    "- Avci A. and Gissing, A. (2022).  Global Risks Report 2022.  https://riskfrontiers.com/insights/global-risks-report-2022/\n",
    "\n",
    "- Boncheva, A. (2022) Innovative Adaptation to Climate Change: Chinese Sponge Cities Program (SCP). Current Urban Studies, 10, 188-211. doi: 10.4236/cus.2022.102011.                  \n",
    "\n",
    "- Bressler, R.D., Moore, F.C., Rennert, K. et al. (2022) Estimates of country level temperature-related mortality damage functions. Sci Rep 11, 20282 (2021). https://doi.org/10.1038/s41598-021-99156-5\n",
    "\n",
    "- Brugnach, M. and van den Hoek, R. (2023). Embracing ambiguity in climate change adaptation for more effective responses to new uncertain shorescapes conditions, Marine Policy, Volume 152, 2023, 105626, ISSN 0308-597X, https://doi.org/10.1016/j.marpol.2023.105626.\n",
    "\n",
    "- CGTN Africa (2023). Rising sea waters threaten Nigeria’s coastal communities. YouTube: https://www.youtube.com/watch?v=RDP7KD7Dgd4\n",
    "\n",
    "- Climate Central. (Mar 2021).  Climate Change Impacts Seniors Living Near the Coast.  URL:  https://www.climatecentral.org/climate-matters/climate-change-impacts-seniors-living-near-the-coast\n",
    "\n",
    "- Climate Central – Coastal Risk Screening Tool.  URL: https://coastal.climatecentral.org/\n",
    "\n",
    "- HIV and the Climate Crisis: Safeguarding Health in a Changing World, A Frontline AIDS Evidence Brief (Dec 2023) URL: https://frontlineaids.org/wp-content/uploads/2023/12/Climate-HIV-Briefing-Paper_update_v1.pdf\n",
    "\n",
    "- IAS 2023: Impacts of climate change on the HIV epidemic (Jul 2023) URL: https://www.idsociety.org/science-speaks-blog/2023/ias-2023-impacts-of-climate-change-on-the-hiv-epidemic/#/+/0/publishedDate_na_dt/desc/\n",
    "\n",
    "- IPCC 2018.  Intergovernmental Panel on Climate Change 2018 report   URL:  https://www.ipcc.ch/site/assets/uploads/2018/03/ipcc_far_wg_I_chapter_09.pdf\n",
    "\n",
    "- Kulldorff M. A spatial scan statistic. Communications in Statistics: Theory and Methods, 1997; 26:1481-1496. URL: https://www.satscan.org/\n",
    "\n",
    "- Kulp, S. A., & Strauss, B. H. (2021). CoastalDEM v2.1: A high-accuracy and high-resolution global coastal elevation model trained on ICESat-2 satellite radar. Climate Central Scientific Report.\n",
    "\n",
    "- Kulp, Scott. 2022. Metadata for Coastal Flood Layers (v2.0) by Climate Central\n",
    "\n",
    "- Lieber, M., Chin-Hong, P., Whittle, H.J. et al. (2021) The Synergistic Relationship Between Climate Change and the HIV/AIDS Epidemic: A Conceptual Framework. AIDS Behav 25, 2266–2277 (2021). https://doi.org/10.1007/s10461-020-03155-y\n",
    "\n",
    "- Madge, Graham (2021) One billion face heat-stress risk from 2 degree Celsius rise.  https://www.metoffice.gov.uk/about-us/news-and-media/media-centre/weather-and-climate-news/2021/2c-rise-to-put-one-in-eight-of-global-population-at-heat-stress-risk \n",
    "\n",
    "- Matthews, Tom KR,  Wilby, RL, and Murphy C. (2017) Communicating the deadly consequences of global warming for human heat stress.   https://doi.org/10.1073/pnas.1617526114\n",
    "\n",
    "- Mora, C., McKenzie, T., Gaw, I.M. et al. (2022) Over half of known human pathogenic diseases can be aggravated by climate change. Nat. Clim. Chang. 12, 869–875 (2022). https://doi.org/10.1038/s41558-022-01426-1\n",
    "\n",
    "- Mora, C., Dousset, B., Caldwell, I. et al. (2017) Global risk of deadly heat. Nature Clim Change 7, 501–506 (2017). https://doi.org/10.1038/nclimate3322\n",
    "\n",
    "- Muis, S. (2016). Global Tide and Surge Reanalysis (GTSR). URL: https://data.4tu.nl/articles/_/12712469/1\n",
    "\n",
    "- Oxfam.  2019.   Oxfam Media Briefing 2 December 2019.  Forced from Home: Climate-fueled displacement.              URL: https://oxfamilibrary.openrepository.com/bitstream/handle/10546/620914/mb-climate-displacement-cop25-021219-en.pdf \n",
    "\n",
    "- PEPFAR 2022. Reimagining PEPFAR's Strategic Direction: Fulfilling America's Promise to End the HIV/AIDS Pandemic by 2030 URL: https://www.state.gov/wp-content/uploads/2022/09/PEPFAR-Strategic-Direction_FINAL.pdf\n",
    "\n",
    "- Perkl R. 2024.  \"Sponge City\" An Ecological Design of an Urban Landscape.  URL: https://geospatialworld.net/prime/sponge-city-water-improve-social-ecological-outcomes/\n",
    "\n",
    "- Renzo R. Guinto, Joshua Joel F. Cahatol, Kris Yvan Mari S. Lazaro, Anna Flora Natividad Cruz Salazar, Pathways linking climate change and HIV/AIDS: An updated conceptual framework and implications for the Philippines,\n",
    "  The Journal of Climate Change and Health, Volume 6, 2022, 100106, ISSN 2667-2782, https://doi.org/10.1016/j.joclim.2021.100106.\n",
    "\n",
    "- Salako, Pelumi. Jan 2024. Why a Nigerian coastal town is on the brink of extinction. Devex. URL: https://www.devex.com/news/why-a-nigerian-coastal-town-is-on-the-brink-of-extinction-106880 YouTube video: https://www.youtube.com/watch?\n",
    "\n",
    "- Sidner, Lauren 2017.  Sponge City: Solutions for China’s Thirsty and Flooded Cities.  URL:  https://www.newsecuritybeat.org/2017/07/sponge-city-solutions-chinas-thirsty-flooded-cities/\n",
    "\n",
    "- Schwingshackl, C., Sillmann, J., Vicedo-Cabrera, A. M., Sandstad, M., & Aunan, K. (2021). Heat stress indicators in CMIP6: Estimating future trends and exceedances of impact-relevant thresholds. Earth's Future, 9, e2020EF001885. https://doi.org/10.1029/2020EF001885\n",
    "\n",
    "- Thailand National Adaptation Plan.  URL:  https://unfccc.int/sites/default/files/resource/NAP_THAILAND_2024.pdf\n",
    "\n",
    "- The Lancet HIV, Effect of climate change on the HIV response, The Lancet HIV, Volume 11, Issue 2, 2024, Page e63, ISSN 2352-3018, https://doi.org/10.1016/S2352-3018(24)00009-2. (https://www.sciencedirect.com/science/article/pii/S2352301824000092)\n",
    "\n",
    "- The Pattern of Response to HIV/AIDS and Climate Change – A Commentary URL: https://www.un.org/en/chronicle/article/pattern-response-hivaids-and-climate-change-commentary\n",
    "\n",
    "- Tobias et. al (2024). PEPFAR Adapts to Sea Level Rise and Storm-Surge: Potential Impacts to Coastal Cities and Facilities (2030)\n",
    "  URL: https://www.researchgate.net/publication/382801849_PEPFAR_Adapts_to_Sea_Level_Rise_and_Storm-Surge_Potential_Impacts_to_Coastal_Cities_and_Facilities_2030\n",
    "\n",
    "- Williams KM, Olisa AL and Wilcher R (2024) Exploring linkages: addressing the relationship between the climate crisis and HIV prevention with recommendations for emerging pre-exposure prophylaxis programs. Front. Reprod. Health 6:1369762. doi: 10.3389/frph.2024.1369762\n",
    "\n",
    "\n"
   ]
  },
  {
   "cell_type": "code",
   "execution_count": null,
   "id": "baec853f-78e5-407a-a090-e1ac124be35f",
   "metadata": {},
   "outputs": [],
   "source": []
  }
 ],
 "metadata": {
  "kernelspec": {
   "display_name": "Python [conda env:holoviews-py3] *",
   "language": "python",
   "name": "conda-env-holoviews-py3-py"
  },
  "language_info": {
   "codemirror_mode": {
    "name": "ipython",
    "version": 3
   },
   "file_extension": ".py",
   "mimetype": "text/x-python",
   "name": "python",
   "nbconvert_exporter": "python",
   "pygments_lexer": "ipython3",
   "version": "3.10.15"
  }
 },
 "nbformat": 4,
 "nbformat_minor": 5
}
