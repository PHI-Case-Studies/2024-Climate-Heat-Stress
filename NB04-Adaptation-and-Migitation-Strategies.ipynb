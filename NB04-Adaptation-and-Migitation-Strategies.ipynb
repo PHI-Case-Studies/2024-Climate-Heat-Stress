{
 "cells": [
  {
   "cell_type": "markdown",
   "id": "b652e541-bfe6-4767-a80c-91ecf4426b80",
   "metadata": {},
   "source": [
    "# Objectives\n",
    "\n",
    "1. Consider Climate Adaptation and Mitigation Strategies:  Nature-Based-Solutions, Engineering Solutions, and National Adaptation Plans.\n",
    "2. Consider uncertainty and how humanity will need to \"Embrace Ambiguity\" for more successful National Adaptation Plans\n",
    "3. Can we simulate various scenarios in advance using concepts such as digital twins and using modelled climate data ?\n",
    "4. Practice exercise to design our own National Adaptation Plan....\n",
    "5. Reflection and knowledge checks."
   ]
  },
  {
   "cell_type": "markdown",
   "id": "36346a26-f78a-4e1f-9c94-1bbd8f4c7339",
   "metadata": {},
   "source": [
    "### Overview of Adaptation and Mitigation Strategies (e.g. green infrastructure, urban planning)"
   ]
  },
  {
   "cell_type": "markdown",
   "id": "f8e76c0e-cd44-4d3f-a027-c122ac9b0e23",
   "metadata": {},
   "source": [
    " - Nature-Based Solutions (NBS) inlcuding (planting of trees, mangroves, sea grasses, sponge-city, permaculture, etc)\n",
    " - Engineering Solutions - including  (painting of roads and buildings, clean energy, urban planning, sea walls, heat reduction strategies\n",
    " - National Adaptation Plans - recognizing that mitigation may be very expensive / impossible and there is a need to adapt to new realities\n",
    " - Integration of climate adaptation planning with PEPFAR HIV and TB planning to safeguard HIV and TB epidemic control and sustainability.\n",
    " - Leadership is needed to both recognize the problem(s) and prepare for adaptation to reduce costs and reduce negative impacts"
   ]
  },
  {
   "cell_type": "markdown",
   "id": "c0f31c72-635f-4770-a48b-14135747f34c",
   "metadata": {},
   "source": [
    "# NATURE-BASED SOLUTIONS"
   ]
  },
  {
   "cell_type": "markdown",
   "id": "bf3b6837-4c0b-41a7-840c-f0539db770dc",
   "metadata": {},
   "source": [
    "#### Trees are one nature-based solution for reducing CO2 concentrations but also for reducing heat and reducing urban heat islands"
   ]
  },
  {
   "cell_type": "markdown",
   "id": "c7761fec-4ab1-4d2d-bb2e-a4333ec25e73",
   "metadata": {},
   "source": [
    "![image](trees.png) "
   ]
  },
  {
   "cell_type": "markdown",
   "id": "c95c9cbe-db09-4002-95e2-03daa58a29a9",
   "metadata": {},
   "source": [
    "### Seagrasses are very important for CO2 sequestration and it is crtical to protect seagrass across the globe "
   ]
  },
  {
   "cell_type": "code",
   "execution_count": 4,
   "id": "186a31e5-851f-4078-8c1a-09ecbdeee3bd",
   "metadata": {},
   "outputs": [
    {
     "data": {
      "image/jpeg": "[encoded data removed]",
      "text/html": [
       "\n",
       "        <iframe\n",
       "            width=\"800\"\n",
       "            height=\"500\"\n",
       "            src=\"https://www.youtube.com/embed/zY2WCPwkmog\"\n",
       "            frameborder=\"0\"\n",
       "            allowfullscreen\n",
       "            \n",
       "        ></iframe>\n",
       "        "
      ],
      "text/plain": [
       "<IPython.lib.display.YouTubeVideo at 0x162596f7210>"
      ]
     },
     "execution_count": 4,
     "metadata": {},
     "output_type": "execute_result"
    }
   ],
   "source": [
    "## Play the video, The Climate Crisis and Seagrass,  https://www.youtube.com/watch?v=zY2WCPwkmog\n",
    "from IPython.display import YouTubeVideo\n",
    "YouTubeVideo('zY2WCPwkmog', width=800, height=500)\n",
    "# Full episode on The Importance of Sea Grasses and Mangroves https://www.youtube.com/watch?v=9mb4wE3UIfs"
   ]
  },
  {
   "cell_type": "markdown",
   "id": "8322a36e-6429-4961-8f6b-4b2ca8f73c91",
   "metadata": {},
   "source": [
    "## Global Map of Seagrass Distribution - UNEP"
   ]
  },
  {
   "cell_type": "code",
   "execution_count": 5,
   "id": "e129bbbe-1292-4d43-9ec9-770f76143860",
   "metadata": {},
   "outputs": [
    {
     "data": {
      "text/html": [
       "\n",
       "        <iframe\n",
       "            width=\"1800\"\n",
       "            height=\"1000\"\n",
       "            src=\"https://data-gis.unep-wcmc.org/portal/apps/mapviewer/index.html?layers=aaa46cd3d3d640b2916b8f0a0ffe07cb\"\n",
       "            frameborder=\"0\"\n",
       "            allowfullscreen\n",
       "            \n",
       "        ></iframe>\n",
       "        "
      ],
      "text/plain": [
       "<IPython.lib.display.IFrame at 0x16259aac310>"
      ]
     },
     "execution_count": 5,
     "metadata": {},
     "output_type": "execute_result"
    }
   ],
   "source": [
    "# UNEP global distribution of seagrasses\n",
    "from IPython.display import IFrame\n",
    "IFrame(r'https://data-gis.unep-wcmc.org/portal/apps/mapviewer/index.html?layers=aaa46cd3d3d640b2916b8f0a0ffe07cb', width=1800, height=1000)"
   ]
  },
  {
   "cell_type": "markdown",
   "id": "1c104c09-bc01-42b0-b729-2637920d4d7a",
   "metadata": {},
   "source": [
    "### What about Seaweed and Kelp? \n",
    "\n",
    "- Why are seaweed and kelp also important for CO2 sequestration\n",
    "- How can seaweed and kelp farming create economic growth ?\n",
    "- What role does seaweed farming play within climate adaptation from traditional agriculture toward mariculture / aquaculture ?"
   ]
  },
  {
   "cell_type": "markdown",
   "id": "53c4a883-5375-4abe-9561-ee7c025ce65b",
   "metadata": {},
   "source": [
    "##### Tanzanian women are adapting to climate change and moving from traditional agricultural crops such as casava to seaweed farming and mariculture.   "
   ]
  },
  {
   "cell_type": "code",
   "execution_count": 13,
   "id": "ead58382-d552-4b2c-8259-25a87ec9df65",
   "metadata": {
    "scrolled": true
   },
   "outputs": [
    {
     "data": {
      "text/html": [
       "\n",
       "        <iframe\n",
       "            width=\"800\"\n",
       "            height=\"800\"\n",
       "            src=\"https://www.dw.com/en/women-in-tanzania-turn-to-mariculture-for-economic-empowerment/video-70604497\"\n",
       "            frameborder=\"0\"\n",
       "            allowfullscreen\n",
       "            \n",
       "        ></iframe>\n",
       "        "
      ],
      "text/plain": [
       "<IPython.lib.display.IFrame at 0x16259aba850>"
      ]
     },
     "execution_count": 13,
     "metadata": {},
     "output_type": "execute_result"
    }
   ],
   "source": [
    "# Play video from DW Africa October 2024 - Women in Tanzania turn to mariculture for economic empowerment\n",
    "from IPython.display import IFrame\n",
    "IFrame(r'https://www.dw.com/en/women-in-tanzania-turn-to-mariculture-for-economic-empowerment/video-70604497', width=800, height=800)"
   ]
  },
  {
   "cell_type": "markdown",
   "id": "60c99887-5ce2-4bf8-be7c-e81ff7f89f23",
   "metadata": {},
   "source": [
    "# NATIONAL ADAPTATION PLANS"
   ]
  },
  {
   "cell_type": "markdown",
   "id": "577750ee-a91b-477a-97df-8635c9652f29",
   "metadata": {},
   "source": [
    "### Socioeconomic impacts of Global Heat Stress"
   ]
  },
  {
   "cell_type": "markdown",
   "id": "7ffab10c-6c7e-4a11-a652-ab1e6badc0cf",
   "metadata": {},
   "source": [
    "- The socioeconomic impacts of global heat stress will be immense and there will be very large costs to human life but also economic losses in terms of reduction in GDP\n",
    "- There will be loss of income, damage to crops, reduction in farming yields, increased healthcare costs, and social impacts including mental health.\n",
    "- National Adaptation Plans are very important to both recognize the coming threats but also to identify plans for adaptation to reduce these socioeconomic impacts and preserve life while reducing economic losses.\n",
    "- It is a good idea to examine some countries with very robust National Adaptation Plans.  Thailand has a very nice plan."
   ]
  },
  {
   "cell_type": "code",
   "execution_count": 17,
   "id": "72accfb8-2e54-4712-a44d-9dc912c630ab",
   "metadata": {
    "scrolled": true
   },
   "outputs": [
    {
     "data": {
      "text/html": [
       "\n",
       "        <iframe\n",
       "            width=\"1000\"\n",
       "            height=\"1000\"\n",
       "            src=\"https://unfccc.int/sites/default/files/resource/NAP_THAILAND_2024.pdf\"\n",
       "            frameborder=\"0\"\n",
       "            allowfullscreen\n",
       "            \n",
       "        ></iframe>\n",
       "        "
      ],
      "text/plain": [
       "<IPython.lib.display.IFrame at 0x16259b2b3d0>"
      ]
     },
     "execution_count": 17,
     "metadata": {},
     "output_type": "execute_result"
    }
   ],
   "source": [
    "# Thailand National Adaptation Plan\n",
    "from IPython.display import IFrame\n",
    "IFrame(r'https://unfccc.int/sites/default/files/resource/NAP_THAILAND_2024.pdf', width=1000, height=1000)"
   ]
  },
  {
   "cell_type": "markdown",
   "id": "11306480-25bc-41ad-924c-9d211e499ecd",
   "metadata": {},
   "source": [
    "# ENGINEERING SOLUTIONS"
   ]
  },
  {
   "cell_type": "markdown",
   "id": "8b7f087f-cb5e-4eea-9a2f-f043c917e70a",
   "metadata": {},
   "source": [
    "- Solar panels and increased use of clean energy (solar, wind, geothermal) while reducing CO2 emissions\n",
    "- \"Garden Cities\" include rooftop vegetation and trees to shade buildings and urban rooftop parks which reflect more heat than absorbtive concrete or traditional rooftop materials\n",
    "- Urban Heat Island mitigation strategies:  Singapore system of water-cooling for part of the city rather than air conditioning\n",
    "- Reduce urban heat islands with white paint on roads and buildings to increase reflection and heat within certain areas of a city\n",
    "- Cooling Singapore -- has developed a catalogue of (shading of windows, waterways for thermal buffers, garden facades of buildings, clean electricity inside city, solar roofs, clean energy buildings)\n",
    "- Singapore is using 'digital twins' and modelling and simulation to explore the micro-climate of the city and potential heat reduction and costs to reduce heat and test these ideas before building / implementation\n",
    "- Combining Science and Urban Design and Engineering to cool cities and reduce urban heat islands"
   ]
  },
  {
   "cell_type": "markdown",
   "id": "c30ce606-be89-4ed5-9c2d-a3165ddaaa97",
   "metadata": {},
   "source": [
    "### How the City of Singapore is using Science to Stay Cool"
   ]
  },
  {
   "cell_type": "code",
   "execution_count": 10,
   "id": "db32b00f-bf59-43fb-8d5b-1957708f019e",
   "metadata": {},
   "outputs": [
    {
     "data": {
      "image/jpeg": "[encoded data removed]",
      "text/html": [
       "\n",
       "        <iframe\n",
       "            width=\"800\"\n",
       "            height=\"300\"\n",
       "            src=\"https://www.youtube.com/embed/PM101DvvG4Q\"\n",
       "            frameborder=\"0\"\n",
       "            allowfullscreen\n",
       "            \n",
       "        ></iframe>\n",
       "        "
      ],
      "text/plain": [
       "<IPython.lib.display.YouTubeVideo at 0x16259663510>"
      ]
     },
     "execution_count": 10,
     "metadata": {},
     "output_type": "execute_result"
    }
   ],
   "source": [
    "## Play the video, How Singapore Uses Science to Stay Cool,  # https://www.youtube.com/watch?v=PM101DvvG4Q\n",
    "from IPython.display import YouTubeVideo\n",
    "YouTubeVideo('PM101DvvG4Q', width=800, height=300)"
   ]
  },
  {
   "cell_type": "markdown",
   "id": "d6a65838-e7fe-4d39-8f88-c8a172929d1f",
   "metadata": {},
   "source": [
    "## What is a Sponge City ?     China has developed an engineering solution called Sponge City that offers many potential benefits to coastal cities\n",
    "One answer is that it is an example of innovative climate adaptation from China -- that is becoming a model for use across the globe....."
   ]
  },
  {
   "cell_type": "markdown",
   "id": "85e7a179-c5a7-455e-9562-21da270f5673",
   "metadata": {},
   "source": [
    "### Boncheva, A. (2022) Innovative Adaptation to Climate Change: Chinese Sponge Cities Program (SCP). Current Urban Studies, 10, 188-211. doi: 10.4236/cus.2022.102011.\n",
    "https://www.newsecuritybeat.org/2017/07/sponge-city-solutions-chinas-thirsty-flooded-cities/"
   ]
  },
  {
   "cell_type": "markdown",
   "id": "4ba865e5-0954-476a-818b-5f6a409355f6",
   "metadata": {},
   "source": [
    "![image](SpongeCities.png) # Source:  https://www.newsecuritybeat.org/2017/07/sponge-city-solutions-chinas-thirsty-flooded-cities/"
   ]
  },
  {
   "cell_type": "markdown",
   "id": "3c574872-2abb-4286-8fae-dc1ca2be33b3",
   "metadata": {},
   "source": [
    "### INTEGRATION OF CLIMATE ADAPTATION PLANNING WITH PEPFAR COUNTRY OPERATION PLANS (COPS) ?"
   ]
  },
  {
   "cell_type": "markdown",
   "id": "41d1b1fd-c956-4fbd-8cf3-d97d0f612c39",
   "metadata": {},
   "source": [
    "- The President's Emergency Plan for AIDS Relief (PEPFAR) program distributes funding to global HIV programs and PEPFAR-Supported countries after approval of Country Operation Plans (COPS).\n",
    "- The COP provides a planning document with specific targets and achievement goals and provides funding for implementing partners that will execute upon that plan and deliver results\n",
    "- The implementing partners will provide mandatory reporting of Monitoring-Evaluation-Reporting (MER) indicators that keep track of targets and results on a quarterly basis\n",
    "- Narratives are also included which explain any potential issues as well as external issues that may affect delivery of services and reaching target goals\n",
    "- Climate change -- and the external effects of global heat stress, sea-level-rise, air pollution, migration / climate refugees, conflicts and wars, and other impacts are likely to be significant threats to HIV epidemic control"
   ]
  },
  {
   "cell_type": "markdown",
   "id": "5d921555-78fc-4509-bcd7-1099f7676412",
   "metadata": {},
   "source": [
    "### LEADERSHIP ON CLIMATE CHANGE ADAPTATION FOR GLOBAL HEALTH PROGRAMS AND PEPFAR"
   ]
  },
  {
   "cell_type": "markdown",
   "id": "68cecf88-91b1-497b-aba0-d1b3ea73c384",
   "metadata": {},
   "source": [
    "- There is a need to acknowledge the Climate Crisis and the need for integration of Climate Adaptation strategies within PEPFAR COP Planning\n",
    "- Conversely-- PEPFAR has had historical \"pivots\" including a \"geographic pivot\" which focused PEPFAR resources on areas of highest HIV burden in the past.\n",
    "- Could Climate Adaptation Strategies learn from PEPFAR's historic pivots and successful adapative changes ?  And conversely -- can PEFPAR adapt again to realize the need for climate adaptation within HIV programming ?\n",
    "- How can we also \"Embrace Ambiguity\" and realize that uncertainty is both a challenge and a potential opportunity to share knowledge and go farther together.\n",
    "\n",
    "- Consider this article from Noam Unger, CSIS.org:  A Climate Change Adaptation Pivot Like PEPFAR?  url: https://www.csis.org/analysis/climate-change-adaptation-pivot-pepfar"
   ]
  },
  {
   "cell_type": "markdown",
   "id": "d538e296-ed46-49f4-b801-7df769aafaf3",
   "metadata": {},
   "source": [
    "### AMBIGUITY: What will need to adapt to be more resilient for global heat stress and climate change ?"
   ]
  },
  {
   "cell_type": "markdown",
   "id": "6b84f3c4-80bc-44d4-ab1d-68ed295ad6ed",
   "metadata": {},
   "source": [
    "- Climate change and climate data projections are based upon models and the impacts of those realities will affect specific spaces across the 2025-2100 time scale of those models.\n",
    "- National Adaptation Plans are helpful.   Innovative solutions such as \"Sponge Cities\" are helpful.  Reducing CO2 emissions can be helpful.... but we have some uncertainty about how these impacts may affect vulnerable populations at-risk.\n",
    "- Politics and Geopolitical realities may also affect us and we have to realize that Ambiguity -- or a presence of uncertainty -- and differences in interpretation of these data-- will also impact decision making and impact outcomes in terms of mortality rates and costs of adaptation or failing to adapt.\n",
    "- Design Thinkers -- often talk about \"embracing ambiguity\" (Stanford University / Design-school).   Embracing ambiguity in climate change adaptation for more effective responses (Brugnach, M. and van den Hoek, R. 2023) will be critical for global HIV and TB programs, global health, and society.\n",
    "- How can we have a mental picture of these ideas ?  There is a certain venn diagram that has overlaps between Nature, Technology, and Society and zones of uncertainty overlap. (Brugnach, M. and van den Hoek, R. 2023)\n",
    "- We need to reflect upon this mental picture and realize that our National Adaptation Plans will be better received and implemented if we can embrace ambiguity and think about alternative coping strategies to manage uncertainty and optimize potential outcomes (and save lives, costs, reduce impacts)."
   ]
  },
  {
   "cell_type": "markdown",
   "id": "49e975a6-ce29-4e3f-a008-d57db12efff7",
   "metadata": {},
   "source": [
    "##### Embracing ambiguity in climate change adaptation for more effective responses to new uncertain shorescapes conditions (Brugnach & van den Hoek, 2023)"
   ]
  },
  {
   "cell_type": "markdown",
   "id": "7ab716b7-170c-4f8e-9120-5f186720a5b7",
   "metadata": {},
   "source": [
    "- Venn diagram of Nature, Technology, Society -- overlapping uncertainty about these relationships and climate change\n",
    "- Uncertainty is a product of unpredictability and ambiguity that can potentially be managed and mitigated with coping strategies\n",
    "- Climate scientists utilize scenarios and models to provide better predictability and scenarios that allow urban planners to adapt and mitigate\n",
    "- This diagram provides one simple example of recreational swimming safety and the Sand Engine Delftland Project which utilized adaptive, socially inclusive and mutually reinforcing coping strategies\n",
    "- There are phases where these ideas are more flexible in the beginning with unknown conditions but also anticipate conflicts and maladaption (going in the wrong directions) and provides alternatives for course correction\n",
    "- The bottom line is that the Climate Crisis will have a lot of ambiguity and uncertainty and we need to have coping strategies to improve our climate adaptation and manage ambiguity well so that outcomes are much better"
   ]
  },
  {
   "cell_type": "markdown",
   "id": "3bc2339d-c716-42f2-953b-59b093007895",
   "metadata": {},
   "source": [
    "![image](1-s2.0-S0308597X23001537-ga1_lrg.jpg) # Source:  Brugnach, M. and van den Hoek, R. 2023"
   ]
  },
  {
   "cell_type": "markdown",
   "id": "211d16d4-fc2b-44fc-8c66-aaaa6716738f",
   "metadata": {},
   "source": [
    "### Case studies of successful adaptation and mitigation efforts"
   ]
  },
  {
   "cell_type": "markdown",
   "id": "d61bab99-9d0f-4849-9e85-0b1af07524cd",
   "metadata": {},
   "source": [
    "- International examples\n",
    "- US National Park service case studies\n",
    "- "
   ]
  },
  {
   "cell_type": "code",
   "execution_count": 18,
   "id": "c55ab131-a69b-4d88-ba95-f8c4635f965e",
   "metadata": {},
   "outputs": [],
   "source": [
    "# https://www.nps.gov/subjects/climatechange/upload/Coastal-Adaptation-Case-Studies-508.pdf"
   ]
  },
  {
   "cell_type": "markdown",
   "id": "5d580e78-87a8-44eb-91d0-d24801ae3314",
   "metadata": {},
   "source": [
    "### Simulation of different adaptation and mitigation strategies and their effectiveness"
   ]
  },
  {
   "cell_type": "code",
   "execution_count": 19,
   "id": "21f7c175-e747-4d60-8192-fe3dca4b9769",
   "metadata": {},
   "outputs": [],
   "source": [
    "# digital twins ?\n"
   ]
  },
  {
   "cell_type": "code",
   "execution_count": 1,
   "id": "94a3cfc7-9832-402f-aaa5-0a35ed8025b6",
   "metadata": {},
   "outputs": [
    {
     "name": "stdout",
     "output_type": "stream",
     "text": [
      "Temperature Increase: 1.9757828620446496 °C\n",
      "Population Density: 987.3744136157064 people/km²\n",
      "Green Infrastructure: 16.398647215527095%\n",
      "Impact Reduction: 8.199323607763548%\n"
     ]
    }
   ],
   "source": [
    "import numpy as np\n",
    "\n",
    "# Simulation parameters\n",
    "temperature_increase = np.random.uniform(0.5, 3.0)  # Degrees Celsius\n",
    "population_density = np.random.uniform(100, 1000)  # People per square km\n",
    "green_infrastructure = np.random.uniform(0, 1)  # Percentage\n",
    "\n",
    "# Calculate impact reduction\n",
    "impact_reduction = green_infrastructure * 0.5  # Example formula\n",
    "\n",
    "# Output results\n",
    "print(f\"Temperature Increase: {temperature_increase} °C\")\n",
    "print(f\"Population Density: {population_density} people/km²\")\n",
    "print(f\"Green Infrastructure: {green_infrastructure * 100}%\")\n",
    "print(f\"Impact Reduction: {impact_reduction * 100}%\")"
   ]
  },
  {
   "cell_type": "code",
   "execution_count": null,
   "id": "402b599a-f4b2-43c1-9252-f19fd9737a7e",
   "metadata": {},
   "outputs": [],
   "source": []
  },
  {
   "cell_type": "markdown",
   "id": "d9b8f80a-176b-41fb-b561-ea17ce9aa31c",
   "metadata": {},
   "source": [
    "## Exercise:  Design an Adaptation and Mitigation plan for a chosen region"
   ]
  },
  {
   "cell_type": "code",
   "execution_count": 20,
   "id": "5d658ad0-1d1f-4a0d-974e-13471ac622d4",
   "metadata": {},
   "outputs": [],
   "source": [
    "# game ?"
   ]
  },
  {
   "cell_type": "code",
   "execution_count": null,
   "id": "9aa116a5-0529-4e6b-9d8e-32111128af05",
   "metadata": {},
   "outputs": [],
   "source": []
  },
  {
   "cell_type": "markdown",
   "id": "b1c2eb2c-69ff-4374-abf8-adf3e181a9d5",
   "metadata": {},
   "source": [
    "### FLASHCARDS AND QUIZ "
   ]
  },
  {
   "cell_type": "code",
   "execution_count": 1,
   "id": "064f2beb-7ade-4224-b575-f832877c3029",
   "metadata": {},
   "outputs": [
    {
     "data": {
      "text/html": [
       "<style>\n",
       ":root{\n",
       "  --asparagus: #87a878ff;\n",
       "  --terra-cotta: #e26d5aff;\n",
       "  --cyan-process: #5bc0ebff;\n",
       "  --dark-blue-gray: #666a86ff;\n",
       "  --snow: #fffafbff;\n",
       "  --rich-black-fogra-39: #090c08ff;\n",
       "}\n",
       "\n",
       "\n",
       "/* entire container, keeps perspective */\n",
       ".flip-container {\n",
       "\tperspective: 1000px;\n",
       "  touch-action: pinch-zoom pan-y;\n",
       "}\n",
       "\n",
       "\n",
       ".flip-container.flip .flipper {\n",
       "    box-sizing: content-box;\n",
       "\t  transform: rotateY(180deg);\n",
       "\t/* transform: rotateY(180deg)  translateX(-6%);  */\n",
       "}\n",
       "\n",
       "\n",
       ".flip-container.slide .flipper.frontcard {\n",
       "    filter: brightness(90%);\n",
       "    position:absolute;\n",
       "    z-index: -20;\n",
       "    /* left: 20px; */\n",
       "}\n",
       "\n",
       ".flip-container.prepare .flipper.backcard {\n",
       "    opacity:1;\n",
       "    transition: display 0s;\n",
       "    transform:  translateX(20px); \n",
       "}\n",
       "\n",
       "\n",
       ".flip-container.slide .flipper.backcard {\n",
       "    filter: brightness(115%);\n",
       "    /* height: 360px; */\n",
       "    opacity:1;\n",
       "\t  transform:  rotateY(3deg)  translateX(700px) translateZ(20px) scale(1, 1.05) rotate(3deg);\n",
       "    z-index: 20;\n",
       "    /* left: -20px; */\n",
       "}\n",
       "\n",
       "\n",
       "\n",
       "\n",
       ".flip-container.slideback .flipper.backcard {\n",
       "    filter: brightness(100%);\n",
       "    opacity: 1;\n",
       "\t  transform: translateX(0px) translateZ(20px) rotateY(0deg);\n",
       "    z-index: 10;\n",
       "}\n",
       "\n",
       ".flip-container.slideback .flipper.frontcard {\n",
       "    filter: brightness(90%);\n",
       "    transform: translateX(0px) translateZ(-20px);\n",
       "    z-index: -10;\n",
       "}\n",
       "\n",
       "\n",
       ".flip-container, .front, .back {\n",
       "\t  height: 200px;\n",
       "\t  width: 95%;\n",
       "}\n",
       "\n",
       "\n",
       "\n",
       "\n",
       ".flipper.frontcard {\n",
       "    position:absolute;\n",
       "\t  transform: translateX(0px) rotateY(0deg) translateZ(20px);\n",
       "    z-index: 10;\n",
       "}\n",
       "\n",
       ".flipper.backcard {\n",
       "    filter: brightness(90%);\n",
       "    opacity:0;\n",
       "    position:absolute;\n",
       "    transform: translateX(0px) translateZ(-20px);\n",
       "    z-index: -10;\n",
       "}\n",
       "\n",
       "\n",
       "\n",
       "\n",
       "/* flip speed goes here */\n",
       ".flipper {\n",
       "    cursor:pointer;\n",
       "\t  height: 200px;\n",
       "    margin-left:10px;\n",
       "\t  position: absolute;\n",
       "    top: 0;\n",
       "\t  transform-style: preserve-3d;\n",
       "\t  transition: 0.6s;\n",
       "    /* width: 95%; */\n",
       "    width: 100%;\n",
       "}\n",
       "\n",
       ".flashcardtext{\n",
       "    color: var(--snow);\n",
       "    margin-left:3%;\n",
       "    position:absolute;\n",
       "    text-align:center;\n",
       "    top: 50%;\n",
       "    transform: translate(0, -50%);\n",
       "    width:90%;\n",
       "    font-size: 1.5em;\n",
       "}\n",
       "\n",
       ".back .flashcardtext{\n",
       "    font-size: 1.2em;\n",
       "}\n",
       "\n",
       "\n",
       "\n",
       "/* hide back of pane during swap */\n",
       ".front, .back {\n",
       "    -webkit-backface-visibility: hidden;\n",
       "\t  backface-visibility: hidden;\n",
       "\t  left: 0;\n",
       "\t  position: absolute;\n",
       "\t  top: 0;\n",
       "}\n",
       "\n",
       "/* front pane, placed above back */\n",
       ".front {\n",
       "\t  backface-visibility: hidden;\n",
       "    background: var(--asparagus);\n",
       "    transform: rotateY(0deg);\n",
       "\t  z-index: 2;\n",
       "}\n",
       "\n",
       "/* back, initially hidden pane */\n",
       ".back {\n",
       "\t  backface-visibility: hidden;\n",
       "    background: var(--dark-blue-gray);\n",
       "\t  transform: rotateY(180deg);\n",
       "}\n",
       "\n",
       ".jp-OutputArea-output .back {\n",
       "\t  transform: rotateY(180deg) translateX(7.5%);\n",
       "}\n",
       "\n",
       ".next {\n",
       "    color: var(--rich-black-fogra-39);\n",
       "    cursor:pointer;\n",
       "    font-size: 1.5em;\n",
       "    /*left:90%; */\n",
       "    margin-left: 70%;\n",
       "    width: 55pt;\n",
       "    height: 22pt;\n",
       "    opacity:0.3;\n",
       "    position:relative; \n",
       "    top:-1em;\n",
       "}\n",
       "\n",
       ".next svg {\n",
       "    height:16pt;\n",
       "    width:16pt;\n",
       "    position:relative;\n",
       "    top:-2pt;\n",
       "}\n",
       "\n",
       ".jp-OutputArea-output .next svg {\n",
       "    top: 1pt;\n",
       "}\n",
       "\n",
       ".next.flipped {\n",
       "    opacity:1;\n",
       "}\n",
       "\n",
       ".next.hide {\n",
       "    opacity:0;\n",
       "}\n",
       "\n",
       "\n",
       ".flashcard{\n",
       "    border-radius: 10px;\n",
       "    outline: none;\n",
       "    color: #fafafa;\n",
       "    display:block;\n",
       "    padding:10px;\n",
       "  \n",
       "}\n",
       "\n",
       ".flashcardtext li{\n",
       "    text-align: left;\n",
       "}\n",
       "\n",
       "@media only screen and (min-width:1000px) {\n",
       "\n",
       "    .flip-container, .front, .back {\n",
       "\t      height: 300px;\n",
       "\t      width: min(95%, 640px);\n",
       "    }\n",
       "\n",
       "    .flipper {\n",
       "        margin-left:20px;\n",
       "\t      height: 300px;\n",
       "    }\n",
       "\n",
       "    .flashcardtext{\n",
       "        font-size: 20pt;\n",
       "    }\n",
       "\n",
       "    .next {\n",
       "        font-size: 16pt;\n",
       "        left:min(80%, 450pt);\n",
       "        margin-left: 0;\n",
       "        width: 55pt;\n",
       "        height: 22pt;\n",
       "        top:-0.5em;\n",
       "    }\n",
       "\n",
       "    .back .flashcardtext{\n",
       "        font-size: 1.5em;\n",
       "    }\n",
       "\n",
       "}\n",
       "\n",
       "@media only screen and (min-width:660px) and (max-width:999px) {\n",
       "    .next {\n",
       "        left:0;\n",
       "        margin-left: 80%;\n",
       "    }\n",
       "\n",
       "}\n",
       "\n",
       "@media only screen and (max-width:680px) and (min-height:376px) {\n",
       "    .flip-container, .front, .back {\n",
       "\t      height: 300px;\n",
       "    }\n",
       "\n",
       "    .flipper {\n",
       "\t      height: 300px;\n",
       "    }\n",
       "\n",
       "}\n",
       "\n",
       "@media only screen and (max-width:330px) and (max-height:600px) {\n",
       "\n",
       "    .back .flashcardtext{\n",
       "        font-size: 1em;\n",
       "    }\n",
       "    .next {\n",
       "        margin-left: 65%;\n",
       "    }\n",
       "\n",
       "}\n",
       "\n",
       "</style>"
      ],
      "text/plain": [
       "<IPython.core.display.HTML object>"
      ]
     },
     "metadata": {},
     "output_type": "display_data"
    },
    {
     "data": {
      "text/html": [
       "<div style=\"height:40px\"></div><div class=\"flip-container\" id=\"hZSWpwzstzqC\" tabindex=\"0\" style=\"outline:none;\"></div><div style=\"height:40px\"></div><div class=\"next\" id=\"hZSWpwzstzqC-next\" onclick=\"window.checkFlip('hZSWpwzstzqC')\"> </div> <div style=\"height:40px\"></div>"
      ],
      "text/plain": [
       "<IPython.core.display.HTML object>"
      ]
     },
     "metadata": {},
     "output_type": "display_data"
    },
    {
     "data": {
      "application/javascript": [
       "/*!\n",
       " * swiped-events.js - v1.1.4\n",
       " * Pure JavaScript swipe events\n",
       " * https://github.com/john-doherty/swiped-events\n",
       " * @inspiration https://stackoverflow.com/questions/16348031/disable-scrolling-when-touch-moving-certain-element\n",
       " * @author John Doherty <www.johndoherty.info>\n",
       " * @license MIT\n",
       " */\n",
       "!function(t,e){\"use strict\";\"function\"!=typeof t.CustomEvent&&(t.CustomEvent=function(t,n){n=n||{bubbles:!1,cancelable:!1,detail:void 0};var a=e.createEvent(\"CustomEvent\");return a.initCustomEvent(t,n.bubbles,n.cancelable,n.detail),a},t.CustomEvent.prototype=t.Event.prototype),e.addEventListener(\"touchstart\",function(t){if(\"true\"===t.target.getAttribute(\"data-swipe-ignore\"))return;s=t.target,r=Date.now(),n=t.touches[0].clientX,a=t.touches[0].clientY,u=0,i=0},!1),e.addEventListener(\"touchmove\",function(t){if(!n||!a)return;var e=t.touches[0].clientX,r=t.touches[0].clientY;u=n-e,i=a-r},!1),e.addEventListener(\"touchend\",function(t){if(s!==t.target)return;var e=parseInt(l(s,\"data-swipe-threshold\",\"20\"),10),o=parseInt(l(s,\"data-swipe-timeout\",\"500\"),10),c=Date.now()-r,d=\"\",p=t.changedTouches||t.touches||[];Math.abs(u)>Math.abs(i)?Math.abs(u)>e&&c<o&&(d=u>0?\"swiped-left\":\"swiped-right\"):Math.abs(i)>e&&c<o&&(d=i>0?\"swiped-up\":\"swiped-down\");if(\"\"!==d){var b={dir:d.replace(/swiped-/,\"\"),xStart:parseInt(n,10),xEnd:parseInt((p[0]||{}).clientX||-1,10),yStart:parseInt(a,10),yEnd:parseInt((p[0]||{}).clientY||-1,10)};s.dispatchEvent(new CustomEvent(\"swiped\",{bubbles:!0,cancelable:!0,detail:b})),s.dispatchEvent(new CustomEvent(d,{bubbles:!0,cancelable:!0,detail:b}))}n=null,a=null,r=null},!1);var n=null,a=null,u=null,i=null,r=null,s=null;function l(t,n,a){for(;t&&t!==e.documentElement;){var u=t.getAttribute(n);if(u)return u;t=t.parentNode}return a}}(window,document);\n",
       "\n",
       "function jaxify(string) {\n",
       "    var mystring = string;\n",
       "    //console.log(mystring);\n",
       "\n",
       "    var count = 0;\n",
       "    var loc = mystring.search(/([^\\\\]|^)(\\$)/);\n",
       "\n",
       "    var count2 = 0;\n",
       "    var loc2 = mystring.search(/([^\\\\]|^)(\\$\\$)/);\n",
       "\n",
       "    //console.log(loc);\n",
       "\n",
       "    while ((loc >= 0) || (loc2 >= 0)) {\n",
       "\n",
       "        /* Have to replace all the double $$ first with current implementation */\n",
       "        if (loc2 >= 0) {\n",
       "            if (count2 % 2 == 0) {\n",
       "                mystring = mystring.replace(/([^\\\\]|^)(\\$\\$)/, \"$1\\\\[\");\n",
       "            } else {\n",
       "                mystring = mystring.replace(/([^\\\\]|^)(\\$\\$)/, \"$1\\\\]\");\n",
       "            }\n",
       "            count2++;\n",
       "        } else {\n",
       "            if (count % 2 == 0) {\n",
       "                mystring = mystring.replace(/([^\\\\]|^)(\\$)/, \"$1\\\\(\");\n",
       "            } else {\n",
       "                mystring = mystring.replace(/([^\\\\]|^)(\\$)/, \"$1\\\\)\");\n",
       "            }\n",
       "            count++;\n",
       "        }\n",
       "        loc = mystring.search(/([^\\\\]|^)(\\$)/);\n",
       "        loc2 = mystring.search(/([^\\\\]|^)(\\$\\$)/);\n",
       "        //console.log(mystring,\", loc:\",loc,\", loc2:\",loc2);\n",
       "    }\n",
       "\n",
       "    //console.log(mystring);\n",
       "    return mystring;\n",
       "}\n",
       "\n",
       "window.flipCard = function flipCard(ths) {\n",
       "    //console.log(ths);\n",
       "    //console.log(ths.id);\n",
       "    ths.classList.toggle(\"flip\"); \n",
       "    ths.focus();\n",
       "    var next=document.getElementById(ths.id+'-next');\n",
       "    next.style.pointerEvents='none';\n",
       "    /* ths.blur(); */\n",
       "    next.classList.add('flipped');\n",
       "    if (typeof MathJax != 'undefined') {\n",
       "        var version = MathJax.version;\n",
       "        //console.log('MathJax version', version);\n",
       "        if (version[0] == \"2\") {\n",
       "            MathJax.Hub.Queue([\"Typeset\", MathJax.Hub]);\n",
       "        } else if (version[0] == \"3\") {\n",
       "            MathJax.typeset([ths]);\n",
       "        }\n",
       "    } else {\n",
       "        //console.log('MathJax not detected');\n",
       "    }\n",
       "\n",
       "\n",
       "    setTimeout(reenableNext, 600, ths, next);\n",
       "}\n",
       "\n",
       "window.checkKey = function checkKey(container, event) {\n",
       "    event.stopPropagation();\n",
       "    /*\n",
       "    console.log(container);\n",
       "    console.log(event.key);\n",
       "    console.log(event.code);\n",
       "    */\n",
       "    /* JMS:  Working here*/\n",
       "    var next=document.getElementById(container.id+'-next');\n",
       "    /* Only react if not already sliding */\n",
       "    if (! next.classList.contains(\"hide\")) {\n",
       "        if ((event.key == \"j\") || (event.key == \"Enter\") || (event.key == \"ArrowRight\")) {\n",
       "            window.checkFlip(container.id);\n",
       "        }\n",
       "        if (event.key == \" \") {\n",
       "            window.flipCard(container);\n",
       "        }\n",
       "    }\n",
       "    event.preventDefault();\n",
       "}\n",
       "\n",
       "\n",
       "function reenableNext(ths, next) {\n",
       "    next.style.pointerEvents='auto';\n",
       "    /* ths.tabIndex= 0;*/\n",
       "    /* ths.focus(); */\n",
       "}\n",
       "\n",
       "\n",
       "\n",
       "function slide2(containerId) {\n",
       "    var container = document.getElementById(containerId);\n",
       "    var next=document.getElementById(containerId+'-next');\n",
       "    var frontcard = container.children[0];\n",
       "    var backcard = container.children[1];\n",
       "    container.style.pointerEvents='none';\n",
       "    /* container.removeAttribute(\"tabindex\");*/\n",
       "    /* container.blur(); */\n",
       "    //backcard.style.pointerEvents='none';\n",
       "    next.style.pointerEvents='none';\n",
       "    next.classList.remove('flipped');\n",
       "    next.classList.add('hide');\n",
       "\n",
       "    //container.classList.add(\"prepare\");\n",
       "    \n",
       "    container.className=\"flip-container slide\";\n",
       "    backcard.parentElement.removeChild(frontcard);\n",
       "    backcard.parentElement.appendChild(frontcard);\n",
       "    setTimeout(slideback, 600, container, frontcard, backcard, next);\n",
       "    \n",
       "}\n",
       "\n",
       "\n",
       "window.checkFlip = function checkFlip(containerId) {\n",
       "    var container = document.getElementById(containerId);\n",
       "\n",
       "\n",
       "    if (container.classList.contains('flip')) {\n",
       "        container.classList.remove('flip');\n",
       "        setTimeout(slide2, 600, containerId);\n",
       "    } \n",
       "    else {\n",
       "        slide2(containerId);\n",
       "    }\n",
       "}\n",
       "\n",
       "\n",
       "function slideback(container, frontcard, backcard, next) {\n",
       "    container.className=\"flip-container slideback\";\n",
       "    setTimeout(cleanup, 550, container, frontcard, backcard, next);\n",
       "}\n",
       "\n",
       "function cleanup(container, frontcard, backcard, next) {\n",
       "    container.removeChild(frontcard);\n",
       "    backcard.className=\"flipper frontcard\";\n",
       "    container.className=\"flip-container\";\n",
       "\n",
       "    var cardnum=parseInt(container.dataset.cardnum);\n",
       "    var cards=eval('cards'+container.id);\n",
       "    var flipper=createOneCard(container, false, cards, cardnum);\n",
       "    container.append(flipper);\n",
       "    cardnum= (cardnum+1) % parseInt(container.dataset.numCards);\n",
       "    container.dataset.cardnum=cardnum;\n",
       "    if (cardnum != 1){\n",
       "        next.innerHTML=\"Next >\";\n",
       "    } else {\n",
       "        //next.innerHTML=\"Reload \\\\(\\\\circlearrowleft\\\\) \";\n",
       "        next.innerHTML='Reload <svg xmlns=\"http://www.w3.org/2000/svg\" xmlns:xlink=\"http://www.w3.org/1999/xlink\" viewbox=\"0 0 25 26\"> <path d=\"M7,6a10,10,0,1,0,9,0\" style=\"fill:none;stroke:black;stroke-width:2px\" id=\"e2_circleArc\"/> <line id=\"e3_line\" x1=\"17\" y1=\"6.5\" x2=\"17.5\" y2=\"15\" style=\"stroke:black;fill:none;stroke-width:2px\"/> <line id=\"e4_line\" x1=\"16.5\" y1=\"6.5\" x2=\"26\" y2=\"8\" style=\"stroke:black;fill:none;stroke-width:2px\"/> </svg> '\n",
       "        if (typeof MathJax != 'undefined') {\n",
       "            var version = MathJax.version;\n",
       "            //console.log('MathJax version', version);\n",
       "            if (version[0] == \"2\") {\n",
       "                MathJax.Hub.Queue([\"Typeset\", MathJax.Hub]);\n",
       "            } else if (version[0] == \"3\") {\n",
       "                MathJax.typeset([next]);\n",
       "            }\n",
       "        } else {\n",
       "            //console.log('MathJax not detected');\n",
       "        }\n",
       "\n",
       "\n",
       "    }\n",
       "\n",
       "    if (typeof MathJax != 'undefined') {\n",
       "        var version = MathJax.version;\n",
       "        //console.log('MathJax version', version);\n",
       "        if (version[0] == \"2\") {\n",
       "            MathJax.Hub.Queue([\"Typeset\", MathJax.Hub]);\n",
       "        } else if (version[0] == \"3\") {\n",
       "            MathJax.typeset();\n",
       "        }\n",
       "    } else {\n",
       "        //console.log('MathJax not detected');\n",
       "    }\n",
       "\n",
       "\n",
       "    next.style.pointerEvents='auto';\n",
       "    container.style.pointerEvents='auto';\n",
       "    /* container.tabIndex= 0; */\n",
       "    /* container.focus(); */\n",
       "    next.classList.remove('hide');\n",
       "    container.addEventListener('swiped-left', function(e) {\n",
       "        /*\n",
       "          console.log(e.detail);\n",
       "          console.log(id);\n",
       "        */\n",
       "        checkFlip(container.id);\n",
       "    }, {once: true });\n",
       "\n",
       "\n",
       "}\n",
       "\n",
       "\n",
       "function createOneCard  (mydiv, frontCard, cards, cardnum) {\n",
       "    var colors=eval('frontColors'+mydiv.id);\n",
       "    var backColors=eval('backColors'+mydiv.id);\n",
       "    var textColors=eval('textColors'+mydiv.id);\n",
       "    //console.log(backColors)\n",
       "\n",
       "    var flipper = document.createElement('div');\n",
       "    if (frontCard){\n",
       "        flipper.className=\"flipper frontcard\";    \n",
       "    }\n",
       "    else {\n",
       "        flipper.className=\"flipper backcard\";   \n",
       "    }\n",
       "\n",
       "    var front = document.createElement('div');\n",
       "    front.className='front flashcard';\n",
       "\n",
       "    var frontSpan= document.createElement('span');\n",
       "    frontSpan.className='flashcardtext';\n",
       "    frontSpan.innerHTML=jaxify(cards[cardnum]['front']);\n",
       "    frontSpan.style.color=textColors[cardnum % textColors.length];\n",
       "    //frontSpan.textContent=jaxify(cards[cardnum]['front']);\n",
       "    //front.style.background='var(' + colors[cardnum % colors.length] + ')';\n",
       "    front.style.background=colors[cardnum % colors.length];\n",
       "\n",
       "    front.append(frontSpan);\n",
       "    flipper.append(front);\n",
       "\n",
       "    var back = document.createElement('div');\n",
       "    back.className='back flashcard';\n",
       "    back.style.background=backColors[cardnum % backColors.length];\n",
       "\n",
       "    var backSpan= document.createElement('span');\n",
       "    backSpan.className='flashcardtext';\n",
       "    backSpan.innerHTML=jaxify(cards[cardnum]['back']);\n",
       "    backSpan.style.color=textColors[cardnum % textColors.length];\n",
       "    back.append(backSpan);\n",
       "\n",
       "    flipper.append(back);\n",
       "\n",
       "    return flipper;\n",
       "\n",
       "}\n",
       "\n",
       "\n",
       "\n",
       "\n",
       "\n",
       "function createCards(id, keyControl, grabFocus) {\n",
       "    console.log(id);\n",
       "\n",
       "    var mydiv=document.getElementById(id);\n",
       "    /*mydiv.onclick = window.flipCard(mydiv);*/\n",
       "    /*\n",
       "    mydiv.addEventListener('click', function(){window.flipCard(mydiv);}, false);\n",
       "    mydiv.addEventListener('keydown', function(event){window.checkKey(mydiv,event);}, true);\n",
       "    */\n",
       "    mydiv.onclick = function(){window.flipCard(mydiv);};\n",
       "    //console.log(keyControl);\n",
       "    if (keyControl == \"True\"){\n",
       "        mydiv.onkeydown = function(event){window.checkKey(mydiv,event);};\n",
       "    }\n",
       "    /* mydiv.addEventListener('keydown', function(event){event.stopPropagation(); console.log(event); event.preventDefault();}, true); */\n",
       "    /*mydiv.onkeypress = function(event){console.log(event); event.preventDefault();};*/\n",
       "\n",
       "    //console.log(mydiv);\n",
       "\n",
       "    var cards=eval('cards'+id);\n",
       "    mydiv.dataset.cardnum=0;\n",
       "    mydiv.dataset.numCards=cards.length;\n",
       "    mydiv.addEventListener('swiped-left', function(e) {\n",
       "        /*\n",
       "          console.log(e.detail);\n",
       "          console.log(id);\n",
       "        */\n",
       "        checkFlip(id);\n",
       "    }, {once: true});\n",
       "\n",
       "    var cardnum=0;\n",
       "    \n",
       "    for (var i=0; i<2; i++) {\n",
       "    \n",
       "        var flipper;\n",
       "        if (i==0){\n",
       "            flipper=createOneCard(mydiv, true, cards, cardnum);\n",
       "        }\n",
       "        else {\n",
       "            flipper=createOneCard(mydiv, false, cards, cardnum);\n",
       "        }\n",
       "\n",
       "        mydiv.append(flipper);\n",
       "        if (typeof MathJax != 'undefined') {\n",
       "            var version = MathJax.version;\n",
       "            if (typeof version == 'undefined') {\n",
       "                setTimeout(function(){\n",
       "                    var version = MathJax.version;\n",
       "                    console.log('After sleep, MathJax version', version);\n",
       "                    if (version[0] == \"2\") {\n",
       "                        MathJax.Hub.Queue([\"Typeset\", MathJax.Hub]);\n",
       "                    } else if (version[0] == \"3\") {\n",
       "                        MathJax.typeset([flipper]);\n",
       "                    }\n",
       "                }, 500);\n",
       "            } else{\n",
       "                console.log('MathJax version', version);\n",
       "                if (version[0] == \"2\") {\n",
       "                    MathJax.Hub.Queue([\"Typeset\", MathJax.Hub]);\n",
       "                } else if (version[0] == \"3\") {\n",
       "                    MathJax.typeset([flipper]);\n",
       "                }\n",
       "            }\n",
       "        } else {\n",
       "            console.log('MathJax not detected');\n",
       "        }\n",
       "\n",
       "\n",
       "        cardnum = (cardnum + 1) % mydiv.dataset.numCards;\n",
       "    }\n",
       "    mydiv.dataset.cardnum = cardnum;\n",
       "\n",
       "    var next=document.getElementById(id+'-next');\n",
       "    if (cards.length==1) {\n",
       "        // Don't show next if no other cards!\n",
       "        next.style.pointerEvents='none';\n",
       "        next.classList.add('hide');\n",
       "    } else {\n",
       "        next.innerHTML=\"Next >\";\n",
       "    }\n",
       "\n",
       "    if (grabFocus == \"True\" )\n",
       "        mydiv.focus();\n",
       "\n",
       "    return flipper;\n",
       "}\n",
       "\n",
       "\n",
       "\n",
       "\n",
       "\n",
       "        function try_create() {\n",
       "          if(document.getElementById(\"hZSWpwzstzqC\")) {\n",
       "            createCards(\"hZSWpwzstzqC\", \"True\", \"False\");\n",
       "          } else {\n",
       "             setTimeout(try_create, 200);\n",
       "          }\n",
       "        };\n",
       "    \n",
       "var cardshZSWpwzstzqC=[\r\n",
       "    {\r\n",
       "        \"front\": \"What is heat stress ?\",\r\n",
       "        \"back\": \"Heat Stress is Heat stress occurs when the body's ability to cool itself is overwhelmed by the amount of heat it absorbs from the environment or produces internally. It can lead to heat-related illnesses like heat exhaustion, heat stroke, heat cramps, and heat rash.\"\r\n",
       "    },\r\n",
       "    {\r\n",
       "        \"front\": \"What are urban heat islands ?\",\r\n",
       "        \"back\": \"An urban heat island refers to a phenomenon where a city is significantly warmer than the surrounding rural areas, primarily due to the presence of heat-absorbing surfaces like asphalt roads, buildings, and concrete, which absorb sunlight during the day and release that heat slowly at night, creating a hot spot.\"\r\n",
       "    },\r\n",
       "    {\r\n",
       "        \"front\": \"What is the Copernicus Climate Data Store ? \",\r\n",
       "        \"back\": \"The Copernicus Climate Data Store is The Copernicus Climate Data Store (CDS) is a web-based platform that provides free access to a vast collection of climate data, including satellite observations, in-situ measurements, climate model projections, and seasonal forecasts, allowing users to explore past, present, and future climate information across the globe. \"\r\n",
       "    },\r\n",
       "\r\n",
       "    {\r\n",
       "        \"front\": \"What is the Copernicus Climate Data Store API ? \",\r\n",
       "        \"back\": \"The Copernicus Climate Data Store API is The Copernicus Climate Data Store API (CDS API) is a programming interface that allows users to access and retrieve climate data from the Copernicus Climate Change Service's (C3S) Climate Data Store (CDS) programmatically using a programming language called Python. \"\r\n",
       "    }, \r\n",
       "    {\r\n",
       "        \"front\": \"What is Healthsites.io ? \",\r\n",
       "        \"back\": \"Healthsites.io is a free, open-source platform that creates and maintains a global map of health facilities. \"\r\n",
       "    },\r\n",
       "    {\r\n",
       "        \"front\": \"What is the Healthsites.io API ? \",\r\n",
       "        \"back\": \"The Healthsites.io API is an online interface that allows developers to access and utilize a global database of healthcare facility locations, providing details like coordinates, services offered, and contact information, primarily sourced from OpenStreetMap data. \"\r\n",
       "    }\r\n",
       "\r\n",
       "];\n",
       "var frontColorshZSWpwzstzqC= [\"var(--asparagus)\", \"var(--terra-cotta)\", \"var(--cyan-process)\" ];\n",
       "var backColorshZSWpwzstzqC= [\"var(--dark-blue-gray)\" ];\n",
       "var textColorshZSWpwzstzqC= [\"var(--snow)\" ];\n",
       "\n",
       "\n",
       "        {\n",
       "        const jmscontroller = new AbortController();\n",
       "        const signal = jmscontroller.signal;\n",
       "\n",
       "        setTimeout(() => jmscontroller.abort(), 5000);\n",
       "\n",
       "        fetch(\"https://raw.githubusercontent.com/PHI-Case-Studies/2024-Climate-Heat-Stress/refs/heads/main/flashcards.json\", {signal})\n",
       "        .then(response => response.json())\n",
       "        .then(json => createCards(\"hZSWpwzstzqC\", \"True\", \"False\"))\n",
       "        .catch(err => {\n",
       "        console.log(\"Fetch error or timeout\");\n",
       "        try_create(); \n",
       "        });\n",
       "        }\n",
       "        "
      ],
      "text/plain": [
       "<IPython.core.display.Javascript object>"
      ]
     },
     "metadata": {},
     "output_type": "display_data"
    }
   ],
   "source": [
    "# we are going to use a python library called jupyter cards to test our knowledge with interactive flashcards\n",
    "import micropip\n",
    "await micropip.install('jupytercards')\n",
    "                       \n",
    "from jupytercards import display_flashcards\n",
    "github='https://raw.githubusercontent.com/PHI-Case-Studies/2024-Climate-Heat-Stress/refs/heads/main/'\n",
    "display_flashcards(github+'flashcards.json')\n",
    "\n",
    "# remember this url:  https://raw.githubusercontent.com/PHI-Case-Studies/2024-Climate-Heat-Stress/refs/heads/main/flashcards.json\n"
   ]
  },
  {
   "cell_type": "code",
   "execution_count": 2,
   "id": "71b1cf90-8a66-440e-9819-9f1566c8100f",
   "metadata": {
    "scrolled": true
   },
   "outputs": [
    {
     "data": {
      "text/html": [
       "<style>\n",
       ":root{\n",
       "  --asparagus: #87a878ff;\n",
       "  --terra-cotta: #e26d5aff;\n",
       "  --cyan-process: #5bc0ebff;\n",
       "  --dark-blue-gray: #666a86ff;\n",
       "  --snow: #fffafbff;\n",
       "  --rich-black-fogra-39: #090c08ff;\n",
       "}\n",
       "\n",
       "\n",
       "/* entire container, keeps perspective */\n",
       ".flip-container {\n",
       "\tperspective: 1000px;\n",
       "  touch-action: pinch-zoom pan-y;\n",
       "}\n",
       "\n",
       "\n",
       ".flip-container.flip .flipper {\n",
       "    box-sizing: content-box;\n",
       "\t  transform: rotateY(180deg);\n",
       "\t/* transform: rotateY(180deg)  translateX(-6%);  */\n",
       "}\n",
       "\n",
       "\n",
       ".flip-container.slide .flipper.frontcard {\n",
       "    filter: brightness(90%);\n",
       "    position:absolute;\n",
       "    z-index: -20;\n",
       "    /* left: 20px; */\n",
       "}\n",
       "\n",
       ".flip-container.prepare .flipper.backcard {\n",
       "    opacity:1;\n",
       "    transition: display 0s;\n",
       "    transform:  translateX(20px); \n",
       "}\n",
       "\n",
       "\n",
       ".flip-container.slide .flipper.backcard {\n",
       "    filter: brightness(115%);\n",
       "    /* height: 360px; */\n",
       "    opacity:1;\n",
       "\t  transform:  rotateY(3deg)  translateX(700px) translateZ(20px) scale(1, 1.05) rotate(3deg);\n",
       "    z-index: 20;\n",
       "    /* left: -20px; */\n",
       "}\n",
       "\n",
       "\n",
       "\n",
       "\n",
       ".flip-container.slideback .flipper.backcard {\n",
       "    filter: brightness(100%);\n",
       "    opacity: 1;\n",
       "\t  transform: translateX(0px) translateZ(20px) rotateY(0deg);\n",
       "    z-index: 10;\n",
       "}\n",
       "\n",
       ".flip-container.slideback .flipper.frontcard {\n",
       "    filter: brightness(90%);\n",
       "    transform: translateX(0px) translateZ(-20px);\n",
       "    z-index: -10;\n",
       "}\n",
       "\n",
       "\n",
       ".flip-container, .front, .back {\n",
       "\t  height: 200px;\n",
       "\t  width: 95%;\n",
       "}\n",
       "\n",
       "\n",
       "\n",
       "\n",
       ".flipper.frontcard {\n",
       "    position:absolute;\n",
       "\t  transform: translateX(0px) rotateY(0deg) translateZ(20px);\n",
       "    z-index: 10;\n",
       "}\n",
       "\n",
       ".flipper.backcard {\n",
       "    filter: brightness(90%);\n",
       "    opacity:0;\n",
       "    position:absolute;\n",
       "    transform: translateX(0px) translateZ(-20px);\n",
       "    z-index: -10;\n",
       "}\n",
       "\n",
       "\n",
       "\n",
       "\n",
       "/* flip speed goes here */\n",
       ".flipper {\n",
       "    cursor:pointer;\n",
       "\t  height: 200px;\n",
       "    margin-left:10px;\n",
       "\t  position: absolute;\n",
       "    top: 0;\n",
       "\t  transform-style: preserve-3d;\n",
       "\t  transition: 0.6s;\n",
       "    /* width: 95%; */\n",
       "    width: 100%;\n",
       "}\n",
       "\n",
       ".flashcardtext{\n",
       "    color: var(--snow);\n",
       "    margin-left:3%;\n",
       "    position:absolute;\n",
       "    text-align:center;\n",
       "    top: 50%;\n",
       "    transform: translate(0, -50%);\n",
       "    width:90%;\n",
       "    font-size: 1.5em;\n",
       "}\n",
       "\n",
       ".back .flashcardtext{\n",
       "    font-size: 1.2em;\n",
       "}\n",
       "\n",
       "\n",
       "\n",
       "/* hide back of pane during swap */\n",
       ".front, .back {\n",
       "    -webkit-backface-visibility: hidden;\n",
       "\t  backface-visibility: hidden;\n",
       "\t  left: 0;\n",
       "\t  position: absolute;\n",
       "\t  top: 0;\n",
       "}\n",
       "\n",
       "/* front pane, placed above back */\n",
       ".front {\n",
       "\t  backface-visibility: hidden;\n",
       "    background: var(--asparagus);\n",
       "    transform: rotateY(0deg);\n",
       "\t  z-index: 2;\n",
       "}\n",
       "\n",
       "/* back, initially hidden pane */\n",
       ".back {\n",
       "\t  backface-visibility: hidden;\n",
       "    background: var(--dark-blue-gray);\n",
       "\t  transform: rotateY(180deg);\n",
       "}\n",
       "\n",
       ".jp-OutputArea-output .back {\n",
       "\t  transform: rotateY(180deg) translateX(7.5%);\n",
       "}\n",
       "\n",
       ".next {\n",
       "    color: var(--rich-black-fogra-39);\n",
       "    cursor:pointer;\n",
       "    font-size: 1.5em;\n",
       "    /*left:90%; */\n",
       "    margin-left: 70%;\n",
       "    width: 55pt;\n",
       "    height: 22pt;\n",
       "    opacity:0.3;\n",
       "    position:relative; \n",
       "    top:-1em;\n",
       "}\n",
       "\n",
       ".next svg {\n",
       "    height:16pt;\n",
       "    width:16pt;\n",
       "    position:relative;\n",
       "    top:-2pt;\n",
       "}\n",
       "\n",
       ".jp-OutputArea-output .next svg {\n",
       "    top: 1pt;\n",
       "}\n",
       "\n",
       ".next.flipped {\n",
       "    opacity:1;\n",
       "}\n",
       "\n",
       ".next.hide {\n",
       "    opacity:0;\n",
       "}\n",
       "\n",
       "\n",
       ".flashcard{\n",
       "    border-radius: 10px;\n",
       "    outline: none;\n",
       "    color: #fafafa;\n",
       "    display:block;\n",
       "    padding:10px;\n",
       "  \n",
       "}\n",
       "\n",
       ".flashcardtext li{\n",
       "    text-align: left;\n",
       "}\n",
       "\n",
       "@media only screen and (min-width:1000px) {\n",
       "\n",
       "    .flip-container, .front, .back {\n",
       "\t      height: 300px;\n",
       "\t      width: min(95%, 640px);\n",
       "    }\n",
       "\n",
       "    .flipper {\n",
       "        margin-left:20px;\n",
       "\t      height: 300px;\n",
       "    }\n",
       "\n",
       "    .flashcardtext{\n",
       "        font-size: 20pt;\n",
       "    }\n",
       "\n",
       "    .next {\n",
       "        font-size: 16pt;\n",
       "        left:min(80%, 450pt);\n",
       "        margin-left: 0;\n",
       "        width: 55pt;\n",
       "        height: 22pt;\n",
       "        top:-0.5em;\n",
       "    }\n",
       "\n",
       "    .back .flashcardtext{\n",
       "        font-size: 1.5em;\n",
       "    }\n",
       "\n",
       "}\n",
       "\n",
       "@media only screen and (min-width:660px) and (max-width:999px) {\n",
       "    .next {\n",
       "        left:0;\n",
       "        margin-left: 80%;\n",
       "    }\n",
       "\n",
       "}\n",
       "\n",
       "@media only screen and (max-width:680px) and (min-height:376px) {\n",
       "    .flip-container, .front, .back {\n",
       "\t      height: 300px;\n",
       "    }\n",
       "\n",
       "    .flipper {\n",
       "\t      height: 300px;\n",
       "    }\n",
       "\n",
       "}\n",
       "\n",
       "@media only screen and (max-width:330px) and (max-height:600px) {\n",
       "\n",
       "    .back .flashcardtext{\n",
       "        font-size: 1em;\n",
       "    }\n",
       "    .next {\n",
       "        margin-left: 65%;\n",
       "    }\n",
       "\n",
       "}\n",
       "\n",
       "</style>"
      ],
      "text/plain": [
       "<IPython.core.display.HTML object>"
      ]
     },
     "metadata": {},
     "output_type": "display_data"
    },
    {
     "data": {
      "text/html": [
       "<div style=\"height:40px\"></div><div class=\"flip-container\" id=\"gtFWXLNNfHwm\" tabindex=\"0\" style=\"outline:none;\"></div><div style=\"height:40px\"></div><div class=\"next\" id=\"gtFWXLNNfHwm-next\" onclick=\"window.checkFlip('gtFWXLNNfHwm')\"> </div> <div style=\"height:40px\"></div>"
      ],
      "text/plain": [
       "<IPython.core.display.HTML object>"
      ]
     },
     "metadata": {},
     "output_type": "display_data"
    },
    {
     "data": {
      "application/javascript": [
       "/*!\n",
       " * swiped-events.js - v1.1.4\n",
       " * Pure JavaScript swipe events\n",
       " * https://github.com/john-doherty/swiped-events\n",
       " * @inspiration https://stackoverflow.com/questions/16348031/disable-scrolling-when-touch-moving-certain-element\n",
       " * @author John Doherty <www.johndoherty.info>\n",
       " * @license MIT\n",
       " */\n",
       "!function(t,e){\"use strict\";\"function\"!=typeof t.CustomEvent&&(t.CustomEvent=function(t,n){n=n||{bubbles:!1,cancelable:!1,detail:void 0};var a=e.createEvent(\"CustomEvent\");return a.initCustomEvent(t,n.bubbles,n.cancelable,n.detail),a},t.CustomEvent.prototype=t.Event.prototype),e.addEventListener(\"touchstart\",function(t){if(\"true\"===t.target.getAttribute(\"data-swipe-ignore\"))return;s=t.target,r=Date.now(),n=t.touches[0].clientX,a=t.touches[0].clientY,u=0,i=0},!1),e.addEventListener(\"touchmove\",function(t){if(!n||!a)return;var e=t.touches[0].clientX,r=t.touches[0].clientY;u=n-e,i=a-r},!1),e.addEventListener(\"touchend\",function(t){if(s!==t.target)return;var e=parseInt(l(s,\"data-swipe-threshold\",\"20\"),10),o=parseInt(l(s,\"data-swipe-timeout\",\"500\"),10),c=Date.now()-r,d=\"\",p=t.changedTouches||t.touches||[];Math.abs(u)>Math.abs(i)?Math.abs(u)>e&&c<o&&(d=u>0?\"swiped-left\":\"swiped-right\"):Math.abs(i)>e&&c<o&&(d=i>0?\"swiped-up\":\"swiped-down\");if(\"\"!==d){var b={dir:d.replace(/swiped-/,\"\"),xStart:parseInt(n,10),xEnd:parseInt((p[0]||{}).clientX||-1,10),yStart:parseInt(a,10),yEnd:parseInt((p[0]||{}).clientY||-1,10)};s.dispatchEvent(new CustomEvent(\"swiped\",{bubbles:!0,cancelable:!0,detail:b})),s.dispatchEvent(new CustomEvent(d,{bubbles:!0,cancelable:!0,detail:b}))}n=null,a=null,r=null},!1);var n=null,a=null,u=null,i=null,r=null,s=null;function l(t,n,a){for(;t&&t!==e.documentElement;){var u=t.getAttribute(n);if(u)return u;t=t.parentNode}return a}}(window,document);\n",
       "\n",
       "function jaxify(string) {\n",
       "    var mystring = string;\n",
       "    //console.log(mystring);\n",
       "\n",
       "    var count = 0;\n",
       "    var loc = mystring.search(/([^\\\\]|^)(\\$)/);\n",
       "\n",
       "    var count2 = 0;\n",
       "    var loc2 = mystring.search(/([^\\\\]|^)(\\$\\$)/);\n",
       "\n",
       "    //console.log(loc);\n",
       "\n",
       "    while ((loc >= 0) || (loc2 >= 0)) {\n",
       "\n",
       "        /* Have to replace all the double $$ first with current implementation */\n",
       "        if (loc2 >= 0) {\n",
       "            if (count2 % 2 == 0) {\n",
       "                mystring = mystring.replace(/([^\\\\]|^)(\\$\\$)/, \"$1\\\\[\");\n",
       "            } else {\n",
       "                mystring = mystring.replace(/([^\\\\]|^)(\\$\\$)/, \"$1\\\\]\");\n",
       "            }\n",
       "            count2++;\n",
       "        } else {\n",
       "            if (count % 2 == 0) {\n",
       "                mystring = mystring.replace(/([^\\\\]|^)(\\$)/, \"$1\\\\(\");\n",
       "            } else {\n",
       "                mystring = mystring.replace(/([^\\\\]|^)(\\$)/, \"$1\\\\)\");\n",
       "            }\n",
       "            count++;\n",
       "        }\n",
       "        loc = mystring.search(/([^\\\\]|^)(\\$)/);\n",
       "        loc2 = mystring.search(/([^\\\\]|^)(\\$\\$)/);\n",
       "        //console.log(mystring,\", loc:\",loc,\", loc2:\",loc2);\n",
       "    }\n",
       "\n",
       "    //console.log(mystring);\n",
       "    return mystring;\n",
       "}\n",
       "\n",
       "window.flipCard = function flipCard(ths) {\n",
       "    //console.log(ths);\n",
       "    //console.log(ths.id);\n",
       "    ths.classList.toggle(\"flip\"); \n",
       "    ths.focus();\n",
       "    var next=document.getElementById(ths.id+'-next');\n",
       "    next.style.pointerEvents='none';\n",
       "    /* ths.blur(); */\n",
       "    next.classList.add('flipped');\n",
       "    if (typeof MathJax != 'undefined') {\n",
       "        var version = MathJax.version;\n",
       "        //console.log('MathJax version', version);\n",
       "        if (version[0] == \"2\") {\n",
       "            MathJax.Hub.Queue([\"Typeset\", MathJax.Hub]);\n",
       "        } else if (version[0] == \"3\") {\n",
       "            MathJax.typeset([ths]);\n",
       "        }\n",
       "    } else {\n",
       "        //console.log('MathJax not detected');\n",
       "    }\n",
       "\n",
       "\n",
       "    setTimeout(reenableNext, 600, ths, next);\n",
       "}\n",
       "\n",
       "window.checkKey = function checkKey(container, event) {\n",
       "    event.stopPropagation();\n",
       "    /*\n",
       "    console.log(container);\n",
       "    console.log(event.key);\n",
       "    console.log(event.code);\n",
       "    */\n",
       "    /* JMS:  Working here*/\n",
       "    var next=document.getElementById(container.id+'-next');\n",
       "    /* Only react if not already sliding */\n",
       "    if (! next.classList.contains(\"hide\")) {\n",
       "        if ((event.key == \"j\") || (event.key == \"Enter\") || (event.key == \"ArrowRight\")) {\n",
       "            window.checkFlip(container.id);\n",
       "        }\n",
       "        if (event.key == \" \") {\n",
       "            window.flipCard(container);\n",
       "        }\n",
       "    }\n",
       "    event.preventDefault();\n",
       "}\n",
       "\n",
       "\n",
       "function reenableNext(ths, next) {\n",
       "    next.style.pointerEvents='auto';\n",
       "    /* ths.tabIndex= 0;*/\n",
       "    /* ths.focus(); */\n",
       "}\n",
       "\n",
       "\n",
       "\n",
       "function slide2(containerId) {\n",
       "    var container = document.getElementById(containerId);\n",
       "    var next=document.getElementById(containerId+'-next');\n",
       "    var frontcard = container.children[0];\n",
       "    var backcard = container.children[1];\n",
       "    container.style.pointerEvents='none';\n",
       "    /* container.removeAttribute(\"tabindex\");*/\n",
       "    /* container.blur(); */\n",
       "    //backcard.style.pointerEvents='none';\n",
       "    next.style.pointerEvents='none';\n",
       "    next.classList.remove('flipped');\n",
       "    next.classList.add('hide');\n",
       "\n",
       "    //container.classList.add(\"prepare\");\n",
       "    \n",
       "    container.className=\"flip-container slide\";\n",
       "    backcard.parentElement.removeChild(frontcard);\n",
       "    backcard.parentElement.appendChild(frontcard);\n",
       "    setTimeout(slideback, 600, container, frontcard, backcard, next);\n",
       "    \n",
       "}\n",
       "\n",
       "\n",
       "window.checkFlip = function checkFlip(containerId) {\n",
       "    var container = document.getElementById(containerId);\n",
       "\n",
       "\n",
       "    if (container.classList.contains('flip')) {\n",
       "        container.classList.remove('flip');\n",
       "        setTimeout(slide2, 600, containerId);\n",
       "    } \n",
       "    else {\n",
       "        slide2(containerId);\n",
       "    }\n",
       "}\n",
       "\n",
       "\n",
       "function slideback(container, frontcard, backcard, next) {\n",
       "    container.className=\"flip-container slideback\";\n",
       "    setTimeout(cleanup, 550, container, frontcard, backcard, next);\n",
       "}\n",
       "\n",
       "function cleanup(container, frontcard, backcard, next) {\n",
       "    container.removeChild(frontcard);\n",
       "    backcard.className=\"flipper frontcard\";\n",
       "    container.className=\"flip-container\";\n",
       "\n",
       "    var cardnum=parseInt(container.dataset.cardnum);\n",
       "    var cards=eval('cards'+container.id);\n",
       "    var flipper=createOneCard(container, false, cards, cardnum);\n",
       "    container.append(flipper);\n",
       "    cardnum= (cardnum+1) % parseInt(container.dataset.numCards);\n",
       "    container.dataset.cardnum=cardnum;\n",
       "    if (cardnum != 1){\n",
       "        next.innerHTML=\"Next >\";\n",
       "    } else {\n",
       "        //next.innerHTML=\"Reload \\\\(\\\\circlearrowleft\\\\) \";\n",
       "        next.innerHTML='Reload <svg xmlns=\"http://www.w3.org/2000/svg\" xmlns:xlink=\"http://www.w3.org/1999/xlink\" viewbox=\"0 0 25 26\"> <path d=\"M7,6a10,10,0,1,0,9,0\" style=\"fill:none;stroke:black;stroke-width:2px\" id=\"e2_circleArc\"/> <line id=\"e3_line\" x1=\"17\" y1=\"6.5\" x2=\"17.5\" y2=\"15\" style=\"stroke:black;fill:none;stroke-width:2px\"/> <line id=\"e4_line\" x1=\"16.5\" y1=\"6.5\" x2=\"26\" y2=\"8\" style=\"stroke:black;fill:none;stroke-width:2px\"/> </svg> '\n",
       "        if (typeof MathJax != 'undefined') {\n",
       "            var version = MathJax.version;\n",
       "            //console.log('MathJax version', version);\n",
       "            if (version[0] == \"2\") {\n",
       "                MathJax.Hub.Queue([\"Typeset\", MathJax.Hub]);\n",
       "            } else if (version[0] == \"3\") {\n",
       "                MathJax.typeset([next]);\n",
       "            }\n",
       "        } else {\n",
       "            //console.log('MathJax not detected');\n",
       "        }\n",
       "\n",
       "\n",
       "    }\n",
       "\n",
       "    if (typeof MathJax != 'undefined') {\n",
       "        var version = MathJax.version;\n",
       "        //console.log('MathJax version', version);\n",
       "        if (version[0] == \"2\") {\n",
       "            MathJax.Hub.Queue([\"Typeset\", MathJax.Hub]);\n",
       "        } else if (version[0] == \"3\") {\n",
       "            MathJax.typeset();\n",
       "        }\n",
       "    } else {\n",
       "        //console.log('MathJax not detected');\n",
       "    }\n",
       "\n",
       "\n",
       "    next.style.pointerEvents='auto';\n",
       "    container.style.pointerEvents='auto';\n",
       "    /* container.tabIndex= 0; */\n",
       "    /* container.focus(); */\n",
       "    next.classList.remove('hide');\n",
       "    container.addEventListener('swiped-left', function(e) {\n",
       "        /*\n",
       "          console.log(e.detail);\n",
       "          console.log(id);\n",
       "        */\n",
       "        checkFlip(container.id);\n",
       "    }, {once: true });\n",
       "\n",
       "\n",
       "}\n",
       "\n",
       "\n",
       "function createOneCard  (mydiv, frontCard, cards, cardnum) {\n",
       "    var colors=eval('frontColors'+mydiv.id);\n",
       "    var backColors=eval('backColors'+mydiv.id);\n",
       "    var textColors=eval('textColors'+mydiv.id);\n",
       "    //console.log(backColors)\n",
       "\n",
       "    var flipper = document.createElement('div');\n",
       "    if (frontCard){\n",
       "        flipper.className=\"flipper frontcard\";    \n",
       "    }\n",
       "    else {\n",
       "        flipper.className=\"flipper backcard\";   \n",
       "    }\n",
       "\n",
       "    var front = document.createElement('div');\n",
       "    front.className='front flashcard';\n",
       "\n",
       "    var frontSpan= document.createElement('span');\n",
       "    frontSpan.className='flashcardtext';\n",
       "    frontSpan.innerHTML=jaxify(cards[cardnum]['front']);\n",
       "    frontSpan.style.color=textColors[cardnum % textColors.length];\n",
       "    //frontSpan.textContent=jaxify(cards[cardnum]['front']);\n",
       "    //front.style.background='var(' + colors[cardnum % colors.length] + ')';\n",
       "    front.style.background=colors[cardnum % colors.length];\n",
       "\n",
       "    front.append(frontSpan);\n",
       "    flipper.append(front);\n",
       "\n",
       "    var back = document.createElement('div');\n",
       "    back.className='back flashcard';\n",
       "    back.style.background=backColors[cardnum % backColors.length];\n",
       "\n",
       "    var backSpan= document.createElement('span');\n",
       "    backSpan.className='flashcardtext';\n",
       "    backSpan.innerHTML=jaxify(cards[cardnum]['back']);\n",
       "    backSpan.style.color=textColors[cardnum % textColors.length];\n",
       "    back.append(backSpan);\n",
       "\n",
       "    flipper.append(back);\n",
       "\n",
       "    return flipper;\n",
       "\n",
       "}\n",
       "\n",
       "\n",
       "\n",
       "\n",
       "\n",
       "function createCards(id, keyControl, grabFocus) {\n",
       "    console.log(id);\n",
       "\n",
       "    var mydiv=document.getElementById(id);\n",
       "    /*mydiv.onclick = window.flipCard(mydiv);*/\n",
       "    /*\n",
       "    mydiv.addEventListener('click', function(){window.flipCard(mydiv);}, false);\n",
       "    mydiv.addEventListener('keydown', function(event){window.checkKey(mydiv,event);}, true);\n",
       "    */\n",
       "    mydiv.onclick = function(){window.flipCard(mydiv);};\n",
       "    //console.log(keyControl);\n",
       "    if (keyControl == \"True\"){\n",
       "        mydiv.onkeydown = function(event){window.checkKey(mydiv,event);};\n",
       "    }\n",
       "    /* mydiv.addEventListener('keydown', function(event){event.stopPropagation(); console.log(event); event.preventDefault();}, true); */\n",
       "    /*mydiv.onkeypress = function(event){console.log(event); event.preventDefault();};*/\n",
       "\n",
       "    //console.log(mydiv);\n",
       "\n",
       "    var cards=eval('cards'+id);\n",
       "    mydiv.dataset.cardnum=0;\n",
       "    mydiv.dataset.numCards=cards.length;\n",
       "    mydiv.addEventListener('swiped-left', function(e) {\n",
       "        /*\n",
       "          console.log(e.detail);\n",
       "          console.log(id);\n",
       "        */\n",
       "        checkFlip(id);\n",
       "    }, {once: true});\n",
       "\n",
       "    var cardnum=0;\n",
       "    \n",
       "    for (var i=0; i<2; i++) {\n",
       "    \n",
       "        var flipper;\n",
       "        if (i==0){\n",
       "            flipper=createOneCard(mydiv, true, cards, cardnum);\n",
       "        }\n",
       "        else {\n",
       "            flipper=createOneCard(mydiv, false, cards, cardnum);\n",
       "        }\n",
       "\n",
       "        mydiv.append(flipper);\n",
       "        if (typeof MathJax != 'undefined') {\n",
       "            var version = MathJax.version;\n",
       "            if (typeof version == 'undefined') {\n",
       "                setTimeout(function(){\n",
       "                    var version = MathJax.version;\n",
       "                    console.log('After sleep, MathJax version', version);\n",
       "                    if (version[0] == \"2\") {\n",
       "                        MathJax.Hub.Queue([\"Typeset\", MathJax.Hub]);\n",
       "                    } else if (version[0] == \"3\") {\n",
       "                        MathJax.typeset([flipper]);\n",
       "                    }\n",
       "                }, 500);\n",
       "            } else{\n",
       "                console.log('MathJax version', version);\n",
       "                if (version[0] == \"2\") {\n",
       "                    MathJax.Hub.Queue([\"Typeset\", MathJax.Hub]);\n",
       "                } else if (version[0] == \"3\") {\n",
       "                    MathJax.typeset([flipper]);\n",
       "                }\n",
       "            }\n",
       "        } else {\n",
       "            console.log('MathJax not detected');\n",
       "        }\n",
       "\n",
       "\n",
       "        cardnum = (cardnum + 1) % mydiv.dataset.numCards;\n",
       "    }\n",
       "    mydiv.dataset.cardnum = cardnum;\n",
       "\n",
       "    var next=document.getElementById(id+'-next');\n",
       "    if (cards.length==1) {\n",
       "        // Don't show next if no other cards!\n",
       "        next.style.pointerEvents='none';\n",
       "        next.classList.add('hide');\n",
       "    } else {\n",
       "        next.innerHTML=\"Next >\";\n",
       "    }\n",
       "\n",
       "    if (grabFocus == \"True\" )\n",
       "        mydiv.focus();\n",
       "\n",
       "    return flipper;\n",
       "}\n",
       "\n",
       "\n",
       "\n",
       "\n",
       "\n",
       "        function try_create() {\n",
       "          if(document.getElementById(\"gtFWXLNNfHwm\")) {\n",
       "            createCards(\"gtFWXLNNfHwm\", \"True\", \"False\");\n",
       "          } else {\n",
       "             setTimeout(try_create, 200);\n",
       "          }\n",
       "        };\n",
       "    \n",
       "var cardsgtFWXLNNfHwm=[\r\n",
       "    {\r\n",
       "        \"front\": \"What is heat stress ?\",\r\n",
       "        \"back\": \"Heat Stress is Heat stress occurs when the body's ability to cool itself is overwhelmed by the amount of heat it absorbs from the environment or produces internally. It can lead to heat-related illnesses like heat exhaustion, heat stroke, heat cramps, and heat rash.\"\r\n",
       "    },\r\n",
       "    {\r\n",
       "        \"front\": \"What are urban heat islands ?\",\r\n",
       "        \"back\": \"An urban heat island refers to a phenomenon where a city is significantly warmer than the surrounding rural areas, primarily due to the presence of heat-absorbing surfaces like asphalt roads, buildings, and concrete, which absorb sunlight during the day and release that heat slowly at night, creating a hot spot.\"\r\n",
       "    },\r\n",
       "    {\r\n",
       "        \"front\": \"What is the Copernicus Climate Data Store ? \",\r\n",
       "        \"back\": \"The Copernicus Climate Data Store is The Copernicus Climate Data Store (CDS) is a web-based platform that provides free access to a vast collection of climate data, including satellite observations, in-situ measurements, climate model projections, and seasonal forecasts, allowing users to explore past, present, and future climate information across the globe. \"\r\n",
       "    },\r\n",
       "\r\n",
       "    {\r\n",
       "        \"front\": \"What is the Copernicus Climate Data Store API ? \",\r\n",
       "        \"back\": \"The Copernicus Climate Data Store API is The Copernicus Climate Data Store API (CDS API) is a programming interface that allows users to access and retrieve climate data from the Copernicus Climate Change Service's (C3S) Climate Data Store (CDS) programmatically using a programming language called Python. \"\r\n",
       "    }, \r\n",
       "    {\r\n",
       "        \"front\": \"What is Healthsites.io ? \",\r\n",
       "        \"back\": \"Healthsites.io is a free, open-source platform that creates and maintains a global map of health facilities. \"\r\n",
       "    },\r\n",
       "    {\r\n",
       "        \"front\": \"What is the Healthsites.io API ? \",\r\n",
       "        \"back\": \"The Healthsites.io API is an online interface that allows developers to access and utilize a global database of healthcare facility locations, providing details like coordinates, services offered, and contact information, primarily sourced from OpenStreetMap data. \"\r\n",
       "    }\r\n",
       "\r\n",
       "];\n",
       "var frontColorsgtFWXLNNfHwm= [\"var(--asparagus)\", \"var(--terra-cotta)\", \"var(--cyan-process)\" ];\n",
       "var backColorsgtFWXLNNfHwm= [\"var(--dark-blue-gray)\" ];\n",
       "var textColorsgtFWXLNNfHwm= [\"var(--snow)\" ];\n",
       "\n",
       "\n",
       "        {\n",
       "        const jmscontroller = new AbortController();\n",
       "        const signal = jmscontroller.signal;\n",
       "\n",
       "        setTimeout(() => jmscontroller.abort(), 5000);\n",
       "\n",
       "        fetch(\"https://raw.githubusercontent.com/PHI-Case-Studies/2024-Climate-Heat-Stress/main/flashcards.json\", {signal})\n",
       "        .then(response => response.json())\n",
       "        .then(json => createCards(\"gtFWXLNNfHwm\", \"True\", \"False\"))\n",
       "        .catch(err => {\n",
       "        console.log(\"Fetch error or timeout\");\n",
       "        try_create(); \n",
       "        });\n",
       "        }\n",
       "        "
      ],
      "text/plain": [
       "<IPython.core.display.Javascript object>"
      ]
     },
     "metadata": {},
     "output_type": "display_data"
    }
   ],
   "source": [
    "# Import micropip for installing dependencies\n",
    "import micropip\n",
    "\n",
    "# Install the jupytercards library\n",
    "await micropip.install('jupytercards')\n",
    "\n",
    "# Import the display_flashcards function from jupytercards\n",
    "from jupytercards import display_flashcards\n",
    "\n",
    "# Define the URL of the flashcards JSON file\n",
    "github_url = 'https://raw.githubusercontent.com/PHI-Case-Studies/2024-Climate-Heat-Stress/main/flashcards.json'\n",
    "\n",
    "# Display the flashcards interactively\n",
    "display_flashcards(github_url)\n",
    "\n",
    "# Note: This code automatically handles cycling through all flashcards interactively.\n",
    "# Simply use the 'Next' button in the flashcards interface to cycle through them.\n"
   ]
  },
  {
   "cell_type": "code",
   "execution_count": null,
   "id": "ea8dabd5-0d9a-4369-a47f-cddebcb5a536",
   "metadata": {},
   "outputs": [],
   "source": []
  },
  {
   "cell_type": "code",
   "execution_count": 1,
   "id": "d2475138-15a5-48ff-8af7-1c749bff97cc",
   "metadata": {},
   "outputs": [
    {
     "data": {
      "text/markdown": [
       "### Flashcard 1"
      ],
      "text/plain": [
       "<IPython.core.display.Markdown object>"
      ]
     },
     "metadata": {},
     "output_type": "display_data"
    },
    {
     "data": {
      "text/markdown": [
       "**Q: What is heat stress ?**"
      ],
      "text/plain": [
       "<IPython.core.display.Markdown object>"
      ]
     },
     "metadata": {},
     "output_type": "display_data"
    },
    {
     "name": "stdin",
     "output_type": "stream",
     "text": [
      "Press Enter to reveal the answer... \n"
     ]
    },
    {
     "data": {
      "text/markdown": [
       "**A: Heat Stress is Heat stress occurs when the body's ability to cool itself is overwhelmed by the amount of heat it absorbs from the environment or produces internally. It can lead to heat-related illnesses like heat exhaustion, heat stroke, heat cramps, and heat rash.**\n"
      ],
      "text/plain": [
       "<IPython.core.display.Markdown object>"
      ]
     },
     "metadata": {},
     "output_type": "display_data"
    },
    {
     "name": "stdin",
     "output_type": "stream",
     "text": [
      "Press Enter to go to the next flashcard...\n",
      " \n"
     ]
    },
    {
     "data": {
      "text/markdown": [
       "### Flashcard 2"
      ],
      "text/plain": [
       "<IPython.core.display.Markdown object>"
      ]
     },
     "metadata": {},
     "output_type": "display_data"
    },
    {
     "data": {
      "text/markdown": [
       "**Q: What are urban heat islands ?**"
      ],
      "text/plain": [
       "<IPython.core.display.Markdown object>"
      ]
     },
     "metadata": {},
     "output_type": "display_data"
    },
    {
     "name": "stdin",
     "output_type": "stream",
     "text": [
      "Press Enter to reveal the answer... \n"
     ]
    },
    {
     "data": {
      "text/markdown": [
       "**A: An urban heat island refers to a phenomenon where a city is significantly warmer than the surrounding rural areas, primarily due to the presence of heat-absorbing surfaces like asphalt roads, buildings, and concrete, which absorb sunlight during the day and release that heat slowly at night, creating a hot spot.**\n"
      ],
      "text/plain": [
       "<IPython.core.display.Markdown object>"
      ]
     },
     "metadata": {},
     "output_type": "display_data"
    },
    {
     "name": "stdin",
     "output_type": "stream",
     "text": [
      "Press Enter to go to the next flashcard...\n",
      " \n"
     ]
    },
    {
     "data": {
      "text/markdown": [
       "### Flashcard 3"
      ],
      "text/plain": [
       "<IPython.core.display.Markdown object>"
      ]
     },
     "metadata": {},
     "output_type": "display_data"
    },
    {
     "data": {
      "text/markdown": [
       "**Q: What is the Copernicus Climate Data Store ? **"
      ],
      "text/plain": [
       "<IPython.core.display.Markdown object>"
      ]
     },
     "metadata": {},
     "output_type": "display_data"
    },
    {
     "name": "stdin",
     "output_type": "stream",
     "text": [
      "Press Enter to reveal the answer... \n"
     ]
    },
    {
     "data": {
      "text/markdown": [
       "**A: The Copernicus Climate Data Store is The Copernicus Climate Data Store (CDS) is a web-based platform that provides free access to a vast collection of climate data, including satellite observations, in-situ measurements, climate model projections, and seasonal forecasts, allowing users to explore past, present, and future climate information across the globe. **\n"
      ],
      "text/plain": [
       "<IPython.core.display.Markdown object>"
      ]
     },
     "metadata": {},
     "output_type": "display_data"
    },
    {
     "name": "stdin",
     "output_type": "stream",
     "text": [
      "Press Enter to go to the next flashcard...\n",
      " \n"
     ]
    },
    {
     "data": {
      "text/markdown": [
       "### Flashcard 4"
      ],
      "text/plain": [
       "<IPython.core.display.Markdown object>"
      ]
     },
     "metadata": {},
     "output_type": "display_data"
    },
    {
     "data": {
      "text/markdown": [
       "**Q: What is the Copernicus Climate Data Store API ? **"
      ],
      "text/plain": [
       "<IPython.core.display.Markdown object>"
      ]
     },
     "metadata": {},
     "output_type": "display_data"
    },
    {
     "name": "stdin",
     "output_type": "stream",
     "text": [
      "Press Enter to reveal the answer... \n"
     ]
    },
    {
     "data": {
      "text/markdown": [
       "**A: The Copernicus Climate Data Store API is The Copernicus Climate Data Store API (CDS API) is a programming interface that allows users to access and retrieve climate data from the Copernicus Climate Change Service's (C3S) Climate Data Store (CDS) programmatically using a programming language called Python. **\n"
      ],
      "text/plain": [
       "<IPython.core.display.Markdown object>"
      ]
     },
     "metadata": {},
     "output_type": "display_data"
    },
    {
     "name": "stdin",
     "output_type": "stream",
     "text": [
      "Press Enter to go to the next flashcard...\n",
      " \n"
     ]
    },
    {
     "data": {
      "text/markdown": [
       "### Flashcard 5"
      ],
      "text/plain": [
       "<IPython.core.display.Markdown object>"
      ]
     },
     "metadata": {},
     "output_type": "display_data"
    },
    {
     "data": {
      "text/markdown": [
       "**Q: What is Healthsites.io ? **"
      ],
      "text/plain": [
       "<IPython.core.display.Markdown object>"
      ]
     },
     "metadata": {},
     "output_type": "display_data"
    },
    {
     "name": "stdin",
     "output_type": "stream",
     "text": [
      "Press Enter to reveal the answer... \n"
     ]
    },
    {
     "data": {
      "text/markdown": [
       "**A: Healthsites.io is a free, open-source platform that creates and maintains a global map of health facilities. **\n"
      ],
      "text/plain": [
       "<IPython.core.display.Markdown object>"
      ]
     },
     "metadata": {},
     "output_type": "display_data"
    },
    {
     "name": "stdin",
     "output_type": "stream",
     "text": [
      "Press Enter to go to the next flashcard...\n",
      " \n"
     ]
    },
    {
     "data": {
      "text/markdown": [
       "### Flashcard 6"
      ],
      "text/plain": [
       "<IPython.core.display.Markdown object>"
      ]
     },
     "metadata": {},
     "output_type": "display_data"
    },
    {
     "data": {
      "text/markdown": [
       "**Q: What is the Healthsites.io API ? **"
      ],
      "text/plain": [
       "<IPython.core.display.Markdown object>"
      ]
     },
     "metadata": {},
     "output_type": "display_data"
    },
    {
     "name": "stdin",
     "output_type": "stream",
     "text": [
      "Press Enter to reveal the answer... \n"
     ]
    },
    {
     "data": {
      "text/markdown": [
       "**A: The Healthsites.io API is an online interface that allows developers to access and utilize a global database of healthcare facility locations, providing details like coordinates, services offered, and contact information, primarily sourced from OpenStreetMap data. **\n"
      ],
      "text/plain": [
       "<IPython.core.display.Markdown object>"
      ]
     },
     "metadata": {},
     "output_type": "display_data"
    },
    {
     "name": "stdin",
     "output_type": "stream",
     "text": [
      "Press Enter to go to the next flashcard...\n",
      " \n"
     ]
    }
   ],
   "source": [
    "import json\n",
    "import micropip\n",
    "from IPython.display import display, Markdown\n",
    "\n",
    "# Install jupytercards library\n",
    "await micropip.install('jupytercards')\n",
    "\n",
    "# Load the flashcards from the JSON file\n",
    "local_flashcards_path = 'flashcards.json'\n",
    "with open(local_flashcards_path, 'r') as file:\n",
    "    flashcards = json.load(file)\n",
    "\n",
    "# Loop through each flashcard and display it\n",
    "for i, flashcard in enumerate(flashcards, start=1):\n",
    "    display(Markdown(f\"### Flashcard {i}\"))\n",
    "    display(Markdown(f\"**Q: {flashcard['front']}**\"))\n",
    "    input(\"Press Enter to reveal the answer...\")\n",
    "    display(Markdown(f\"**A: {flashcard['back']}**\\n\"))\n",
    "    input(\"Press Enter to go to the next flashcard...\\n\")\n"
   ]
  },
  {
   "cell_type": "code",
   "execution_count": null,
   "id": "e4fae03c-aad1-4f4b-83ac-73cccc3e2def",
   "metadata": {},
   "outputs": [],
   "source": []
  },
  {
   "cell_type": "code",
   "execution_count": null,
   "id": "3771563e-361a-47c1-8353-e72a97db5992",
   "metadata": {},
   "outputs": [],
   "source": []
  },
  {
   "cell_type": "code",
   "execution_count": null,
   "id": "38971e6d-7749-4269-b5e7-0d86cfc3f23a",
   "metadata": {},
   "outputs": [],
   "source": [
    "# jupyterquiz"
   ]
  },
  {
   "cell_type": "code",
   "execution_count": null,
   "id": "de29e250-342c-4cd9-8c7f-90943df1321a",
   "metadata": {},
   "outputs": [],
   "source": []
  },
  {
   "cell_type": "markdown",
   "id": "1c8ab5b2-cfb2-4263-84f5-8a8c960df42b",
   "metadata": {},
   "source": [
    "# REFERENCES\n",
    "\n",
    "- Africa Center for Strategic Studies (ACSS) 2023.  Rising Sea Levels Besieging Africa’s Booming Coastal Cities. URL: https://africacenter.org/wp-content/uploads/2023/02/Rising-Sea-Levels-ENG.pdf\n",
    "\n",
    "- Avci A. and Gissing, A. (2022).  Global Risks Report 2022.  https://riskfrontiers.com/insights/global-risks-report-2022/\n",
    "\n",
    "- Boncheva, A. (2022) Innovative Adaptation to Climate Change: Chinese Sponge Cities Program (SCP). Current Urban Studies, 10, 188-211. doi: 10.4236/cus.2022.102011.                  \n",
    "\n",
    "- Bressler, R.D., Moore, F.C., Rennert, K. et al. (2022) Estimates of country level temperature-related mortality damage functions. Sci Rep 11, 20282 (2021). https://doi.org/10.1038/s41598-021-99156-5\n",
    "\n",
    "- Brugnach, M. and van den Hoek, R. (2023). Embracing ambiguity in climate change adaptation for more effective responses to new uncertain shorescapes conditions, Marine Policy, Volume 152, 2023, 105626, ISSN 0308-597X, https://doi.org/10.1016/j.marpol.2023.105626.\n",
    "\n",
    "- CGTN Africa (2023). Rising sea waters threaten Nigeria’s coastal communities. YouTube: https://www.youtube.com/watch?v=RDP7KD7Dgd4\n",
    "\n",
    "- Climate Central. (Mar 2021).  Climate Change Impacts Seniors Living Near the Coast.  URL:  https://www.climatecentral.org/climate-matters/climate-change-impacts-seniors-living-near-the-coast\n",
    "\n",
    "- Climate Central – Coastal Risk Screening Tool.  URL: https://coastal.climatecentral.org/\n",
    "\n",
    "- HIV and the Climate Crisis: Safeguarding Health in a Changing World, A Frontline AIDS Evidence Brief (Dec 2023) URL: https://frontlineaids.org/wp-content/uploads/2023/12/Climate-HIV-Briefing-Paper_update_v1.pdf\n",
    "\n",
    "- IAS 2023: Impacts of climate change on the HIV epidemic (Jul 2023) URL: https://www.idsociety.org/science-speaks-blog/2023/ias-2023-impacts-of-climate-change-on-the-hiv-epidemic/#/+/0/publishedDate_na_dt/desc/\n",
    "\n",
    "- IPCC 2018.  Intergovernmental Panel on Climate Change 2018 report   URL:  https://www.ipcc.ch/site/assets/uploads/2018/03/ipcc_far_wg_I_chapter_09.pdf\n",
    "\n",
    "- Kulldorff M. A spatial scan statistic. Communications in Statistics: Theory and Methods, 1997; 26:1481-1496. URL: https://www.satscan.org/\n",
    "\n",
    "- Kulp, S. A., & Strauss, B. H. (2021). CoastalDEM v2.1: A high-accuracy and high-resolution global coastal elevation model trained on ICESat-2 satellite radar. Climate Central Scientific Report.\n",
    "\n",
    "- Kulp, Scott. 2022. Metadata for Coastal Flood Layers (v2.0) by Climate Central\n",
    "\n",
    "- Lieber, M., Chin-Hong, P., Whittle, H.J. et al. (2021) The Synergistic Relationship Between Climate Change and the HIV/AIDS Epidemic: A Conceptual Framework. AIDS Behav 25, 2266–2277 (2021). https://doi.org/10.1007/s10461-020-03155-y\n",
    "\n",
    "- Madge, Graham (2021) One billion face heat-stress risk from 2 degree Celsius rise.  https://www.metoffice.gov.uk/about-us/news-and-media/media-centre/weather-and-climate-news/2021/2c-rise-to-put-one-in-eight-of-global-population-at-heat-stress-risk \n",
    "\n",
    "- Matthews, Tom KR,  Wilby, RL, and Murphy C. (2017) Communicating the deadly consequences of global warming for human heat stress.   https://doi.org/10.1073/pnas.1617526114\n",
    "\n",
    "- Mora, C., McKenzie, T., Gaw, I.M. et al. (2022) Over half of known human pathogenic diseases can be aggravated by climate change. Nat. Clim. Chang. 12, 869–875 (2022). https://doi.org/10.1038/s41558-022-01426-1\n",
    "\n",
    "- Mora, C., Dousset, B., Caldwell, I. et al. (2017) Global risk of deadly heat. Nature Clim Change 7, 501–506 (2017). https://doi.org/10.1038/nclimate3322\n",
    "\n",
    "- Muis, S. (2016). Global Tide and Surge Reanalysis (GTSR). URL: https://data.4tu.nl/articles/_/12712469/1\n",
    "\n",
    "- Oxfam.  2019.   Oxfam Media Briefing 2 December 2019.  Forced from Home: Climate-fueled displacement.              URL: https://oxfamilibrary.openrepository.com/bitstream/handle/10546/620914/mb-climate-displacement-cop25-021219-en.pdf \n",
    "\n",
    "- PEPFAR 2022. Reimagining PEPFAR's Strategic Direction: Fulfilling America's Promise to End the HIV/AIDS Pandemic by 2030 URL: https://www.state.gov/wp-content/uploads/2022/09/PEPFAR-Strategic-Direction_FINAL.pdf\n",
    "\n",
    "- Perkl R. 2024.  \"Sponge City\" An Ecological Design of an Urban Landscape.  URL: https://geospatialworld.net/prime/sponge-city-water-improve-social-ecological-outcomes/\n",
    "\n",
    "- Renzo R. Guinto, Joshua Joel F. Cahatol, Kris Yvan Mari S. Lazaro, Anna Flora Natividad Cruz Salazar, Pathways linking climate change and HIV/AIDS: An updated conceptual framework and implications for the Philippines,\n",
    "  The Journal of Climate Change and Health, Volume 6, 2022, 100106, ISSN 2667-2782, https://doi.org/10.1016/j.joclim.2021.100106.\n",
    "\n",
    "- Salako, Pelumi. Jan 2024. Why a Nigerian coastal town is on the brink of extinction. Devex. URL: https://www.devex.com/news/why-a-nigerian-coastal-town-is-on-the-brink-of-extinction-106880 YouTube video: https://www.youtube.com/watch?\n",
    "\n",
    "- Sidner, Lauren 2017.  Sponge City: Solutions for China’s Thirsty and Flooded Cities.  URL:  https://www.newsecuritybeat.org/2017/07/sponge-city-solutions-chinas-thirsty-flooded-cities/\n",
    "\n",
    "- Schwingshackl, C., Sillmann, J., Vicedo-Cabrera, A. M., Sandstad, M., & Aunan, K. (2021). Heat stress indicators in CMIP6: Estimating future trends and exceedances of impact-relevant thresholds. Earth's Future, 9, e2020EF001885. https://doi.org/10.1029/2020EF001885\n",
    "\n",
    "- Thailand National Adaptation Plan.  URL:  https://unfccc.int/sites/default/files/resource/NAP_THAILAND_2024.pdf\n",
    "\n",
    "- The Lancet HIV, Effect of climate change on the HIV response, The Lancet HIV, Volume 11, Issue 2, 2024, Page e63, ISSN 2352-3018, https://doi.org/10.1016/S2352-3018(24)00009-2. (https://www.sciencedirect.com/science/article/pii/S2352301824000092)\n",
    "\n",
    "- The Pattern of Response to HIV/AIDS and Climate Change – A Commentary URL: https://www.un.org/en/chronicle/article/pattern-response-hivaids-and-climate-change-commentary\n",
    "\n",
    "- Tobias et. al (2024). PEPFAR Adapts to Sea Level Rise and Storm-Surge: Potential Impacts to Coastal Cities and Facilities (2030)\n",
    "  URL: https://www.researchgate.net/publication/382801849_PEPFAR_Adapts_to_Sea_Level_Rise_and_Storm-Surge_Potential_Impacts_to_Coastal_Cities_and_Facilities_2030\n",
    "\n",
    "- Unger, N. 2023. A Climate Change Adaptation Pivot Like PEPFAR?  url: https://www.csis.org/analysis/climate-change-adaptation-pivot-pepfar\n",
    "\n",
    "- Williams KM, Olisa AL and Wilcher R (2024) Exploring linkages: addressing the relationship between the climate crisis and HIV prevention with recommendations for emerging pre-exposure prophylaxis programs. Front. Reprod. Health 6:1369762. doi: 10.3389/frph.2024.1369762\n",
    "\n",
    "\n"
   ]
  }
 ],
 "metadata": {
  "kernelspec": {
   "display_name": "Python [conda env:holoviews-py3] *",
   "language": "python",
   "name": "conda-env-holoviews-py3-py"
  },
  "language_info": {
   "codemirror_mode": {
    "name": "ipython",
    "version": 3
   },
   "file_extension": ".py",
   "mimetype": "text/x-python",
   "name": "python",
   "nbconvert_exporter": "python",
   "pygments_lexer": "ipython3",
   "version": "3.10.15"
  }
 },
 "nbformat": 4,
 "nbformat_minor": 5
}
