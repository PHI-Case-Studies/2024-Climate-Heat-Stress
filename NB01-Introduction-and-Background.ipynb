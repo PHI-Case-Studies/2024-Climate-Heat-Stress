{
 "cells": [
  {
   "cell_type": "markdown",
   "id": "aae77b03-fd96-4394-9817-577f089aed88",
   "metadata": {},
   "source": [
    "## INTRODUCTION AND BACKGROUND"
   ]
  },
  {
   "cell_type": "code",
   "execution_count": null,
   "id": "2836cb4f-7d16-4544-9542-6acb2ace4c6b",
   "metadata": {},
   "outputs": [],
   "source": []
  },
  {
   "cell_type": "code",
   "execution_count": null,
   "id": "852dec3d-be68-4141-95af-63b1de48373e",
   "metadata": {},
   "outputs": [],
   "source": []
  },
  {
   "cell_type": "markdown",
   "id": "74a2292e-37c6-4c59-ba00-5a3e4ae1c1ef",
   "metadata": {},
   "source": [
    "## Explanation of climate change and heat stress"
   ]
  },
  {
   "cell_type": "code",
   "execution_count": null,
   "id": "51831496-1205-401f-ab22-40bd773c1219",
   "metadata": {},
   "outputs": [],
   "source": []
  },
  {
   "cell_type": "code",
   "execution_count": null,
   "id": "e53f6200-7a05-4b68-986b-60384c565063",
   "metadata": {},
   "outputs": [],
   "source": []
  },
  {
   "cell_type": "markdown",
   "id": "544d1535-ab9f-41e6-898a-c51d5c5235dc",
   "metadata": {},
   "source": [
    "## Historical data on global temperature rise"
   ]
  },
  {
   "cell_type": "code",
   "execution_count": null,
   "id": "de766174-772b-4af9-b757-58a9a9d0ee32",
   "metadata": {},
   "outputs": [],
   "source": []
  },
  {
   "cell_type": "code",
   "execution_count": null,
   "id": "e13beeb3-2dc8-4578-a81b-e0c11d44536a",
   "metadata": {},
   "outputs": [],
   "source": []
  },
  {
   "cell_type": "code",
   "execution_count": null,
   "id": "da9da46a-d9fd-430d-b37b-1bccf3ad876e",
   "metadata": {},
   "outputs": [],
   "source": []
  },
  {
   "cell_type": "markdown",
   "id": "ae43a1c3-8bf0-4479-b78e-3cf7bb9f8440",
   "metadata": {},
   "source": [
    "## Case studies of regions severely affected by heat stress"
   ]
  },
  {
   "cell_type": "code",
   "execution_count": null,
   "id": "1eb52399-927a-47e3-9488-63dfc19f2b13",
   "metadata": {},
   "outputs": [],
   "source": []
  },
  {
   "cell_type": "code",
   "execution_count": null,
   "id": "8acfaed9-58ba-440e-a168-598d72e12398",
   "metadata": {},
   "outputs": [],
   "source": []
  },
  {
   "cell_type": "code",
   "execution_count": null,
   "id": "24bf2535-bebb-4bd5-a288-da439be644a2",
   "metadata": {},
   "outputs": [],
   "source": []
  },
  {
   "cell_type": "markdown",
   "id": "d432ff5a-bfeb-43a0-81a5-3f4271de2675",
   "metadata": {},
   "source": [
    "## Interactive quiz to test understanding"
   ]
  },
  {
   "cell_type": "code",
   "execution_count": null,
   "id": "3e1f62b4-717f-4073-a6c4-a0c4f97e8a13",
   "metadata": {},
   "outputs": [],
   "source": []
  },
  {
   "cell_type": "code",
   "execution_count": null,
   "id": "225d4dc8-6cbb-4c28-b681-793d1d25e4fe",
   "metadata": {},
   "outputs": [],
   "source": []
  },
  {
   "cell_type": "code",
   "execution_count": null,
   "id": "8251b64d-62e5-4502-a73c-dd78b8321795",
   "metadata": {},
   "outputs": [],
   "source": []
  },
  {
   "cell_type": "code",
   "execution_count": null,
   "id": "e856789d-9500-48e0-a8d4-eb0ff42a6e59",
   "metadata": {},
   "outputs": [],
   "source": []
  },
  {
   "cell_type": "markdown",
   "id": "27688727-b4a1-404a-9db1-8f72e98eb5f2",
   "metadata": {},
   "source": [
    "## References"
   ]
  },
  {
   "cell_type": "code",
   "execution_count": null,
   "id": "f21dcc11-5e00-420d-9bb5-83ca884f34aa",
   "metadata": {},
   "outputs": [],
   "source": []
  }
 ],
 "metadata": {
  "kernelspec": {
   "display_name": "Python [conda env:osmnx-py3] *",
   "language": "python",
   "name": "conda-env-osmnx-py3-py"
  },
  "language_info": {
   "codemirror_mode": {
    "name": "ipython",
    "version": 3
   },
   "file_extension": ".py",
   "mimetype": "text/x-python",
   "name": "python",
   "nbconvert_exporter": "python",
   "pygments_lexer": "ipython3",
   "version": "3.9.9"
  }
 },
 "nbformat": 4,
 "nbformat_minor": 5
}
